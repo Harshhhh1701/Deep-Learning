{
  "nbformat": 4,
  "nbformat_minor": 0,
  "metadata": {
    "colab": {
      "provenance": []
    },
    "kernelspec": {
      "name": "python3",
      "display_name": "Python 3"
    },
    "language_info": {
      "name": "python"
    },
    "accelerator": "GPU",
    "gpuClass": "standard"
  },
  "cells": [
    {
      "cell_type": "code",
      "execution_count": null,
      "metadata": {
        "id": "ad8w2ir2smWH"
      },
      "outputs": [],
      "source": [
        "import tensorflow as tf\n",
        "import matplotlib.pyplot as plt\n",
        "from tensorflow.keras import datasets, layers, models, losses, Model"
      ]
    },
    {
      "cell_type": "code",
      "source": [
        "(x_train, y_train), (x_test, y_test)=tf.keras.datasets.mnist.load_data()\n",
        "x_train = tf.pad(x_train, [[0, 0], [2,2], [2,2]])/255\n",
        "x_test = tf.pad(x_test, [[0, 0], [2,2], [2,2]])/255\n",
        "x_train = tf.expand_dims(x_train, axis=3, name=None)\n",
        "x_test = tf.expand_dims(x_test, axis=3, name=None)\n",
        "x_train = tf.repeat(x_train, 3, axis=3)\n",
        "x_test = tf.repeat(x_test, 3, axis=3)\n",
        "x_val = x_train[-2000:,:,:]\n",
        "y_val = y_train[-2000:]\n",
        "x_train = x_train[:-2000,:,:]\n",
        "y_train = y_train[:-2000]"
      ],
      "metadata": {
        "colab": {
          "base_uri": "https://localhost:8080/"
        },
        "id": "AkAdPmUcs2IZ",
        "outputId": "19e33a8d-76f4-4be2-bd71-13305075ecd9"
      },
      "execution_count": null,
      "outputs": [
        {
          "output_type": "stream",
          "name": "stdout",
          "text": [
            "Downloading data from https://storage.googleapis.com/tensorflow/tf-keras-datasets/mnist.npz\n",
            "11490434/11490434 [==============================] - 0s 0us/step\n"
          ]
        }
      ]
    },
    {
      "cell_type": "code",
      "source": [
        "def inception(x,\n",
        "              filters_1x1,\n",
        "              filters_3x3_reduce,\n",
        "              filters_3x3,\n",
        "              filters_5x5_reduce,\n",
        "              filters_5x5,\n",
        "              filters_pool):\n",
        "  path1 = layers.Conv2D(filters_1x1, (1, 1), padding='same', activation='relu')(x)\n",
        "\n",
        "  path2 = layers.Conv2D(filters_3x3_reduce, (1, 1), padding='same', activation='relu')(x)\n",
        "  path2 = layers.Conv2D(filters_3x3, (1, 1), padding='same', activation='relu')(path2)\n",
        "\n",
        "  path3 = layers.Conv2D(filters_5x5_reduce, (1, 1), padding='same', activation='relu')(x)\n",
        "  path3 = layers.Conv2D(filters_5x5, (1, 1), padding='same', activation='relu')(path3)\n",
        "\n",
        "  path4 = layers.MaxPool2D((3, 3), strides=(1, 1), padding='same')(x)\n",
        "  path4 = layers.Conv2D(filters_pool, (1, 1), padding='same', activation='relu')(path4)\n",
        "\n",
        "  return tf.concat([path1, path2, path3, path4], axis=3)"
      ],
      "metadata": {
        "id": "8qgJd8Vrs7do"
      },
      "execution_count": null,
      "outputs": []
    },
    {
      "cell_type": "code",
      "source": [
        "inp = layers.Input(shape=(32, 32, 3))\n",
        "input_tensor = layers.experimental.preprocessing.Resizing(224, 224, interpolation=\"bilinear\", input_shape=x_train.shape[1:])(inp)\n",
        "\n",
        "x = layers.Conv2D(64, 7, strides=2, padding='same', activation='relu')(input_tensor)\n",
        "x = layers.MaxPooling2D(3, strides=2)(x)\n",
        "\n",
        "x = layers.Conv2D(64, 1, strides=1, padding='same', activation='relu')(x)\n",
        "x = layers.Conv2D(192, 3, strides=1, padding='same', activation='relu')(x)\n",
        "\n",
        "x = layers.MaxPooling2D(3, strides=2)(x)\n",
        "\n",
        "x = inception(x,\n",
        "              filters_1x1=64,\n",
        "              filters_3x3_reduce=96,\n",
        "              filters_3x3=128,\n",
        "              filters_5x5_reduce=16,\n",
        "              filters_5x5=32,\n",
        "              filters_pool=32)\n",
        "\n",
        "x = inception(x,\n",
        "              filters_1x1=128,\n",
        "              filters_3x3_reduce=128,\n",
        "              filters_3x3=192,\n",
        "              filters_5x5_reduce=32,\n",
        "              filters_5x5=96,\n",
        "              filters_pool=64)\n",
        "\n",
        "x = layers.MaxPooling2D(3, strides=2)(x)\n",
        "\n",
        "x = inception(x,\n",
        "              filters_1x1=192,\n",
        "              filters_3x3_reduce=96,\n",
        "              filters_3x3=208,\n",
        "              filters_5x5_reduce=16,\n",
        "              filters_5x5=48,\n",
        "              filters_pool=64)\n",
        "\n",
        "aux1 = layers.AveragePooling2D((5, 5), strides=3)(x)\n",
        "aux1 = layers.Conv2D(128, 1, padding='same', activation='relu')(aux1)\n",
        "aux1 = layers.Flatten()(aux1)\n",
        "aux1 = layers.Dense(1024, activation='relu')(aux1)\n",
        "aux1 = layers.Dropout(0.7)(aux1)\n",
        "aux1 = layers.Dense(10, activation='softmax')(aux1)\n",
        "\n",
        "x = inception(x,\n",
        "              filters_1x1=160,\n",
        "              filters_3x3_reduce=112,\n",
        "              filters_3x3=224,\n",
        "              filters_5x5_reduce=24,\n",
        "              filters_5x5=64,\n",
        "              filters_pool=64)\n",
        "\n",
        "x = inception(x,\n",
        "              filters_1x1=128,\n",
        "              filters_3x3_reduce=128,\n",
        "              filters_3x3=256,\n",
        "              filters_5x5_reduce=24,\n",
        "              filters_5x5=64,\n",
        "              filters_pool=64)\n",
        "\n",
        "x = inception(x,\n",
        "              filters_1x1=112,\n",
        "              filters_3x3_reduce=144,\n",
        "              filters_3x3=288,\n",
        "              filters_5x5_reduce=32,\n",
        "              filters_5x5=64,\n",
        "              filters_pool=64)\n",
        "\n",
        "aux2 = layers.AveragePooling2D((5, 5), strides=3)(x)\n",
        "aux2 = layers.Conv2D(128, 1, padding='same', activation='relu')(aux2)\n",
        "aux2 = layers.Flatten()(aux2)\n",
        "aux2 = layers.Dense(1024, activation='relu')(aux2)\n",
        "aux2 = layers.Dropout(0.7)(aux2)\n",
        "aux2 = layers.Dense(10, activation='softmax')(aux2)\n",
        "\n",
        "x = inception(x,\n",
        "              filters_1x1=256,\n",
        "              filters_3x3_reduce=160,\n",
        "              filters_3x3=320,\n",
        "              filters_5x5_reduce=32,\n",
        "              filters_5x5=128,\n",
        "              filters_pool=128)\n",
        "\n",
        "x = layers.MaxPooling2D(3, strides=2)(x)\n",
        "\n",
        "x = inception(x,\n",
        "              filters_1x1=256,\n",
        "              filters_3x3_reduce=160,\n",
        "              filters_3x3=320,\n",
        "              filters_5x5_reduce=32,\n",
        "              filters_5x5=128,\n",
        "              filters_pool=128)\n",
        "\n",
        "x = inception(x,\n",
        "              filters_1x1=384,\n",
        "              filters_3x3_reduce=192,\n",
        "              filters_3x3=384,\n",
        "              filters_5x5_reduce=48,\n",
        "              filters_5x5=128,\n",
        "              filters_pool=128)\n",
        "\n",
        "x = layers.GlobalAveragePooling2D()(x)\n",
        "\n",
        "x = layers.Dropout(0.4)(x)\n",
        "out = layers.Dense(10, activation='softmax')(x)"
      ],
      "metadata": {
        "id": "0RbWejP-tDSt"
      },
      "execution_count": null,
      "outputs": []
    },
    {
      "cell_type": "code",
      "source": [
        "model = Model(inputs = inp, outputs = [out, aux1, aux2])"
      ],
      "metadata": {
        "id": "i5mtbCvEtJYD"
      },
      "execution_count": null,
      "outputs": []
    },
    {
      "cell_type": "code",
      "source": [
        "model.compile(optimizer='adam', loss=[losses.sparse_categorical_crossentropy, losses.sparse_categorical_crossentropy, losses.sparse_categorical_crossentropy], loss_weights=[1, 0.3, 0.3], metrics=['accuracy'])"
      ],
      "metadata": {
        "id": "iSTT0kR7tQl-"
      },
      "execution_count": null,
      "outputs": []
    },
    {
      "cell_type": "code",
      "source": [
        "history = model.fit(x_train, [y_train, y_train, y_train], validation_data=(x_val, [y_val, y_val, y_val]), batch_size=64, epochs=5)"
      ],
      "metadata": {
        "colab": {
          "base_uri": "https://localhost:8080/"
        },
        "id": "pNvvgErBu_LT",
        "outputId": "ad464562-dfba-409f-9d25-da0c14ac5d28"
      },
      "execution_count": null,
      "outputs": [
        {
          "output_type": "stream",
          "name": "stdout",
          "text": [
            "Epoch 1/5\n",
            "907/907 [==============================] - 182s 159ms/step - loss: 1.2023 - dense_4_loss: 0.8676 - dense_1_loss: 0.5369 - dense_3_loss: 0.5789 - dense_4_accuracy: 0.6924 - dense_1_accuracy: 0.8188 - dense_3_accuracy: 0.8005 - val_loss: 0.2126 - val_dense_4_loss: 0.1565 - val_dense_1_loss: 0.0907 - val_dense_3_loss: 0.0961 - val_dense_4_accuracy: 0.9560 - val_dense_1_accuracy: 0.9785 - val_dense_3_accuracy: 0.9745\n",
            "Epoch 2/5\n",
            "907/907 [==============================] - 142s 157ms/step - loss: 0.2282 - dense_4_loss: 0.1545 - dense_1_loss: 0.1170 - dense_3_loss: 0.1285 - dense_4_accuracy: 0.9536 - dense_1_accuracy: 0.9653 - dense_3_accuracy: 0.9611 - val_loss: 0.0877 - val_dense_4_loss: 0.0533 - val_dense_1_loss: 0.0599 - val_dense_3_loss: 0.0546 - val_dense_4_accuracy: 0.9855 - val_dense_1_accuracy: 0.9830 - val_dense_3_accuracy: 0.9845\n",
            "Epoch 3/5\n",
            "907/907 [==============================] - 141s 156ms/step - loss: 0.1571 - dense_4_loss: 0.1048 - dense_1_loss: 0.0839 - dense_3_loss: 0.0903 - dense_4_accuracy: 0.9685 - dense_1_accuracy: 0.9747 - dense_3_accuracy: 0.9720 - val_loss: 0.0742 - val_dense_4_loss: 0.0475 - val_dense_1_loss: 0.0365 - val_dense_3_loss: 0.0525 - val_dense_4_accuracy: 0.9880 - val_dense_1_accuracy: 0.9915 - val_dense_3_accuracy: 0.9850\n",
            "Epoch 4/5\n",
            "907/907 [==============================] - 140s 154ms/step - loss: 0.1229 - dense_4_loss: 0.0812 - dense_1_loss: 0.0677 - dense_3_loss: 0.0712 - dense_4_accuracy: 0.9750 - dense_1_accuracy: 0.9790 - dense_3_accuracy: 0.9785 - val_loss: 0.0854 - val_dense_4_loss: 0.0619 - val_dense_1_loss: 0.0372 - val_dense_3_loss: 0.0410 - val_dense_4_accuracy: 0.9820 - val_dense_1_accuracy: 0.9905 - val_dense_3_accuracy: 0.9890\n",
            "Epoch 5/5\n",
            "907/907 [==============================] - 139s 153ms/step - loss: 0.1079 - dense_4_loss: 0.0712 - dense_1_loss: 0.0587 - dense_3_loss: 0.0638 - dense_4_accuracy: 0.9784 - dense_1_accuracy: 0.9821 - dense_3_accuracy: 0.9808 - val_loss: 0.0629 - val_dense_4_loss: 0.0457 - val_dense_1_loss: 0.0304 - val_dense_3_loss: 0.0270 - val_dense_4_accuracy: 0.9870 - val_dense_1_accuracy: 0.9925 - val_dense_3_accuracy: 0.9920\n"
          ]
        }
      ]
    },
    {
      "cell_type": "code",
      "source": [
        "fig, axs = plt.subplots(2, 1, figsize=(15,15))\n",
        "\n",
        "axs[0].plot(history.history['loss'])\n",
        "axs[0].plot(history.history['val_loss'])\n",
        "axs[0].title.set_text('Training Loss vs Validation Loss')\n",
        "axs[0].set_xlabel('Epochs')\n",
        "axs[0].set_ylabel('Loss')\n",
        "axs[0].legend(['Train','Val'])\n",
        "\n",
        "axs[1].plot(history.history['dense_4_accuracy'])\n",
        "axs[1].plot(history.history['val_dense_4_accuracy'])\n",
        "axs[1].title.set_text('Training Accuracy vs Validation Accuracy')\n",
        "axs[1].set_xlabel('Epochs')\n",
        "axs[1].set_ylabel('Accuracy')\n",
        "axs[1].legend(['Train', 'Val'])"
      ],
      "metadata": {
        "colab": {
          "base_uri": "https://localhost:8080/",
          "height": 910
        },
        "id": "joIFmKYvvTgT",
        "outputId": "789b99f5-e014-40bb-8a7f-e8fa9fff38ab"
      },
      "execution_count": null,
      "outputs": [
        {
          "output_type": "execute_result",
          "data": {
            "text/plain": [
              "<matplotlib.legend.Legend at 0x7ffa70057610>"
            ]
          },
          "metadata": {},
          "execution_count": 8
        },
        {
          "output_type": "display_data",
          "data": {
            "text/plain": [
              "<Figure size 1080x1080 with 2 Axes>"
            ],
            "image/png": "[encoded data removed]"
          },
          "metadata": {
            "needs_background": "light"
          }
        }
      ]
    },
    {
      "cell_type": "code",
      "source": [
        "model.evaluate(x_test, y_test)"
      ],
      "metadata": {
        "colab": {
          "base_uri": "https://localhost:8080/"
        },
        "id": "r8Fel_SLvijn",
        "outputId": "4bd010a3-d35c-4731-9921-b360c1a91ca1"
      },
      "execution_count": null,
      "outputs": [
        {
          "output_type": "stream",
          "name": "stdout",
          "text": [
            "313/313 [==============================] - 10s 27ms/step - loss: 0.0723 - dense_4_loss: 0.0502 - dense_1_loss: 0.0377 - dense_3_loss: 0.0359 - dense_4_accuracy: 0.9833 - dense_1_accuracy: 0.9883 - dense_3_accuracy: 0.9880\n"
          ]
        },
        {
          "output_type": "execute_result",
          "data": {
            "text/plain": [
              "[0.07228653132915497,\n",
              " 0.0502057746052742,\n",
              " 0.0377136655151844,\n",
              " 0.03588878735899925,\n",
              " 0.983299970626831,\n",
              " 0.9883000254631042,\n",
              " 0.9879999756813049]"
            ]
          },
          "metadata": {},
          "execution_count": 9
        }
      ]
    },
    {
      "cell_type": "markdown",
      "source": [
        "Visualizing 1*1 conv\n"
      ],
      "metadata": {
        "id": "Hmvcib3DzndS"
      }
    },
    {
      "cell_type": "code",
      "source": [
        "import numpy as np\n",
        "import matplotlib.pyplot as plt\n",
        "from tensorflow.keras.datasets import mnist\n",
        "from tensorflow.keras.layers import Input, Conv2D, MaxPooling2D, Flatten, Dense\n",
        "from tensorflow.keras.models import Model\n",
        "\n",
        "(x_train, y_train), (x_test, y_test) = mnist.load_data()\n",
        "x_train = np.expand_dims(x_train, axis=-1)\n",
        "x_test = np.expand_dims(x_test, axis=-1)\n"
      ],
      "metadata": {
        "id": "c29C-V6NzqQr"
      },
      "execution_count": null,
      "outputs": []
    },
    {
      "cell_type": "code",
      "source": [
        "# Neural network with a convolutional layer\n",
        "inputs1 = Input(shape=(28, 28, 1))\n",
        "x1 = Conv2D(32, (3, 3), activation='relu')(inputs1)\n",
        "x1 = MaxPooling2D((2, 2))(x1)\n",
        "x1 = Flatten()(x1)\n",
        "outputs1 = Dense(10, activation='softmax')(x1)\n",
        "\n",
        "model1 = Model(inputs1, outputs1)\n",
        "\n",
        "# Neural network with a 1x1 convolutional layer\n",
        "inputs2 = Input(shape=(28, 28, 1))\n",
        "x2 = Conv2D(32, (1, 1), activation='relu')(inputs2)\n",
        "x2 = Conv2D(32, (3, 3), activation='relu')(x2)\n",
        "x2 = MaxPooling2D((2, 2))(x2)\n",
        "x2 = Flatten()(x2)\n",
        "outputs2 = Dense(10, activation='softmax')(x2)\n",
        "\n",
        "model2 = Model(inputs2, outputs2)\n"
      ],
      "metadata": {
        "id": "_hWuSeO6zvTq"
      },
      "execution_count": null,
      "outputs": []
    },
    {
      "cell_type": "code",
      "source": [
        "model1.compile(optimizer='adam', loss='sparse_categorical_crossentropy', metrics=['accuracy'])\n",
        "model1.fit(x_train, y_train, batch_size=128, epochs=10, validation_data=(x_test, y_test))\n",
        "\n",
        "model2.compile(optimizer='adam', loss='sparse_categorical_crossentropy', metrics=['accuracy'])\n",
        "model2.fit(x_train, y_train, batch_size=128, epochs=10, validation_data=(x_test, y_test))\n"
      ],
      "metadata": {
        "colab": {
          "base_uri": "https://localhost:8080/"
        },
        "id": "8mi-0XAbz0Op",
        "outputId": "969460ba-15a9-4e0a-e4e0-5651c5f73e71"
      },
      "execution_count": null,
      "outputs": [
        {
          "output_type": "stream",
          "name": "stdout",
          "text": [
            "Epoch 1/10\n",
            "469/469 [==============================] - 3s 4ms/step - loss: 1.0870 - accuracy: 0.9242 - val_loss: 0.2085 - val_accuracy: 0.9611\n",
            "Epoch 2/10\n",
            "469/469 [==============================] - 2s 4ms/step - loss: 0.1293 - accuracy: 0.9724 - val_loss: 0.1238 - val_accuracy: 0.9708\n",
            "Epoch 3/10\n",
            "469/469 [==============================] - 2s 4ms/step - loss: 0.0650 - accuracy: 0.9825 - val_loss: 0.0996 - val_accuracy: 0.9746\n",
            "Epoch 4/10\n",
            "469/469 [==============================] - 2s 4ms/step - loss: 0.0447 - accuracy: 0.9864 - val_loss: 0.0958 - val_accuracy: 0.9787\n",
            "Epoch 5/10\n",
            "469/469 [==============================] - 2s 5ms/step - loss: 0.0351 - accuracy: 0.9890 - val_loss: 0.1145 - val_accuracy: 0.9748\n",
            "Epoch 6/10\n",
            "469/469 [==============================] - 2s 4ms/step - loss: 0.0288 - accuracy: 0.9906 - val_loss: 0.1259 - val_accuracy: 0.9733\n",
            "Epoch 7/10\n",
            "469/469 [==============================] - 2s 4ms/step - loss: 0.0304 - accuracy: 0.9906 - val_loss: 0.1296 - val_accuracy: 0.9733\n",
            "Epoch 8/10\n",
            "469/469 [==============================] - 3s 6ms/step - loss: 0.0275 - accuracy: 0.9912 - val_loss: 0.1363 - val_accuracy: 0.9723\n",
            "Epoch 9/10\n",
            "469/469 [==============================] - 3s 6ms/step - loss: 0.0244 - accuracy: 0.9923 - val_loss: 0.1243 - val_accuracy: 0.9768\n",
            "Epoch 10/10\n",
            "469/469 [==============================] - 2s 5ms/step - loss: 0.0266 - accuracy: 0.9916 - val_loss: 0.1347 - val_accuracy: 0.9776\n",
            "Epoch 1/10\n",
            "469/469 [==============================] - 5s 7ms/step - loss: 0.4909 - accuracy: 0.9300 - val_loss: 0.1036 - val_accuracy: 0.9672\n",
            "Epoch 2/10\n",
            "469/469 [==============================] - 3s 6ms/step - loss: 0.0803 - accuracy: 0.9757 - val_loss: 0.0872 - val_accuracy: 0.9748\n",
            "Epoch 3/10\n",
            "469/469 [==============================] - 3s 6ms/step - loss: 0.0614 - accuracy: 0.9813 - val_loss: 0.0900 - val_accuracy: 0.9738\n",
            "Epoch 4/10\n",
            "469/469 [==============================] - 3s 7ms/step - loss: 0.0495 - accuracy: 0.9840 - val_loss: 0.0919 - val_accuracy: 0.9776\n",
            "Epoch 5/10\n",
            "469/469 [==============================] - 3s 6ms/step - loss: 0.0431 - accuracy: 0.9860 - val_loss: 0.0932 - val_accuracy: 0.9751\n",
            "Epoch 6/10\n",
            "469/469 [==============================] - 3s 6ms/step - loss: 0.0380 - accuracy: 0.9876 - val_loss: 0.0984 - val_accuracy: 0.9772\n",
            "Epoch 7/10\n",
            "469/469 [==============================] - 3s 6ms/step - loss: 0.0337 - accuracy: 0.9889 - val_loss: 0.1114 - val_accuracy: 0.9740\n",
            "Epoch 8/10\n",
            "469/469 [==============================] - 3s 7ms/step - loss: 0.0298 - accuracy: 0.9906 - val_loss: 0.1016 - val_accuracy: 0.9766\n",
            "Epoch 9/10\n",
            "469/469 [==============================] - 3s 6ms/step - loss: 0.0258 - accuracy: 0.9919 - val_loss: 0.1178 - val_accuracy: 0.9770\n",
            "Epoch 10/10\n",
            "469/469 [==============================] - 3s 6ms/step - loss: 0.0240 - accuracy: 0.9919 - val_loss: 0.1231 - val_accuracy: 0.9742\n"
          ]
        },
        {
          "output_type": "execute_result",
          "data": {
            "text/plain": [
              "<keras.callbacks.History at 0x7ff9e7cd8400>"
            ]
          },
          "metadata": {},
          "execution_count": 12
        }
      ]
    },
    {
      "cell_type": "code",
      "source": [
        "plt.plot(model1.history.history['val_accuracy'], label='Convolutional Layer')\n",
        "plt.plot(model2.history.history['val_accuracy'], label='1x1 Convolutional Layer')\n",
        "plt.legend()\n",
        "plt.show()\n"
      ],
      "metadata": {
        "colab": {
          "base_uri": "https://localhost:8080/",
          "height": 265
        },
        "id": "zweGrH1Pz2lw",
        "outputId": "40c3cbcf-fa74-41a9-a3b6-1dde0340624d"
      },
      "execution_count": null,
      "outputs": [
        {
          "output_type": "display_data",
          "data": {
            "text/plain": [
              "<Figure size 432x288 with 1 Axes>"
            ],
            "image/png": "[encoded data removed]"
          },
          "metadata": {
            "needs_background": "light"
          }
        }
      ]
    },
    {
      "cell_type": "markdown",
      "source": [
        "BATCH NORMALISATION\n"
      ],
      "metadata": {
        "id": "pH2E6AB14FMn"
      }
    },
    {
      "cell_type": "code",
      "source": [
        "import numpy as np\n",
        "import matplotlib.pyplot as plt\n",
        "from tensorflow.keras.datasets import mnist\n",
        "from tensorflow.keras.layers import Input, Dense, Flatten, BatchNormalization\n",
        "from tensorflow.keras.models import Model\n",
        "\n",
        "(x_train, y_train), (x_test, y_test) = mnist.load_data()\n"
      ],
      "metadata": {
        "id": "GNsjcDlw4Nrh"
      },
      "execution_count": null,
      "outputs": []
    },
    {
      "cell_type": "code",
      "source": [
        "x_train = x_train.reshape(-1, 28*28).astype('float32') / 255.\n",
        "x_test = x_test.reshape(-1, 28*28).astype('float32') / 255.\n"
      ],
      "metadata": {
        "id": "D3zP-Rkc4PQD"
      },
      "execution_count": null,
      "outputs": []
    },
    {
      "cell_type": "code",
      "source": [
        "# Neural network without Batch Normalization\n",
        "inputs1 = Input(shape=(784,))\n",
        "x1 = Dense(128, activation='relu')(inputs1)\n",
        "x1 = Dense(64, activation='relu')(x1)\n",
        "outputs1 = Dense(10, activation='softmax')(x1)\n",
        "\n",
        "model1 = Model(inputs1, outputs1)\n",
        "\n",
        "# Neural network with Batch Normalization\n",
        "inputs2 = Input(shape=(784,))\n",
        "x2 = Dense(128, activation='relu')(inputs2)\n",
        "x2 = BatchNormalization()(x2)\n",
        "x2 = Dense(64, activation='relu')(x2)\n",
        "x2 = BatchNormalization()(x2)\n",
        "outputs2 = Dense(10, activation='softmax')(x2)\n",
        "\n",
        "model2 = Model(inputs2, outputs2)\n"
      ],
      "metadata": {
        "id": "14gi50SQ4RY6"
      },
      "execution_count": null,
      "outputs": []
    },
    {
      "cell_type": "code",
      "source": [
        "model1.compile(optimizer='adam', loss='sparse_categorical_crossentropy', metrics=['accuracy'])\n",
        "model1.fit(x_train, y_train, batch_size=128, epochs=10, validation_data=(x_test, y_test))\n",
        "\n",
        "model2.compile(optimizer='adam', loss='sparse_categorical_crossentropy', metrics=['accuracy'])\n",
        "model2.fit(x_train, y_train, batch_size=128, epochs=10, validation_data=(x_test, y_test))\n"
      ],
      "metadata": {
        "colab": {
          "base_uri": "https://localhost:8080/"
        },
        "id": "qSKfEX504SD-",
        "outputId": "f070fcff-e885-4851-b4f1-19404ee01c24"
      },
      "execution_count": null,
      "outputs": [
        {
          "output_type": "stream",
          "name": "stdout",
          "text": [
            "Epoch 1/10\n",
            "469/469 [==============================] - 3s 4ms/step - loss: 1.2900 - accuracy: 0.6339 - val_loss: 0.6806 - val_accuracy: 0.7910\n",
            "Epoch 2/10\n",
            "469/469 [==============================] - 2s 4ms/step - loss: 0.5872 - accuracy: 0.8205 - val_loss: 0.5072 - val_accuracy: 0.8485\n",
            "Epoch 3/10\n",
            "469/469 [==============================] - 2s 5ms/step - loss: 0.4632 - accuracy: 0.8615 - val_loss: 0.4076 - val_accuracy: 0.8771\n",
            "Epoch 4/10\n",
            "469/469 [==============================] - 2s 4ms/step - loss: 0.3959 - accuracy: 0.8836 - val_loss: 0.3636 - val_accuracy: 0.8935\n",
            "Epoch 5/10\n",
            "469/469 [==============================] - 2s 4ms/step - loss: 0.3566 - accuracy: 0.8954 - val_loss: 0.3370 - val_accuracy: 0.9015\n",
            "Epoch 6/10\n",
            "469/469 [==============================] - 2s 4ms/step - loss: 0.3302 - accuracy: 0.9041 - val_loss: 0.3111 - val_accuracy: 0.9081\n",
            "Epoch 7/10\n",
            "469/469 [==============================] - 2s 4ms/step - loss: 0.3087 - accuracy: 0.9105 - val_loss: 0.2926 - val_accuracy: 0.9145\n",
            "Epoch 8/10\n",
            "469/469 [==============================] - 2s 4ms/step - loss: 0.2905 - accuracy: 0.9158 - val_loss: 0.2794 - val_accuracy: 0.9175\n",
            "Epoch 9/10\n",
            "469/469 [==============================] - 2s 4ms/step - loss: 0.2753 - accuracy: 0.9201 - val_loss: 0.2671 - val_accuracy: 0.9210\n",
            "Epoch 10/10\n",
            "469/469 [==============================] - 2s 4ms/step - loss: 0.2601 - accuracy: 0.9240 - val_loss: 0.2530 - val_accuracy: 0.9252\n",
            "Epoch 1/10\n",
            "469/469 [==============================] - 5s 6ms/step - loss: 0.3187 - accuracy: 0.9085 - val_loss: 1.6287 - val_accuracy: 0.3382\n",
            "Epoch 2/10\n",
            "469/469 [==============================] - 2s 5ms/step - loss: 0.1525 - accuracy: 0.9557 - val_loss: 0.1601 - val_accuracy: 0.9489\n",
            "Epoch 3/10\n",
            "469/469 [==============================] - 3s 6ms/step - loss: 0.1108 - accuracy: 0.9666 - val_loss: 0.1382 - val_accuracy: 0.9563\n",
            "Epoch 4/10\n",
            "469/469 [==============================] - 2s 5ms/step - loss: 0.0910 - accuracy: 0.9733 - val_loss: 0.1062 - val_accuracy: 0.9680\n",
            "Epoch 5/10\n",
            "469/469 [==============================] - 2s 5ms/step - loss: 0.0786 - accuracy: 0.9764 - val_loss: 0.1247 - val_accuracy: 0.9592\n",
            "Epoch 6/10\n",
            "469/469 [==============================] - 2s 5ms/step - loss: 0.0673 - accuracy: 0.9790 - val_loss: 0.1265 - val_accuracy: 0.9611\n",
            "Epoch 7/10\n",
            "469/469 [==============================] - 2s 5ms/step - loss: 0.0592 - accuracy: 0.9813 - val_loss: 0.0956 - val_accuracy: 0.9703\n",
            "Epoch 8/10\n",
            "469/469 [==============================] - 3s 6ms/step - loss: 0.0535 - accuracy: 0.9829 - val_loss: 0.1366 - val_accuracy: 0.9567\n",
            "Epoch 9/10\n",
            "469/469 [==============================] - 2s 5ms/step - loss: 0.0476 - accuracy: 0.9851 - val_loss: 0.1166 - val_accuracy: 0.9649\n",
            "Epoch 10/10\n",
            "469/469 [==============================] - 2s 5ms/step - loss: 0.0443 - accuracy: 0.9862 - val_loss: 0.1073 - val_accuracy: 0.9653\n"
          ]
        },
        {
          "output_type": "execute_result",
          "data": {
            "text/plain": [
              "<keras.callbacks.History at 0x7ffa869259d0>"
            ]
          },
          "metadata": {},
          "execution_count": 23
        }
      ]
    },
    {
      "cell_type": "code",
      "source": [
        "plt.plot(model1.history.history['val_accuracy'], label='No BatchNorm')\n",
        "plt.plot(model2.history.history['val_accuracy'], label='With BatchNorm')\n",
        "plt.legend()\n",
        "plt.show()\n"
      ],
      "metadata": {
        "colab": {
          "base_uri": "https://localhost:8080/",
          "height": 269
        },
        "id": "xdqXSw-g4ZSs",
        "outputId": "e5c14985-9d1b-4052-ffa2-f5969302b09f"
      },
      "execution_count": null,
      "outputs": [
        {
          "output_type": "display_data",
          "data": {
            "text/plain": [
              "<Figure size 432x288 with 1 Axes>"
            ],
            "image/png": "[encoded data removed]"
          },
          "metadata": {
            "needs_background": "light"
          }
        }
      ]
    }
  ]
}