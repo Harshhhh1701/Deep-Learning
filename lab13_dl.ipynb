{
  "metadata": {
    "kernelspec": {
      "language": "python",
      "display_name": "Python 3",
      "name": "python3"
    },
    "language_info": {
      "name": "python",
      "version": "3.7.12",
      "mimetype": "text/x-python",
      "codemirror_mode": {
        "name": "ipython",
        "version": 3
      },
      "pygments_lexer": "ipython3",
      "nbconvert_exporter": "python",
      "file_extension": ".py"
    },
    "colab": {
      "provenance": []
    }
  },
  "nbformat_minor": 0,
  "nbformat": 4,
  "cells": [
    {
      "cell_type": "code",
      "source": [
        "# This Python 3 environment comes with many helpful analytics libraries installed\n",
        "# It is defined by the kaggle/python Docker image: https://github.com/kaggle/docker-python\n",
        "# For example, here's several helpful packages to load\n",
        "\n",
        "import numpy as np # linear algebra\n",
        "import pandas as pd # data processing, CSV file I/O (e.g. pd.read_csv)\n",
        "\n",
        "# Input data files are available in the read-only \"../input/\" directory\n",
        "# For example, running this (by clicking run or pressing Shift+Enter) will list all files under the input directory\n",
        "\n",
        "import os\n",
        "for dirname, _, filenames in os.walk('/kaggle/input'):\n",
        "    for filename in filenames:\n",
        "        print(os.path.join(dirname, filename))\n",
        "\n",
        "# You can write up to 20GB to the current directory (/kaggle/working/) that gets preserved as output when you create a version using \"Save & Run All\" \n",
        "# You can also write temporary files to /kaggle/temp/, but they won't be saved outside of the current session"
      ],
      "metadata": {
        "_uuid": "8f2839f25d086af736a60e9eeb907d3b93b6e0e5",
        "_cell_guid": "b1076dfc-b9ad-4769-8c92-a6c4dae69d19",
        "execution": {
          "iopub.status.busy": "2023-03-30T15:54:58.996790Z",
          "iopub.execute_input": "2023-03-30T15:54:58.997409Z",
          "iopub.status.idle": "2023-03-30T15:54:59.011293Z",
          "shell.execute_reply.started": "2023-03-30T15:54:58.997371Z",
          "shell.execute_reply": "2023-03-30T15:54:59.010329Z"
        },
        "trusted": true,
        "id": "Di7KyzpmdxsK",
        "outputId": "33a5203e-01a1-4b94-fae0-02f4d6c7c87d"
      },
      "execution_count": null,
      "outputs": [
        {
          "name": "stdout",
          "text": "/kaggle/input/california-housing-prices/housing.csv\n",
          "output_type": "stream"
        }
      ]
    },
    {
      "cell_type": "code",
      "source": [
        "import math\n",
        "import pandas as pd\n",
        "import tensorflow as tf\n",
        "import kerastuner.tuners as kt\n",
        "import matplotlib.pyplot as plt\n",
        "from tensorflow.keras import Model\n",
        "from tensorflow.keras import Sequential\n",
        "from sklearn.preprocessing import StandardScaler\n",
        "from tensorflow.keras.layers import Dense, Dropout\n",
        "from sklearn.model_selection import train_test_split\n",
        "from tensorflow.keras.losses import MeanSquaredLogarithmicError"
      ],
      "metadata": {
        "execution": {
          "iopub.status.busy": "2023-03-30T15:54:49.069984Z",
          "iopub.execute_input": "2023-03-30T15:54:49.070399Z",
          "iopub.status.idle": "2023-03-30T15:54:58.994684Z",
          "shell.execute_reply.started": "2023-03-30T15:54:49.070359Z",
          "shell.execute_reply": "2023-03-30T15:54:58.993267Z"
        },
        "trusted": true,
        "id": "LIQ8raYPdxsS",
        "outputId": "b168b09e-c363-4bb2-e63a-706b20608709"
      },
      "execution_count": null,
      "outputs": [
        {
          "name": "stderr",
          "text": "/opt/conda/lib/python3.7/site-packages/ipykernel_launcher.py:4: DeprecationWarning: `import kerastuner` is deprecated, please use `import keras_tuner`.\n  after removing the cwd from sys.path.\n",
          "output_type": "stream"
        }
      ]
    },
    {
      "cell_type": "code",
      "source": [
        "TRAIN_DATA_PATH = '/kaggle/input/california-housing-prices/housing.csv'\n",
        "\n",
        "TARGET_NAME = 'median_house_value'\n",
        "\n",
        "data = pd.read_csv(TRAIN_DATA_PATH)\n",
        "data=data.drop(\"ocean_proximity\", axis=1)\n",
        "\n",
        "x_train, x_test, y_train, y_test = train_test_split(data.drop(TARGET_NAME, axis=1), data[TARGET_NAME], test_size=0.33, random_state=42)"
      ],
      "metadata": {
        "execution": {
          "iopub.status.busy": "2023-03-30T16:10:10.266808Z",
          "iopub.execute_input": "2023-03-30T16:10:10.267335Z",
          "iopub.status.idle": "2023-03-30T16:10:10.323439Z",
          "shell.execute_reply.started": "2023-03-30T16:10:10.267293Z",
          "shell.execute_reply": "2023-03-30T16:10:10.322266Z"
        },
        "trusted": true,
        "id": "-e4XBQGydxsT"
      },
      "execution_count": null,
      "outputs": []
    },
    {
      "cell_type": "code",
      "source": [
        "x_train.head()"
      ],
      "metadata": {
        "execution": {
          "iopub.status.busy": "2023-03-30T16:10:15.184990Z",
          "iopub.execute_input": "2023-03-30T16:10:15.185438Z",
          "iopub.status.idle": "2023-03-30T16:10:15.207338Z",
          "shell.execute_reply.started": "2023-03-30T16:10:15.185401Z",
          "shell.execute_reply": "2023-03-30T16:10:15.205760Z"
        },
        "trusted": true,
        "id": "qSlBVTAJdxsT",
        "outputId": "50bccaec-b6d5-47c2-ef27-99323341cbc4"
      },
      "execution_count": null,
      "outputs": [
        {
          "execution_count": 25,
          "output_type": "execute_result",
          "data": {
            "text/plain": "       longitude  latitude  housing_median_age  total_rooms  total_bedrooms  \\\n5088     -118.28     33.98                19.0        883.0           313.0   \n17096    -122.23     37.46                33.0       2643.0           464.0   \n5617     -118.26     33.79                42.0       1162.0           264.0   \n20060    -119.26     35.87                24.0       1590.0           390.0   \n895      -121.96     37.54                14.0       5106.0          1207.0   \n\n       population  households  median_income  \n5088        726.0       277.0         0.9809  \n17096      1015.0       427.0         4.2232  \n5617       1044.0       241.0         3.5488  \n20060      1686.0       372.0         1.6469  \n895        2738.0      1108.0         3.9909  ",
            "text/html": "<div>\n<style scoped>\n    .dataframe tbody tr th:only-of-type {\n        vertical-align: middle;\n    }\n\n    .dataframe tbody tr th {\n        vertical-align: top;\n    }\n\n    .dataframe thead th {\n        text-align: right;\n    }\n</style>\n<table border=\"1\" class=\"dataframe\">\n  <thead>\n    <tr style=\"text-align: right;\">\n      <th></th>\n      <th>longitude</th>\n      <th>latitude</th>\n      <th>housing_median_age</th>\n      <th>total_rooms</th>\n      <th>total_bedrooms</th>\n      <th>population</th>\n      <th>households</th>\n      <th>median_income</th>\n    </tr>\n  </thead>\n  <tbody>\n    <tr>\n      <th>5088</th>\n      <td>-118.28</td>\n      <td>33.98</td>\n      <td>19.0</td>\n      <td>883.0</td>\n      <td>313.0</td>\n      <td>726.0</td>\n      <td>277.0</td>\n      <td>0.9809</td>\n    </tr>\n    <tr>\n      <th>17096</th>\n      <td>-122.23</td>\n      <td>37.46</td>\n      <td>33.0</td>\n      <td>2643.0</td>\n      <td>464.0</td>\n      <td>1015.0</td>\n      <td>427.0</td>\n      <td>4.2232</td>\n    </tr>\n    <tr>\n      <th>5617</th>\n      <td>-118.26</td>\n      <td>33.79</td>\n      <td>42.0</td>\n      <td>1162.0</td>\n      <td>264.0</td>\n      <td>1044.0</td>\n      <td>241.0</td>\n      <td>3.5488</td>\n    </tr>\n    <tr>\n      <th>20060</th>\n      <td>-119.26</td>\n      <td>35.87</td>\n      <td>24.0</td>\n      <td>1590.0</td>\n      <td>390.0</td>\n      <td>1686.0</td>\n      <td>372.0</td>\n      <td>1.6469</td>\n    </tr>\n    <tr>\n      <th>895</th>\n      <td>-121.96</td>\n      <td>37.54</td>\n      <td>14.0</td>\n      <td>5106.0</td>\n      <td>1207.0</td>\n      <td>2738.0</td>\n      <td>1108.0</td>\n      <td>3.9909</td>\n    </tr>\n  </tbody>\n</table>\n</div>"
          },
          "metadata": {}
        }
      ]
    },
    {
      "cell_type": "code",
      "source": [
        "from sklearn.preprocessing import OneHotEncoder\n",
        "\n",
        "enc = OneHotEncoder()"
      ],
      "metadata": {
        "execution": {
          "iopub.status.busy": "2023-03-30T16:11:03.043400Z",
          "iopub.execute_input": "2023-03-30T16:11:03.043863Z",
          "iopub.status.idle": "2023-03-30T16:11:03.050168Z",
          "shell.execute_reply.started": "2023-03-30T16:11:03.043824Z",
          "shell.execute_reply": "2023-03-30T16:11:03.048852Z"
        },
        "trusted": true,
        "id": "PG1-cPSfdxsU"
      },
      "execution_count": null,
      "outputs": []
    },
    {
      "cell_type": "code",
      "source": [
        "from sklearn.preprocessing import MinMaxScaler\n",
        "\n",
        "def scale_datasets(x_train, x_test):\n",
        "  \"\"\"\n",
        "  Standard Scale test and train data\n",
        "  \"\"\"\n",
        "  standard_scaler = MinMaxScaler()\n",
        "  x_train_scaled = pd.DataFrame(\n",
        "      standard_scaler.fit_transform(x_train),\n",
        "      columns=x_train.columns\n",
        "  )\n",
        "  x_test_scaled = pd.DataFrame(\n",
        "      standard_scaler.transform(x_test),\n",
        "      columns = x_test.columns\n",
        "  )\n",
        "  return x_train_scaled, x_test_scaled\n",
        "  \n",
        "x_train_scaled, x_test_scaled = scale_datasets(x_train, x_test)\n",
        "\n"
      ],
      "metadata": {
        "execution": {
          "iopub.status.busy": "2023-03-30T16:11:04.724138Z",
          "iopub.execute_input": "2023-03-30T16:11:04.725353Z",
          "iopub.status.idle": "2023-03-30T16:11:04.739112Z",
          "shell.execute_reply.started": "2023-03-30T16:11:04.725310Z",
          "shell.execute_reply": "2023-03-30T16:11:04.737962Z"
        },
        "trusted": true,
        "id": "YjADy-h8dxsV"
      },
      "execution_count": null,
      "outputs": []
    },
    {
      "cell_type": "code",
      "source": [
        "import tensorflow\n",
        "class AutoEncodersZ(tensorflow.keras.Model):\n",
        "\n",
        "  def __init__(self, output_units):\n",
        "\n",
        "    super().__init__()\n",
        "    self.encoder = Sequential(\n",
        "        [\n",
        "          Dense(32, activation=\"relu\"),\n",
        "          Dense(16, activation=\"relu\"),\n",
        "          Dense(7, activation=\"relu\")\n",
        "        ]\n",
        "    )\n",
        "\n",
        "    self.decoder = Sequential(\n",
        "        [\n",
        "          Dense(16, activation=\"relu\"),\n",
        "          Dense(32, activation=\"relu\"),\n",
        "          Dense(output_units, activation=\"sigmoid\")\n",
        "        ]\n",
        "    )\n",
        "\n",
        "  def call(self, inputs):\n",
        "\n",
        "    encoded = self.encoder(inputs)\n",
        "    decoded = self.decoder(encoded)\n",
        "    return decoded\n",
        "\n",
        "auto_encoder = AutoEncodersZ(len(x_train_scaled.columns))\n",
        "\n",
        "auto_encoder.compile(\n",
        "    loss='mae',\n",
        "    metrics=['mae'],\n",
        "    optimizer='adam'\n",
        ")\n",
        "\n",
        "history = auto_encoder.fit(\n",
        "    x_train_scaled, \n",
        "    x_train_scaled, \n",
        "    epochs=15, \n",
        "    batch_size=32, \n",
        "    validation_data=(x_test_scaled, x_test_scaled)\n",
        ")\n"
      ],
      "metadata": {
        "execution": {
          "iopub.status.busy": "2023-03-30T16:15:28.446625Z",
          "iopub.execute_input": "2023-03-30T16:15:28.447738Z",
          "iopub.status.idle": "2023-03-30T16:15:48.200197Z",
          "shell.execute_reply.started": "2023-03-30T16:15:28.447693Z",
          "shell.execute_reply": "2023-03-30T16:15:48.198979Z"
        },
        "trusted": true,
        "id": "ur1DSoAsdxsW",
        "outputId": "b7cc22b6-47e5-4edd-d254-c0a22bc1f288"
      },
      "execution_count": null,
      "outputs": [
        {
          "name": "stdout",
          "text": "Epoch 1/15\n433/433 [==============================] - 3s 3ms/step - loss: 0.0954 - mae: 0.0954 - val_loss: nan - val_mae: nan\nEpoch 2/15\n433/433 [==============================] - 1s 3ms/step - loss: 0.0281 - mae: 0.0281 - val_loss: nan - val_mae: nan\nEpoch 3/15\n433/433 [==============================] - 1s 3ms/step - loss: 0.0195 - mae: 0.0195 - val_loss: nan - val_mae: nan\nEpoch 4/15\n433/433 [==============================] - 1s 3ms/step - loss: 0.0159 - mae: 0.0159 - val_loss: nan - val_mae: nan\nEpoch 5/15\n433/433 [==============================] - 1s 3ms/step - loss: 0.0148 - mae: 0.0148 - val_loss: nan - val_mae: nan\nEpoch 6/15\n433/433 [==============================] - 1s 3ms/step - loss: 0.0140 - mae: 0.0140 - val_loss: nan - val_mae: nan\nEpoch 7/15\n433/433 [==============================] - 1s 3ms/step - loss: 0.0136 - mae: 0.0136 - val_loss: nan - val_mae: nan\nEpoch 8/15\n433/433 [==============================] - 1s 3ms/step - loss: 0.0132 - mae: 0.0132 - val_loss: nan - val_mae: nan\nEpoch 9/15\n433/433 [==============================] - 1s 3ms/step - loss: 0.0128 - mae: 0.0128 - val_loss: nan - val_mae: nan\nEpoch 10/15\n433/433 [==============================] - 1s 3ms/step - loss: 0.0124 - mae: 0.0124 - val_loss: nan - val_mae: nan\nEpoch 11/15\n433/433 [==============================] - 2s 4ms/step - loss: 0.0119 - mae: 0.0119 - val_loss: nan - val_mae: nan\nEpoch 12/15\n433/433 [==============================] - 1s 3ms/step - loss: 0.0100 - mae: 0.0100 - val_loss: nan - val_mae: nan\nEpoch 13/15\n433/433 [==============================] - 1s 3ms/step - loss: 0.0089 - mae: 0.0089 - val_loss: nan - val_mae: nan\nEpoch 14/15\n433/433 [==============================] - 1s 3ms/step - loss: 0.0082 - mae: 0.0082 - val_loss: nan - val_mae: nan\nEpoch 15/15\n433/433 [==============================] - 1s 3ms/step - loss: 0.0078 - mae: 0.0078 - val_loss: nan - val_mae: nan\n",
          "output_type": "stream"
        }
      ]
    },
    {
      "cell_type": "code",
      "source": [
        "encoder_layer = auto_encoder.get_layer('sequential_9')\n",
        "reduced_df = pd.DataFrame(encoder_layer.predict(x_train_scaled))\n",
        "reduced_df = reduced_df.add_prefix('feature_')"
      ],
      "metadata": {
        "execution": {
          "iopub.status.busy": "2023-03-30T16:16:14.893905Z",
          "iopub.execute_input": "2023-03-30T16:16:14.894536Z",
          "iopub.status.idle": "2023-03-30T16:16:15.817836Z",
          "shell.execute_reply.started": "2023-03-30T16:16:14.894488Z",
          "shell.execute_reply": "2023-03-30T16:16:15.816590Z"
        },
        "trusted": true,
        "id": "Y7eF8ANQdxsX",
        "outputId": "bacb3e7a-5733-484f-d7c6-636923b8685b"
      },
      "execution_count": null,
      "outputs": [
        {
          "name": "stdout",
          "text": "433/433 [==============================] - 1s 1ms/step\n",
          "output_type": "stream"
        }
      ]
    },
    {
      "cell_type": "code",
      "source": [
        "reduced_df"
      ],
      "metadata": {
        "execution": {
          "iopub.status.busy": "2023-03-30T16:16:39.707936Z",
          "iopub.execute_input": "2023-03-30T16:16:39.708347Z",
          "iopub.status.idle": "2023-03-30T16:16:39.728841Z",
          "shell.execute_reply.started": "2023-03-30T16:16:39.708314Z",
          "shell.execute_reply": "2023-03-30T16:16:39.727523Z"
        },
        "trusted": true,
        "id": "_DYQ-l6GdxsY",
        "outputId": "d72fc647-595d-4a00-940f-69ad246b6b50"
      },
      "execution_count": null,
      "outputs": [
        {
          "execution_count": 38,
          "output_type": "execute_result",
          "data": {
            "text/plain": "       feature_0  feature_1  feature_2  feature_3  feature_4  feature_5  \\\n0       2.019948   0.539943   0.249304        0.0   0.074842   1.167672   \n1       1.319110   1.315158   0.201463        0.0   0.000000   1.295131   \n2       1.793758   0.997997   0.166512        0.0   0.111388   1.385049   \n3       1.739620   0.773187   0.355349        0.0   0.000000   1.261802   \n4       0.976184   0.806693   0.337698        0.0   0.000000   0.910623   \n...          ...        ...        ...        ...        ...        ...   \n13823   1.603865   0.987634   0.245582        0.0   0.136966   0.938953   \n13824   1.544789   0.619815   0.365031        0.0   0.120341   1.178957   \n13825   1.540475   0.732559   0.228039        0.0   0.079202   1.280595   \n13826   1.071428   1.029045   0.337880        0.0   0.000000   0.767349   \n13827   1.127623   1.568862   0.071405        0.0   0.000000   2.170008   \n\n       feature_6  \n0       1.007334  \n1       0.763481  \n2       1.542997  \n3       0.863468  \n4       0.287431  \n...          ...  \n13823   1.504014  \n13824   1.256493  \n13825   1.247622  \n13826   0.445765  \n13827   1.151892  \n\n[13828 rows x 7 columns]",
            "text/html": "<div>\n<style scoped>\n    .dataframe tbody tr th:only-of-type {\n        vertical-align: middle;\n    }\n\n    .dataframe tbody tr th {\n        vertical-align: top;\n    }\n\n    .dataframe thead th {\n        text-align: right;\n    }\n</style>\n<table border=\"1\" class=\"dataframe\">\n  <thead>\n    <tr style=\"text-align: right;\">\n      <th></th>\n      <th>feature_0</th>\n      <th>feature_1</th>\n      <th>feature_2</th>\n      <th>feature_3</th>\n      <th>feature_4</th>\n      <th>feature_5</th>\n      <th>feature_6</th>\n    </tr>\n  </thead>\n  <tbody>\n    <tr>\n      <th>0</th>\n      <td>2.019948</td>\n      <td>0.539943</td>\n      <td>0.249304</td>\n      <td>0.0</td>\n      <td>0.074842</td>\n      <td>1.167672</td>\n      <td>1.007334</td>\n    </tr>\n    <tr>\n      <th>1</th>\n      <td>1.319110</td>\n      <td>1.315158</td>\n      <td>0.201463</td>\n      <td>0.0</td>\n      <td>0.000000</td>\n      <td>1.295131</td>\n      <td>0.763481</td>\n    </tr>\n    <tr>\n      <th>2</th>\n      <td>1.793758</td>\n      <td>0.997997</td>\n      <td>0.166512</td>\n      <td>0.0</td>\n      <td>0.111388</td>\n      <td>1.385049</td>\n      <td>1.542997</td>\n    </tr>\n    <tr>\n      <th>3</th>\n      <td>1.739620</td>\n      <td>0.773187</td>\n      <td>0.355349</td>\n      <td>0.0</td>\n      <td>0.000000</td>\n      <td>1.261802</td>\n      <td>0.863468</td>\n    </tr>\n    <tr>\n      <th>4</th>\n      <td>0.976184</td>\n      <td>0.806693</td>\n      <td>0.337698</td>\n      <td>0.0</td>\n      <td>0.000000</td>\n      <td>0.910623</td>\n      <td>0.287431</td>\n    </tr>\n    <tr>\n      <th>...</th>\n      <td>...</td>\n      <td>...</td>\n      <td>...</td>\n      <td>...</td>\n      <td>...</td>\n      <td>...</td>\n      <td>...</td>\n    </tr>\n    <tr>\n      <th>13823</th>\n      <td>1.603865</td>\n      <td>0.987634</td>\n      <td>0.245582</td>\n      <td>0.0</td>\n      <td>0.136966</td>\n      <td>0.938953</td>\n      <td>1.504014</td>\n    </tr>\n    <tr>\n      <th>13824</th>\n      <td>1.544789</td>\n      <td>0.619815</td>\n      <td>0.365031</td>\n      <td>0.0</td>\n      <td>0.120341</td>\n      <td>1.178957</td>\n      <td>1.256493</td>\n    </tr>\n    <tr>\n      <th>13825</th>\n      <td>1.540475</td>\n      <td>0.732559</td>\n      <td>0.228039</td>\n      <td>0.0</td>\n      <td>0.079202</td>\n      <td>1.280595</td>\n      <td>1.247622</td>\n    </tr>\n    <tr>\n      <th>13826</th>\n      <td>1.071428</td>\n      <td>1.029045</td>\n      <td>0.337880</td>\n      <td>0.0</td>\n      <td>0.000000</td>\n      <td>0.767349</td>\n      <td>0.445765</td>\n    </tr>\n    <tr>\n      <th>13827</th>\n      <td>1.127623</td>\n      <td>1.568862</td>\n      <td>0.071405</td>\n      <td>0.0</td>\n      <td>0.000000</td>\n      <td>2.170008</td>\n      <td>1.151892</td>\n    </tr>\n  </tbody>\n</table>\n<p>13828 rows × 7 columns</p>\n</div>"
          },
          "metadata": {}
        }
      ]
    },
    {
      "cell_type": "markdown",
      "source": [
        "2. Image denoising"
      ],
      "metadata": {
        "id": "979PK_QedxsZ"
      }
    },
    {
      "cell_type": "code",
      "source": [
        "import numpy \n",
        "import matplotlib.pyplot as plt\n",
        "from keras.models import Sequential\n",
        "from keras.layers import Dense\n",
        "from keras.datasets import mnist"
      ],
      "metadata": {
        "execution": {
          "iopub.status.busy": "2023-03-30T16:18:04.218665Z",
          "iopub.execute_input": "2023-03-30T16:18:04.220091Z",
          "iopub.status.idle": "2023-03-30T16:18:04.226538Z",
          "shell.execute_reply.started": "2023-03-30T16:18:04.220033Z",
          "shell.execute_reply": "2023-03-30T16:18:04.224929Z"
        },
        "trusted": true,
        "id": "JoFXoTl-dxsZ"
      },
      "execution_count": null,
      "outputs": []
    },
    {
      "cell_type": "code",
      "source": [
        "(X_train, y_train), (X_test, y_test) = mnist.load_data()\n"
      ],
      "metadata": {
        "execution": {
          "iopub.status.busy": "2023-03-30T16:18:10.960577Z",
          "iopub.execute_input": "2023-03-30T16:18:10.961116Z",
          "iopub.status.idle": "2023-03-30T16:18:12.789419Z",
          "shell.execute_reply.started": "2023-03-30T16:18:10.961067Z",
          "shell.execute_reply": "2023-03-30T16:18:12.788343Z"
        },
        "trusted": true,
        "id": "GvVRxrqldxsa",
        "outputId": "be0f3e29-46ad-4ddd-a311-0aed54f5d87c"
      },
      "execution_count": null,
      "outputs": [
        {
          "name": "stdout",
          "text": "Downloading data from https://storage.googleapis.com/tensorflow/tf-keras-datasets/mnist.npz\n11490434/11490434 [==============================] - 1s 0us/step\n",
          "output_type": "stream"
        }
      ]
    },
    {
      "cell_type": "code",
      "source": [
        "plt.subplot(221)\n",
        "plt.imshow(X_train[0], cmap=plt.get_cmap('gray'))\n",
        "plt.subplot(222)\n",
        "plt.imshow(X_train[1], cmap=plt.get_cmap('gray'))\n",
        "plt.subplot(223)\n",
        "plt.imshow(X_train[2], cmap=plt.get_cmap('gray'))\n",
        "plt.subplot(224)\n",
        "plt.imshow(X_train[3], cmap=plt.get_cmap('gray'))\n",
        "# show the plot\n",
        "plt.show()"
      ],
      "metadata": {
        "execution": {
          "iopub.status.busy": "2023-03-30T16:18:17.250811Z",
          "iopub.execute_input": "2023-03-30T16:18:17.251339Z",
          "iopub.status.idle": "2023-03-30T16:18:17.750289Z",
          "shell.execute_reply.started": "2023-03-30T16:18:17.251294Z",
          "shell.execute_reply": "2023-03-30T16:18:17.749022Z"
        },
        "trusted": true,
        "id": "KvRxPUYzdxsa",
        "outputId": "3fa472ae-55bc-46a1-96da-3d027126ea98"
      },
      "execution_count": null,
      "outputs": [
        {
          "output_type": "display_data",
          "data": {
            "text/plain": "<Figure size 640x480 with 4 Axes>",
            "image/png": "[encoded data removed]"
          },
          "metadata": {}
        }
      ]
    },
    {
      "cell_type": "code",
      "source": [
        "num_pixels = X_train.shape[1] * X_train.shape[2]\n",
        "X_train = X_train.reshape(X_train.shape[0], num_pixels).astype('float32')\n",
        "X_test = X_test.reshape(X_test.shape[0], num_pixels).astype('float32')\n",
        "X_train = X_train / 255\n",
        "X_test = X_test / 255"
      ],
      "metadata": {
        "execution": {
          "iopub.status.busy": "2023-03-30T16:18:25.174912Z",
          "iopub.execute_input": "2023-03-30T16:18:25.175408Z",
          "iopub.status.idle": "2023-03-30T16:18:25.455475Z",
          "shell.execute_reply.started": "2023-03-30T16:18:25.175367Z",
          "shell.execute_reply": "2023-03-30T16:18:25.453942Z"
        },
        "trusted": true,
        "id": "_095OAsEdxsb"
      },
      "execution_count": null,
      "outputs": []
    },
    {
      "cell_type": "code",
      "source": [
        "noise_factor = 0.2\n",
        "x_train_noisy = X_train + noise_factor * numpy.random.normal(loc=0.0, scale=1.0, size=X_train.shape)\n",
        "x_test_noisy = X_test + noise_factor * numpy.random.normal(loc=0.0, scale=1.0, size=X_test.shape)\n",
        "x_train_noisy = numpy.clip(x_train_noisy, 0., 1.)\n",
        "x_test_noisy = numpy.clip(x_test_noisy, 0., 1.)"
      ],
      "metadata": {
        "execution": {
          "iopub.status.busy": "2023-03-30T16:18:33.038671Z",
          "iopub.execute_input": "2023-03-30T16:18:33.039142Z",
          "iopub.status.idle": "2023-03-30T16:18:35.259655Z",
          "shell.execute_reply.started": "2023-03-30T16:18:33.039104Z",
          "shell.execute_reply": "2023-03-30T16:18:35.258404Z"
        },
        "trusted": true,
        "id": "jLgmbd3zdxsb"
      },
      "execution_count": null,
      "outputs": []
    },
    {
      "cell_type": "code",
      "source": [
        "# create model\n",
        "model = Sequential()\n",
        "model.add(Dense(500, input_dim=num_pixels, activation='relu'))\n",
        "model.add(Dense(300, activation='relu'))\n",
        "model.add(Dense(100, activation='relu'))\n",
        "model.add(Dense(300, activation='relu'))\n",
        "model.add(Dense(500, activation='relu'))\n",
        "model.add(Dense(784, activation='sigmoid'))"
      ],
      "metadata": {
        "execution": {
          "iopub.status.busy": "2023-03-30T16:18:39.438242Z",
          "iopub.execute_input": "2023-03-30T16:18:39.438723Z",
          "iopub.status.idle": "2023-03-30T16:18:39.546626Z",
          "shell.execute_reply.started": "2023-03-30T16:18:39.438686Z",
          "shell.execute_reply": "2023-03-30T16:18:39.545749Z"
        },
        "trusted": true,
        "id": "ELRFzM28dxsc"
      },
      "execution_count": null,
      "outputs": []
    },
    {
      "cell_type": "code",
      "source": [
        "model.compile(loss='mean_squared_error', optimizer='adam')"
      ],
      "metadata": {
        "execution": {
          "iopub.status.busy": "2023-03-30T16:18:50.825906Z",
          "iopub.execute_input": "2023-03-30T16:18:50.826283Z",
          "iopub.status.idle": "2023-03-30T16:18:50.839303Z",
          "shell.execute_reply.started": "2023-03-30T16:18:50.826251Z",
          "shell.execute_reply": "2023-03-30T16:18:50.838070Z"
        },
        "trusted": true,
        "id": "gqi9Qndxdxsc"
      },
      "execution_count": null,
      "outputs": []
    },
    {
      "cell_type": "code",
      "source": [
        "model.fit(x_train_noisy, X_train, validation_data=(x_test_noisy, X_test), epochs=2, batch_size=200)"
      ],
      "metadata": {
        "execution": {
          "iopub.status.busy": "2023-03-30T16:18:58.406952Z",
          "iopub.execute_input": "2023-03-30T16:18:58.407386Z",
          "iopub.status.idle": "2023-03-30T16:19:13.761942Z",
          "shell.execute_reply.started": "2023-03-30T16:18:58.407343Z",
          "shell.execute_reply": "2023-03-30T16:19:13.760565Z"
        },
        "trusted": true,
        "id": "hGFs8MCIdxsd",
        "outputId": "8106e98c-3675-4524-e848-5650d26ef5ed"
      },
      "execution_count": null,
      "outputs": [
        {
          "name": "stdout",
          "text": "Epoch 1/2\n300/300 [==============================] - 8s 23ms/step - loss: 0.0408 - val_loss: 0.0191\nEpoch 2/2\n300/300 [==============================] - 7s 22ms/step - loss: 0.0159 - val_loss: 0.0132\n",
          "output_type": "stream"
        },
        {
          "execution_count": 46,
          "output_type": "execute_result",
          "data": {
            "text/plain": "<keras.callbacks.History at 0x7f3000f44610>"
          },
          "metadata": {}
        }
      ]
    },
    {
      "cell_type": "code",
      "source": [
        "pred = model.predict(x_test_noisy)\n",
        "pred.shape"
      ],
      "metadata": {
        "execution": {
          "iopub.status.busy": "2023-03-30T16:19:18.731712Z",
          "iopub.execute_input": "2023-03-30T16:19:18.732529Z",
          "iopub.status.idle": "2023-03-30T16:19:20.162652Z",
          "shell.execute_reply.started": "2023-03-30T16:19:18.732483Z",
          "shell.execute_reply": "2023-03-30T16:19:20.161524Z"
        },
        "trusted": true,
        "id": "7LuZ4TQFdxsd",
        "outputId": "011c6951-f78b-4aa1-ada3-867c7c084633"
      },
      "execution_count": null,
      "outputs": [
        {
          "name": "stdout",
          "text": "313/313 [==============================] - 1s 3ms/step\n",
          "output_type": "stream"
        },
        {
          "execution_count": 47,
          "output_type": "execute_result",
          "data": {
            "text/plain": "(10000, 784)"
          },
          "metadata": {}
        }
      ]
    },
    {
      "cell_type": "code",
      "source": [
        "X_test = numpy.reshape(X_test, (10000,28,28)) *255\n",
        "pred = numpy.reshape(pred, (10000,28,28)) *255\n",
        "x_test_noisy = numpy.reshape(x_test_noisy, (-1,28,28)) *255\n",
        "plt.figure(figsize=(20, 4))\n",
        "print(\"Test Images\")\n",
        "for i in range(10,20,1):\n",
        "    plt.subplot(2, 10, i+1)\n",
        "    plt.imshow(X_test[i,:,:], cmap='gray')\n",
        "    curr_lbl = y_test[i]\n",
        "    plt.title(\"(Label: \" + str(curr_lbl) + \")\")\n",
        "plt.show()    \n",
        "plt.figure(figsize=(20, 4))\n",
        "print(\"Test Images with Noise\")\n",
        "for i in range(10,20,1):\n",
        "    plt.subplot(2, 10, i+1)\n",
        "    plt.imshow(x_test_noisy[i,:,:], cmap='gray')\n",
        "plt.show()    \n",
        "plt.figure(figsize=(20, 4))\n",
        "print(\"Reconstruction of Noisy Test Images\")\n",
        "for i in range(10,20,1):\n",
        "    plt.subplot(2, 10, i+1)\n",
        "    plt.imshow(pred[i,:,:], cmap='gray')  \n",
        "plt.show()"
      ],
      "metadata": {
        "execution": {
          "iopub.status.busy": "2023-03-30T16:19:21.290440Z",
          "iopub.execute_input": "2023-03-30T16:19:21.290948Z",
          "iopub.status.idle": "2023-03-30T16:19:23.939850Z",
          "shell.execute_reply.started": "2023-03-30T16:19:21.290896Z",
          "shell.execute_reply": "2023-03-30T16:19:23.938453Z"
        },
        "trusted": true,
        "id": "JIqVAVCddxse",
        "outputId": "42079997-3247-43f2-c836-64d7ca5b9928"
      },
      "execution_count": null,
      "outputs": [
        {
          "name": "stdout",
          "text": "Test Images\n",
          "output_type": "stream"
        },
        {
          "output_type": "display_data",
          "data": {
            "text/plain": "<Figure size 2000x400 with 10 Axes>",
            "image/png": "[encoded data removed]"
          },
          "metadata": {}
        },
        {
          "name": "stdout",
          "text": "Test Images with Noise\n",
          "output_type": "stream"
        },
        {
          "output_type": "display_data",
          "data": {
            "text/plain": "<Figure size 2000x400 with 10 Axes>",
            "image/png": "[encoded data removed]"
          },
          "metadata": {}
        },
        {
          "name": "stdout",
          "text": "Reconstruction of Noisy Test Images\n",
          "output_type": "stream"
        },
        {
          "output_type": "display_data",
          "data": {
            "text/plain": "<Figure size 2000x400 with 10 Axes>",
            "image/png": "[encoded data removed]"
          },
          "metadata": {}
        }
      ]
    }
  ]
}