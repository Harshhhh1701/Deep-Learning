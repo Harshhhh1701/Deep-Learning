{
  "nbformat": 4,
  "nbformat_minor": 0,
  "metadata": {
    "colab": {
      "provenance": []
    },
    "kernelspec": {
      "name": "python3",
      "display_name": "Python 3"
    },
    "language_info": {
      "name": "python"
    },
    "accelerator": "GPU",
    "gpuClass": "standard"
  },
  "cells": [
    {
      "cell_type": "markdown",
      "source": [
        "# Lab Report 12\n",
        "\n",
        "**Name: Nimish Kashyap** <br />\n",
        "**Reg: 20BRS1049**<br />\n",
        "**Date: 23/03/2023**"
      ],
      "metadata": {
        "id": "NOSMExcOHxUD"
      }
    },
    {
      "cell_type": "markdown",
      "source": [
        "# LSTM FOR STOCK PRICE PREDICTION"
      ],
      "metadata": {
        "id": "SmAZbn0VHz5i"
      }
    },
    {
      "cell_type": "markdown",
      "source": [
        "QUESTION 1"
      ],
      "metadata": {
        "id": "Tz5C3nfNKTE7"
      }
    },
    {
      "cell_type": "code",
      "source": [
        "from google.colab import drive\n",
        "\n",
        "drive.mount('/content/gdrive')"
      ],
      "metadata": {
        "colab": {
          "base_uri": "https://localhost:8080/"
        },
        "id": "732L5MYrRLtb",
        "outputId": "62c5a30e-83eb-43ed-b878-776612df47e3"
      },
      "execution_count": null,
      "outputs": [
        {
          "output_type": "stream",
          "name": "stdout",
          "text": [
            "Mounted at /content/gdrive\n"
          ]
        }
      ]
    },
    {
      "cell_type": "code",
      "source": [
        "import re\n",
        "import pandas as pd\n",
        "import numpy as np\n",
        "from sklearn.preprocessing import LabelEncoder\n",
        "from sklearn.model_selection import train_test_split\n",
        "from keras.preprocessing.text import Tokenizer\n",
        "from tensorflow.keras.preprocessing.sequence import pad_sequences\n",
        "import keras\n",
        "from sklearn.metrics import classification_report\n",
        "from sklearn.metrics import accuracy_score\n",
        "import math\n",
        "import nltk"
      ],
      "metadata": {
        "id": "NbmPsRslKd1v"
      },
      "execution_count": null,
      "outputs": []
    },
    {
      "cell_type": "code",
      "source": [
        "data = pd.read_csv('/content/gdrive/MyDrive/DL/IMDB Dataset.csv')\n",
        "data.head()"
      ],
      "metadata": {
        "colab": {
          "base_uri": "https://localhost:8080/",
          "height": 206
        },
        "id": "rihUOUKiKhyt",
        "outputId": "59c81f15-4714-448c-9605-48a080473b1a"
      },
      "execution_count": null,
      "outputs": [
        {
          "output_type": "execute_result",
          "data": {
            "text/plain": [
              "                                              review sentiment\n",
              "0  One of the other reviewers has mentioned that ...  positive\n",
              "1  A wonderful little production. <br /><br />The...  positive\n",
              "2  I thought this was a wonderful way to spend ti...  positive\n",
              "3  Basically there's a family where a little boy ...  negative\n",
              "4  Petter Mattei's \"Love in the Time of Money\" is...  positive"
            ],
            "text/html": [
              "\n",
              "  <div id=\"df-57a196d9-1504-4f2f-812c-fce233c9a0e8\">\n",
              "    <div class=\"colab-df-container\">\n",
              "      <div>\n",
              "<style scoped>\n",
              "    .dataframe tbody tr th:only-of-type {\n",
              "        vertical-align: middle;\n",
              "    }\n",
              "\n",
              "    .dataframe tbody tr th {\n",
              "        vertical-align: top;\n",
              "    }\n",
              "\n",
              "    .dataframe thead th {\n",
              "        text-align: right;\n",
              "    }\n",
              "</style>\n",
              "<table border=\"1\" class=\"dataframe\">\n",
              "  <thead>\n",
              "    <tr style=\"text-align: right;\">\n",
              "      <th></th>\n",
              "      <th>review</th>\n",
              "      <th>sentiment</th>\n",
              "    </tr>\n",
              "  </thead>\n",
              "  <tbody>\n",
              "    <tr>\n",
              "      <th>0</th>\n",
              "      <td>One of the other reviewers has mentioned that ...</td>\n",
              "      <td>positive</td>\n",
              "    </tr>\n",
              "    <tr>\n",
              "      <th>1</th>\n",
              "      <td>A wonderful little production. &lt;br /&gt;&lt;br /&gt;The...</td>\n",
              "      <td>positive</td>\n",
              "    </tr>\n",
              "    <tr>\n",
              "      <th>2</th>\n",
              "      <td>I thought this was a wonderful way to spend ti...</td>\n",
              "      <td>positive</td>\n",
              "    </tr>\n",
              "    <tr>\n",
              "      <th>3</th>\n",
              "      <td>Basically there's a family where a little boy ...</td>\n",
              "      <td>negative</td>\n",
              "    </tr>\n",
              "    <tr>\n",
              "      <th>4</th>\n",
              "      <td>Petter Mattei's \"Love in the Time of Money\" is...</td>\n",
              "      <td>positive</td>\n",
              "    </tr>\n",
              "  </tbody>\n",
              "</table>\n",
              "</div>\n",
              "      <button class=\"colab-df-convert\" onclick=\"convertToInteractive('df-57a196d9-1504-4f2f-812c-fce233c9a0e8')\"\n",
              "              title=\"Convert this dataframe to an interactive table.\"\n",
              "              style=\"display:none;\">\n",
              "        \n",
              "  <svg xmlns=\"http://www.w3.org/2000/svg\" height=\"24px\"viewBox=\"0 0 24 24\"\n",
              "       width=\"24px\">\n",
              "    <path d=\"M0 0h24v24H0V0z\" fill=\"none\"/>\n",
              "    <path d=\"M18.56 5.44l.94 2.06.94-2.06 2.06-.94-2.06-.94-.94-2.06-.94 2.06-2.06.94zm-11 1L8.5 8.5l.94-2.06 2.06-.94-2.06-.94L8.5 2.5l-.94 2.06-2.06.94zm10 10l.94 2.06.94-2.06 2.06-.94-2.06-.94-.94-2.06-.94 2.06-2.06.94z\"/><path d=\"M17.41 7.96l-1.37-1.37c-.4-.4-.92-.59-1.43-.59-.52 0-1.04.2-1.43.59L10.3 9.45l-7.72 7.72c-.78.78-.78 2.05 0 2.83L4 21.41c.39.39.9.59 1.41.59.51 0 1.02-.2 1.41-.59l7.78-7.78 2.81-2.81c.8-.78.8-2.07 0-2.86zM5.41 20L4 18.59l7.72-7.72 1.47 1.35L5.41 20z\"/>\n",
              "  </svg>\n",
              "      </button>\n",
              "      \n",
              "  <style>\n",
              "    .colab-df-container {\n",
              "      display:flex;\n",
              "      flex-wrap:wrap;\n",
              "      gap: 12px;\n",
              "    }\n",
              "\n",
              "    .colab-df-convert {\n",
              "      background-color: #E8F0FE;\n",
              "      border: none;\n",
              "      border-radius: 50%;\n",
              "      cursor: pointer;\n",
              "      display: none;\n",
              "      fill: #1967D2;\n",
              "      height: 32px;\n",
              "      padding: 0 0 0 0;\n",
              "      width: 32px;\n",
              "    }\n",
              "\n",
              "    .colab-df-convert:hover {\n",
              "      background-color: #E2EBFA;\n",
              "      box-shadow: 0px 1px 2px rgba(60, 64, 67, 0.3), 0px 1px 3px 1px rgba(60, 64, 67, 0.15);\n",
              "      fill: #174EA6;\n",
              "    }\n",
              "\n",
              "    [theme=dark] .colab-df-convert {\n",
              "      background-color: #3B4455;\n",
              "      fill: #D2E3FC;\n",
              "    }\n",
              "\n",
              "    [theme=dark] .colab-df-convert:hover {\n",
              "      background-color: #434B5C;\n",
              "      box-shadow: 0px 1px 3px 1px rgba(0, 0, 0, 0.15);\n",
              "      filter: drop-shadow(0px 1px 2px rgba(0, 0, 0, 0.3));\n",
              "      fill: #FFFFFF;\n",
              "    }\n",
              "  </style>\n",
              "\n",
              "      <script>\n",
              "        const buttonEl =\n",
              "          document.querySelector('#df-57a196d9-1504-4f2f-812c-fce233c9a0e8 button.colab-df-convert');\n",
              "        buttonEl.style.display =\n",
              "          google.colab.kernel.accessAllowed ? 'block' : 'none';\n",
              "\n",
              "        async function convertToInteractive(key) {\n",
              "          const element = document.querySelector('#df-57a196d9-1504-4f2f-812c-fce233c9a0e8');\n",
              "          const dataTable =\n",
              "            await google.colab.kernel.invokeFunction('convertToInteractive',\n",
              "                                                     [key], {});\n",
              "          if (!dataTable) return;\n",
              "\n",
              "          const docLinkHtml = 'Like what you see? Visit the ' +\n",
              "            '<a target=\"_blank\" href=https://colab.research.google.com/notebooks/data_table.ipynb>data table notebook</a>'\n",
              "            + ' to learn more about interactive tables.';\n",
              "          element.innerHTML = '';\n",
              "          dataTable['output_type'] = 'display_data';\n",
              "          await google.colab.output.renderOutput(dataTable, element);\n",
              "          const docLink = document.createElement('div');\n",
              "          docLink.innerHTML = docLinkHtml;\n",
              "          element.appendChild(docLink);\n",
              "        }\n",
              "      </script>\n",
              "    </div>\n",
              "  </div>\n",
              "  "
            ]
          },
          "metadata": {},
          "execution_count": 5
        }
      ]
    },
    {
      "cell_type": "code",
      "source": [
        "def remove_tags(string):\n",
        "    removelist = \"\"\n",
        "    result = re.sub('','',string)          #remove HTML tags\n",
        "    result = re.sub('https://.*','',result)   #remove URLs\n",
        "    result = re.sub(r'[^w'+removelist+']', ' ',result)    #remove non-alphanumeric characters \n",
        "    result = result.lower()\n",
        "    return result\n",
        "data['review']=data['review'].apply(lambda cw : remove_tags(cw))"
      ],
      "metadata": {
        "id": "JKniboaXKkG8"
      },
      "execution_count": null,
      "outputs": []
    },
    {
      "cell_type": "code",
      "source": [
        "nltk.download('stopwords')\n",
        "nltk.download('wordnet')\n",
        "from nltk.corpus import stopwords\n",
        "stop_words = set(stopwords.words('english'))\n",
        "data['review'] = data['review'].apply(lambda x: ' '.join([word for word in x.split() if word not in (stop_words)]))\n",
        "\n",
        "w_tokenizer = nltk.tokenize.WhitespaceTokenizer()\n",
        "lemmatizer = nltk.stem.WordNetLemmatizer()\n",
        "def lemmatize_text(text):\n",
        "    st = \"\"\n",
        "    for w in w_tokenizer.tokenize(text):\n",
        "        st = st + lemmatizer.lemmatize(w) + \" \"\n",
        "    return st\n",
        "data['review'] = data.review.apply(lemmatize_text)\n",
        "data\n"
      ],
      "metadata": {
        "colab": {
          "base_uri": "https://localhost:8080/",
          "height": 476
        },
        "id": "y4cJg0r_Kwb3",
        "outputId": "0d151333-df43-45ac-e643-533a489e8503"
      },
      "execution_count": null,
      "outputs": [
        {
          "output_type": "stream",
          "name": "stderr",
          "text": [
            "[nltk_data] Downloading package stopwords to /root/nltk_data...\n",
            "[nltk_data]   Unzipping corpora/stopwords.zip.\n",
            "[nltk_data] Downloading package wordnet to /root/nltk_data...\n"
          ]
        },
        {
          "output_type": "execute_result",
          "data": {
            "text/plain": [
              "                                                  review sentiment\n",
              "0      w w w w w w w w w w w w w w w w w w w w w w w ...  positive\n",
              "1                         w w w w w w w w w w w w w w w   positive\n",
              "2                 w w w w w w w w w w w w w w w w w w w   positive\n",
              "3                                 w w w w w w w w w w w   negative\n",
              "4                   w w w w w w w w w w w w w w w w w w   positive\n",
              "...                                                  ...       ...\n",
              "49995             w w w w w w w w w w w w w w w w w w w   positive\n",
              "49996                                   w w w w w w w w   negative\n",
              "49997                           w w w w w w w w w w w w   negative\n",
              "49998                     w w w w w w w w w w w w w w w   negative\n",
              "49999                           w w w w w w w w w w w w   negative\n",
              "\n",
              "[50000 rows x 2 columns]"
            ],
            "text/html": [
              "\n",
              "  <div id=\"df-745d1a21-f7ac-4623-b7cf-a54febf7798a\">\n",
              "    <div class=\"colab-df-container\">\n",
              "      <div>\n",
              "<style scoped>\n",
              "    .dataframe tbody tr th:only-of-type {\n",
              "        vertical-align: middle;\n",
              "    }\n",
              "\n",
              "    .dataframe tbody tr th {\n",
              "        vertical-align: top;\n",
              "    }\n",
              "\n",
              "    .dataframe thead th {\n",
              "        text-align: right;\n",
              "    }\n",
              "</style>\n",
              "<table border=\"1\" class=\"dataframe\">\n",
              "  <thead>\n",
              "    <tr style=\"text-align: right;\">\n",
              "      <th></th>\n",
              "      <th>review</th>\n",
              "      <th>sentiment</th>\n",
              "    </tr>\n",
              "  </thead>\n",
              "  <tbody>\n",
              "    <tr>\n",
              "      <th>0</th>\n",
              "      <td>w w w w w w w w w w w w w w w w w w w w w w w ...</td>\n",
              "      <td>positive</td>\n",
              "    </tr>\n",
              "    <tr>\n",
              "      <th>1</th>\n",
              "      <td>w w w w w w w w w w w w w w w</td>\n",
              "      <td>positive</td>\n",
              "    </tr>\n",
              "    <tr>\n",
              "      <th>2</th>\n",
              "      <td>w w w w w w w w w w w w w w w w w w w</td>\n",
              "      <td>positive</td>\n",
              "    </tr>\n",
              "    <tr>\n",
              "      <th>3</th>\n",
              "      <td>w w w w w w w w w w w</td>\n",
              "      <td>negative</td>\n",
              "    </tr>\n",
              "    <tr>\n",
              "      <th>4</th>\n",
              "      <td>w w w w w w w w w w w w w w w w w w</td>\n",
              "      <td>positive</td>\n",
              "    </tr>\n",
              "    <tr>\n",
              "      <th>...</th>\n",
              "      <td>...</td>\n",
              "      <td>...</td>\n",
              "    </tr>\n",
              "    <tr>\n",
              "      <th>49995</th>\n",
              "      <td>w w w w w w w w w w w w w w w w w w w</td>\n",
              "      <td>positive</td>\n",
              "    </tr>\n",
              "    <tr>\n",
              "      <th>49996</th>\n",
              "      <td>w w w w w w w w</td>\n",
              "      <td>negative</td>\n",
              "    </tr>\n",
              "    <tr>\n",
              "      <th>49997</th>\n",
              "      <td>w w w w w w w w w w w w</td>\n",
              "      <td>negative</td>\n",
              "    </tr>\n",
              "    <tr>\n",
              "      <th>49998</th>\n",
              "      <td>w w w w w w w w w w w w w w w</td>\n",
              "      <td>negative</td>\n",
              "    </tr>\n",
              "    <tr>\n",
              "      <th>49999</th>\n",
              "      <td>w w w w w w w w w w w w</td>\n",
              "      <td>negative</td>\n",
              "    </tr>\n",
              "  </tbody>\n",
              "</table>\n",
              "<p>50000 rows × 2 columns</p>\n",
              "</div>\n",
              "      <button class=\"colab-df-convert\" onclick=\"convertToInteractive('df-745d1a21-f7ac-4623-b7cf-a54febf7798a')\"\n",
              "              title=\"Convert this dataframe to an interactive table.\"\n",
              "              style=\"display:none;\">\n",
              "        \n",
              "  <svg xmlns=\"http://www.w3.org/2000/svg\" height=\"24px\"viewBox=\"0 0 24 24\"\n",
              "       width=\"24px\">\n",
              "    <path d=\"M0 0h24v24H0V0z\" fill=\"none\"/>\n",
              "    <path d=\"M18.56 5.44l.94 2.06.94-2.06 2.06-.94-2.06-.94-.94-2.06-.94 2.06-2.06.94zm-11 1L8.5 8.5l.94-2.06 2.06-.94-2.06-.94L8.5 2.5l-.94 2.06-2.06.94zm10 10l.94 2.06.94-2.06 2.06-.94-2.06-.94-.94-2.06-.94 2.06-2.06.94z\"/><path d=\"M17.41 7.96l-1.37-1.37c-.4-.4-.92-.59-1.43-.59-.52 0-1.04.2-1.43.59L10.3 9.45l-7.72 7.72c-.78.78-.78 2.05 0 2.83L4 21.41c.39.39.9.59 1.41.59.51 0 1.02-.2 1.41-.59l7.78-7.78 2.81-2.81c.8-.78.8-2.07 0-2.86zM5.41 20L4 18.59l7.72-7.72 1.47 1.35L5.41 20z\"/>\n",
              "  </svg>\n",
              "      </button>\n",
              "      \n",
              "  <style>\n",
              "    .colab-df-container {\n",
              "      display:flex;\n",
              "      flex-wrap:wrap;\n",
              "      gap: 12px;\n",
              "    }\n",
              "\n",
              "    .colab-df-convert {\n",
              "      background-color: #E8F0FE;\n",
              "      border: none;\n",
              "      border-radius: 50%;\n",
              "      cursor: pointer;\n",
              "      display: none;\n",
              "      fill: #1967D2;\n",
              "      height: 32px;\n",
              "      padding: 0 0 0 0;\n",
              "      width: 32px;\n",
              "    }\n",
              "\n",
              "    .colab-df-convert:hover {\n",
              "      background-color: #E2EBFA;\n",
              "      box-shadow: 0px 1px 2px rgba(60, 64, 67, 0.3), 0px 1px 3px 1px rgba(60, 64, 67, 0.15);\n",
              "      fill: #174EA6;\n",
              "    }\n",
              "\n",
              "    [theme=dark] .colab-df-convert {\n",
              "      background-color: #3B4455;\n",
              "      fill: #D2E3FC;\n",
              "    }\n",
              "\n",
              "    [theme=dark] .colab-df-convert:hover {\n",
              "      background-color: #434B5C;\n",
              "      box-shadow: 0px 1px 3px 1px rgba(0, 0, 0, 0.15);\n",
              "      filter: drop-shadow(0px 1px 2px rgba(0, 0, 0, 0.3));\n",
              "      fill: #FFFFFF;\n",
              "    }\n",
              "  </style>\n",
              "\n",
              "      <script>\n",
              "        const buttonEl =\n",
              "          document.querySelector('#df-745d1a21-f7ac-4623-b7cf-a54febf7798a button.colab-df-convert');\n",
              "        buttonEl.style.display =\n",
              "          google.colab.kernel.accessAllowed ? 'block' : 'none';\n",
              "\n",
              "        async function convertToInteractive(key) {\n",
              "          const element = document.querySelector('#df-745d1a21-f7ac-4623-b7cf-a54febf7798a');\n",
              "          const dataTable =\n",
              "            await google.colab.kernel.invokeFunction('convertToInteractive',\n",
              "                                                     [key], {});\n",
              "          if (!dataTable) return;\n",
              "\n",
              "          const docLinkHtml = 'Like what you see? Visit the ' +\n",
              "            '<a target=\"_blank\" href=https://colab.research.google.com/notebooks/data_table.ipynb>data table notebook</a>'\n",
              "            + ' to learn more about interactive tables.';\n",
              "          element.innerHTML = '';\n",
              "          dataTable['output_type'] = 'display_data';\n",
              "          await google.colab.output.renderOutput(dataTable, element);\n",
              "          const docLink = document.createElement('div');\n",
              "          docLink.innerHTML = docLinkHtml;\n",
              "          element.appendChild(docLink);\n",
              "        }\n",
              "      </script>\n",
              "    </div>\n",
              "  </div>\n",
              "  "
            ]
          },
          "metadata": {},
          "execution_count": 7
        }
      ]
    },
    {
      "cell_type": "code",
      "source": [
        "s = 0.0\n",
        "for i in data['review']:\n",
        "    word_list = i.split()\n",
        "    s = s + len(word_list)\n",
        "print(\"Average length of each review : \",s/data.shape[0])\n",
        "pos = 0\n",
        "for i in range(data.shape[0]):\n",
        "    if data.iloc[i]['sentiment'] == 'positive':\n",
        "        pos = pos + 1\n",
        "neg = data.shape[0]-pos\n",
        "print(\"Percentage of reviews with positive sentiment is \"+str(pos/data.shape[0]*100)+\"%\")\n",
        "print(\"Percentage of reviews with negative sentiment is \"+str(neg/data.shape[0]*100)+\"%\")"
      ],
      "metadata": {
        "colab": {
          "base_uri": "https://localhost:8080/"
        },
        "id": "KjiMwnqQKx0p",
        "outputId": "87b1ef99-4386-45aa-ff08-4b7c2ebe360d"
      },
      "execution_count": null,
      "outputs": [
        {
          "output_type": "stream",
          "name": "stdout",
          "text": [
            "Average length of each review :  18.714\n",
            "Percentage of reviews with positive sentiment is 50.0%\n",
            "Percentage of reviews with negative sentiment is 50.0%\n"
          ]
        }
      ]
    },
    {
      "cell_type": "code",
      "source": [
        "reviews = data['review'].values\n",
        "labels = data['sentiment'].values\n",
        "encoder = LabelEncoder()\n",
        "encoded_labels = encoder.fit_transform(labels)"
      ],
      "metadata": {
        "id": "m4KhGIBLKzvW"
      },
      "execution_count": null,
      "outputs": []
    },
    {
      "cell_type": "code",
      "source": [
        "train_sentences, test_sentences, train_labels, test_labels = train_test_split(reviews, encoded_labels, stratify = encoded_labels)"
      ],
      "metadata": {
        "id": "-N01ROu9K1Au"
      },
      "execution_count": null,
      "outputs": []
    },
    {
      "cell_type": "code",
      "source": [
        "vocab_size = 3000 # choose based on statistics\n",
        "oov_tok = ''\n",
        "embedding_dim = 100\n",
        "max_length = 200 # choose based on statistics, for example 150 to 200\n",
        "padding_type='post'\n",
        "trunc_type='post'\n",
        "# tokenize sentences\n",
        "tokenizer = Tokenizer(num_words = vocab_size, oov_token=oov_tok)\n",
        "tokenizer.fit_on_texts(train_sentences)\n",
        "word_index = tokenizer.word_index\n",
        "# convert train dataset to sequence and pad sequences\n",
        "train_sequences = tokenizer.texts_to_sequences(train_sentences)\n",
        "train_padded = pad_sequences(train_sequences, padding='post', maxlen=max_length)\n",
        "# convert Test dataset to sequence and pad sequences\n",
        "test_sequences = tokenizer.texts_to_sequences(test_sentences)\n",
        "test_padded = pad_sequences(test_sequences, padding='post', maxlen=max_length)"
      ],
      "metadata": {
        "id": "K8wbnFdHK2NP"
      },
      "execution_count": null,
      "outputs": []
    },
    {
      "cell_type": "code",
      "source": [
        "# model initialization\n",
        "model = keras.Sequential([\n",
        "    keras.layers.Embedding(vocab_size, embedding_dim, input_length=max_length),\n",
        "    keras.layers.Bidirectional(keras.layers.LSTM(64)),\n",
        "    keras.layers.Dense(24, activation='relu'),\n",
        "    keras.layers.Dense(1, activation='sigmoid')\n",
        "])\n",
        "# compile model\n",
        "model.compile(loss='binary_crossentropy',\n",
        "              optimizer='adam',\n",
        "              metrics=['accuracy'])\n",
        "# model summary\n",
        "model.summary()"
      ],
      "metadata": {
        "colab": {
          "base_uri": "https://localhost:8080/"
        },
        "id": "cdR-7xDrK3Z7",
        "outputId": "30f98caf-8fb0-4358-fb0c-421d63d6b0a3"
      },
      "execution_count": null,
      "outputs": [
        {
          "output_type": "stream",
          "name": "stdout",
          "text": [
            "Model: \"sequential\"\n",
            "_________________________________________________________________\n",
            " Layer (type)                Output Shape              Param #   \n",
            "=================================================================\n",
            " embedding (Embedding)       (None, 200, 100)          300000    \n",
            "                                                                 \n",
            " bidirectional (Bidirectiona  (None, 128)              84480     \n",
            " l)                                                              \n",
            "                                                                 \n",
            " dense (Dense)               (None, 24)                3096      \n",
            "                                                                 \n",
            " dense_1 (Dense)             (None, 1)                 25        \n",
            "                                                                 \n",
            "=================================================================\n",
            "Total params: 387,601\n",
            "Trainable params: 387,601\n",
            "Non-trainable params: 0\n",
            "_________________________________________________________________\n"
          ]
        }
      ]
    },
    {
      "cell_type": "code",
      "source": [
        "num_epochs = 20\n",
        "history = model.fit(train_padded, train_labels, \n",
        "                    epochs=num_epochs, verbose=1, \n",
        "                    validation_split=0.1)"
      ],
      "metadata": {
        "colab": {
          "base_uri": "https://localhost:8080/"
        },
        "id": "PA34z2wHK4e4",
        "outputId": "e6d85f71-6c5f-450e-cf70-898d39b59638"
      },
      "execution_count": null,
      "outputs": [
        {
          "output_type": "stream",
          "name": "stdout",
          "text": [
            "Epoch 1/20\n",
            "1055/1055 [==============================] - 18s 17ms/step - loss: 0.6925 - accuracy: 0.5115 - val_loss: 0.6949 - val_accuracy: 0.5043\n",
            "Epoch 2/20\n",
            "1055/1055 [==============================] - 18s 17ms/step - loss: 0.6925 - accuracy: 0.5159 - val_loss: 0.6927 - val_accuracy: 0.5075\n",
            "Epoch 3/20\n",
            "1055/1055 [==============================] - 18s 17ms/step - loss: 0.6924 - accuracy: 0.5162 - val_loss: 0.6926 - val_accuracy: 0.5061\n",
            "Epoch 4/20\n",
            "1055/1055 [==============================] - 18s 17ms/step - loss: 0.6923 - accuracy: 0.5161 - val_loss: 0.6929 - val_accuracy: 0.5056\n",
            "Epoch 5/20\n",
            "1055/1055 [==============================] - 18s 17ms/step - loss: 0.6923 - accuracy: 0.5162 - val_loss: 0.6929 - val_accuracy: 0.5077\n",
            "Epoch 6/20\n",
            "1055/1055 [==============================] - 20s 19ms/step - loss: 0.6924 - accuracy: 0.5155 - val_loss: 0.6930 - val_accuracy: 0.5061\n",
            "Epoch 7/20\n",
            "1055/1055 [==============================] - 17s 17ms/step - loss: 0.6922 - accuracy: 0.5175 - val_loss: 0.6928 - val_accuracy: 0.5072\n",
            "Epoch 8/20\n",
            "1055/1055 [==============================] - 21s 20ms/step - loss: 0.6922 - accuracy: 0.5160 - val_loss: 0.6927 - val_accuracy: 0.5045\n",
            "Epoch 9/20\n",
            "1055/1055 [==============================] - 17s 16ms/step - loss: 0.6923 - accuracy: 0.5155 - val_loss: 0.6924 - val_accuracy: 0.5107\n",
            "Epoch 10/20\n",
            "1055/1055 [==============================] - 17s 16ms/step - loss: 0.6923 - accuracy: 0.5163 - val_loss: 0.6927 - val_accuracy: 0.5067\n",
            "Epoch 11/20\n",
            "1055/1055 [==============================] - 18s 17ms/step - loss: 0.6921 - accuracy: 0.5178 - val_loss: 0.6930 - val_accuracy: 0.5080\n",
            "Epoch 12/20\n",
            "1055/1055 [==============================] - 17s 17ms/step - loss: 0.6922 - accuracy: 0.5157 - val_loss: 0.6925 - val_accuracy: 0.5069\n",
            "Epoch 13/20\n",
            "1055/1055 [==============================] - 18s 17ms/step - loss: 0.6924 - accuracy: 0.5123 - val_loss: 0.6929 - val_accuracy: 0.5056\n",
            "Epoch 14/20\n",
            "1055/1055 [==============================] - 19s 18ms/step - loss: 0.6922 - accuracy: 0.5171 - val_loss: 0.6926 - val_accuracy: 0.5061\n",
            "Epoch 15/20\n",
            "1055/1055 [==============================] - 17s 16ms/step - loss: 0.6922 - accuracy: 0.5171 - val_loss: 0.6926 - val_accuracy: 0.5067\n",
            "Epoch 16/20\n",
            "1055/1055 [==============================] - 17s 16ms/step - loss: 0.6923 - accuracy: 0.5155 - val_loss: 0.6925 - val_accuracy: 0.5064\n",
            "Epoch 17/20\n",
            "1055/1055 [==============================] - 18s 17ms/step - loss: 0.6921 - accuracy: 0.5168 - val_loss: 0.6925 - val_accuracy: 0.5077\n",
            "Epoch 18/20\n",
            "1055/1055 [==============================] - 18s 17ms/step - loss: 0.6921 - accuracy: 0.5163 - val_loss: 0.6925 - val_accuracy: 0.5096\n",
            "Epoch 19/20\n",
            "1055/1055 [==============================] - 17s 16ms/step - loss: 0.6921 - accuracy: 0.5168 - val_loss: 0.6925 - val_accuracy: 0.5059\n",
            "Epoch 20/20\n",
            "1055/1055 [==============================] - 18s 17ms/step - loss: 0.6922 - accuracy: 0.5157 - val_loss: 0.6925 - val_accuracy: 0.5096\n"
          ]
        }
      ]
    },
    {
      "cell_type": "code",
      "source": [
        "prediction = model.predict(test_padded)\n",
        "# Get labels based on probability 1 if p>= 0.5 else 0\n",
        "pred_labels = []\n",
        "for i in prediction:\n",
        "    if i >= 0.5:\n",
        "        pred_labels.append(1)\n",
        "    else:\n",
        "        pred_labels.append(0)\n",
        "print(\"Accuracy of prediction on test set : \", accuracy_score(test_labels,pred_labels))"
      ],
      "metadata": {
        "colab": {
          "base_uri": "https://localhost:8080/"
        },
        "id": "ewoynn-3K5wq",
        "outputId": "478537c5-6981-4816-abf2-177f1e044765"
      },
      "execution_count": null,
      "outputs": [
        {
          "output_type": "stream",
          "name": "stdout",
          "text": [
            "391/391 [==============================] - 3s 6ms/step\n",
            "Accuracy of prediction on test set :  0.51912\n"
          ]
        }
      ]
    },
    {
      "cell_type": "code",
      "source": [
        "sentence = [\"The movie was very touching and heart whelming\", \n",
        "            \"I have never seen a terrible movie like this\", \n",
        "            \"the movie plot is terrible but it had good acting\"]\n",
        "# convert to a sequence\n",
        "sequences = tokenizer.texts_to_sequences(sentence)\n",
        "# pad the sequence\n",
        "padded = pad_sequences(sequences, padding='post', maxlen=max_length)\n",
        "# Get labels based on probability 1 if p>= 0.5 else 0\n",
        "prediction = model.predict(padded)\n",
        "pred_labels = []\n",
        "for i in prediction:\n",
        "    if i >= 0.5:\n",
        "        pred_labels.append(1)\n",
        "    else:\n",
        "        pred_labels.append(0)\n",
        "for i in range(len(sentence)):\n",
        "    print(sentence[i])\n",
        "    if pred_labels[i] == 1:\n",
        "        s = 'Positive'\n",
        "    else:\n",
        "        s = 'Negative'\n",
        "    print(\"Predicted sentiment : \",s)"
      ],
      "metadata": {
        "colab": {
          "base_uri": "https://localhost:8080/"
        },
        "id": "Ck8lnXOnK65c",
        "outputId": "e0dd4240-be3d-47ec-9338-972f27c29bf5"
      },
      "execution_count": null,
      "outputs": [
        {
          "output_type": "stream",
          "name": "stdout",
          "text": [
            "1/1 [==============================] - 0s 24ms/step\n",
            "The movie was very touching and heart whelming\n",
            "Predicted sentiment :  Positive\n",
            "I have never seen a terrible movie like this\n",
            "Predicted sentiment :  Positive\n",
            "the movie plot is terrible but it had good acting\n",
            "Predicted sentiment :  Positive\n"
          ]
        }
      ]
    },
    {
      "cell_type": "markdown",
      "source": [
        "QUESTION 2"
      ],
      "metadata": {
        "id": "BuheSOHA_NeT"
      }
    },
    {
      "cell_type": "code",
      "source": [
        "import numpy as np\n",
        "import matplotlib.pyplot as plt\n",
        "import pandas as pd"
      ],
      "metadata": {
        "id": "RBokPeuB_Mm5"
      },
      "execution_count": null,
      "outputs": []
    },
    {
      "cell_type": "code",
      "source": [
        "url = 'https://raw.githubusercontent.com/mwitiderrick/stockprice/master/NSE-TATAGLOBAL.csv'\n",
        "dataset_train = pd.read_csv(url)\n",
        "training_set = dataset_train.iloc[:, 1:2].values"
      ],
      "metadata": {
        "id": "qqkR07Gr_O9X"
      },
      "execution_count": null,
      "outputs": []
    },
    {
      "cell_type": "code",
      "source": [
        "dataset_train.head()"
      ],
      "metadata": {
        "colab": {
          "base_uri": "https://localhost:8080/",
          "height": 206
        },
        "id": "8n-SCdT-_SDQ",
        "outputId": "cc3310be-ac7b-4dd6-a88b-2d36b8c27912"
      },
      "execution_count": null,
      "outputs": [
        {
          "output_type": "execute_result",
          "data": {
            "text/plain": [
              "         Date    Open    High     Low    Last   Close  Total Trade Quantity  \\\n",
              "0  2018-09-28  234.05  235.95  230.20  233.50  233.75               3069914   \n",
              "1  2018-09-27  234.55  236.80  231.10  233.80  233.25               5082859   \n",
              "2  2018-09-26  240.00  240.00  232.50  235.00  234.25               2240909   \n",
              "3  2018-09-25  233.30  236.75  232.00  236.25  236.10               2349368   \n",
              "4  2018-09-24  233.55  239.20  230.75  234.00  233.30               3423509   \n",
              "\n",
              "   Turnover (Lacs)  \n",
              "0          7162.35  \n",
              "1         11859.95  \n",
              "2          5248.60  \n",
              "3          5503.90  \n",
              "4          7999.55  "
            ],
            "text/html": [
              "\n",
              "  <div id=\"df-71d436b2-b0f5-4b02-b03b-0f77f27b8cc0\">\n",
              "    <div class=\"colab-df-container\">\n",
              "      <div>\n",
              "<style scoped>\n",
              "    .dataframe tbody tr th:only-of-type {\n",
              "        vertical-align: middle;\n",
              "    }\n",
              "\n",
              "    .dataframe tbody tr th {\n",
              "        vertical-align: top;\n",
              "    }\n",
              "\n",
              "    .dataframe thead th {\n",
              "        text-align: right;\n",
              "    }\n",
              "</style>\n",
              "<table border=\"1\" class=\"dataframe\">\n",
              "  <thead>\n",
              "    <tr style=\"text-align: right;\">\n",
              "      <th></th>\n",
              "      <th>Date</th>\n",
              "      <th>Open</th>\n",
              "      <th>High</th>\n",
              "      <th>Low</th>\n",
              "      <th>Last</th>\n",
              "      <th>Close</th>\n",
              "      <th>Total Trade Quantity</th>\n",
              "      <th>Turnover (Lacs)</th>\n",
              "    </tr>\n",
              "  </thead>\n",
              "  <tbody>\n",
              "    <tr>\n",
              "      <th>0</th>\n",
              "      <td>2018-09-28</td>\n",
              "      <td>234.05</td>\n",
              "      <td>235.95</td>\n",
              "      <td>230.20</td>\n",
              "      <td>233.50</td>\n",
              "      <td>233.75</td>\n",
              "      <td>3069914</td>\n",
              "      <td>7162.35</td>\n",
              "    </tr>\n",
              "    <tr>\n",
              "      <th>1</th>\n",
              "      <td>2018-09-27</td>\n",
              "      <td>234.55</td>\n",
              "      <td>236.80</td>\n",
              "      <td>231.10</td>\n",
              "      <td>233.80</td>\n",
              "      <td>233.25</td>\n",
              "      <td>5082859</td>\n",
              "      <td>11859.95</td>\n",
              "    </tr>\n",
              "    <tr>\n",
              "      <th>2</th>\n",
              "      <td>2018-09-26</td>\n",
              "      <td>240.00</td>\n",
              "      <td>240.00</td>\n",
              "      <td>232.50</td>\n",
              "      <td>235.00</td>\n",
              "      <td>234.25</td>\n",
              "      <td>2240909</td>\n",
              "      <td>5248.60</td>\n",
              "    </tr>\n",
              "    <tr>\n",
              "      <th>3</th>\n",
              "      <td>2018-09-25</td>\n",
              "      <td>233.30</td>\n",
              "      <td>236.75</td>\n",
              "      <td>232.00</td>\n",
              "      <td>236.25</td>\n",
              "      <td>236.10</td>\n",
              "      <td>2349368</td>\n",
              "      <td>5503.90</td>\n",
              "    </tr>\n",
              "    <tr>\n",
              "      <th>4</th>\n",
              "      <td>2018-09-24</td>\n",
              "      <td>233.55</td>\n",
              "      <td>239.20</td>\n",
              "      <td>230.75</td>\n",
              "      <td>234.00</td>\n",
              "      <td>233.30</td>\n",
              "      <td>3423509</td>\n",
              "      <td>7999.55</td>\n",
              "    </tr>\n",
              "  </tbody>\n",
              "</table>\n",
              "</div>\n",
              "      <button class=\"colab-df-convert\" onclick=\"convertToInteractive('df-71d436b2-b0f5-4b02-b03b-0f77f27b8cc0')\"\n",
              "              title=\"Convert this dataframe to an interactive table.\"\n",
              "              style=\"display:none;\">\n",
              "        \n",
              "  <svg xmlns=\"http://www.w3.org/2000/svg\" height=\"24px\"viewBox=\"0 0 24 24\"\n",
              "       width=\"24px\">\n",
              "    <path d=\"M0 0h24v24H0V0z\" fill=\"none\"/>\n",
              "    <path d=\"M18.56 5.44l.94 2.06.94-2.06 2.06-.94-2.06-.94-.94-2.06-.94 2.06-2.06.94zm-11 1L8.5 8.5l.94-2.06 2.06-.94-2.06-.94L8.5 2.5l-.94 2.06-2.06.94zm10 10l.94 2.06.94-2.06 2.06-.94-2.06-.94-.94-2.06-.94 2.06-2.06.94z\"/><path d=\"M17.41 7.96l-1.37-1.37c-.4-.4-.92-.59-1.43-.59-.52 0-1.04.2-1.43.59L10.3 9.45l-7.72 7.72c-.78.78-.78 2.05 0 2.83L4 21.41c.39.39.9.59 1.41.59.51 0 1.02-.2 1.41-.59l7.78-7.78 2.81-2.81c.8-.78.8-2.07 0-2.86zM5.41 20L4 18.59l7.72-7.72 1.47 1.35L5.41 20z\"/>\n",
              "  </svg>\n",
              "      </button>\n",
              "      \n",
              "  <style>\n",
              "    .colab-df-container {\n",
              "      display:flex;\n",
              "      flex-wrap:wrap;\n",
              "      gap: 12px;\n",
              "    }\n",
              "\n",
              "    .colab-df-convert {\n",
              "      background-color: #E8F0FE;\n",
              "      border: none;\n",
              "      border-radius: 50%;\n",
              "      cursor: pointer;\n",
              "      display: none;\n",
              "      fill: #1967D2;\n",
              "      height: 32px;\n",
              "      padding: 0 0 0 0;\n",
              "      width: 32px;\n",
              "    }\n",
              "\n",
              "    .colab-df-convert:hover {\n",
              "      background-color: #E2EBFA;\n",
              "      box-shadow: 0px 1px 2px rgba(60, 64, 67, 0.3), 0px 1px 3px 1px rgba(60, 64, 67, 0.15);\n",
              "      fill: #174EA6;\n",
              "    }\n",
              "\n",
              "    [theme=dark] .colab-df-convert {\n",
              "      background-color: #3B4455;\n",
              "      fill: #D2E3FC;\n",
              "    }\n",
              "\n",
              "    [theme=dark] .colab-df-convert:hover {\n",
              "      background-color: #434B5C;\n",
              "      box-shadow: 0px 1px 3px 1px rgba(0, 0, 0, 0.15);\n",
              "      filter: drop-shadow(0px 1px 2px rgba(0, 0, 0, 0.3));\n",
              "      fill: #FFFFFF;\n",
              "    }\n",
              "  </style>\n",
              "\n",
              "      <script>\n",
              "        const buttonEl =\n",
              "          document.querySelector('#df-71d436b2-b0f5-4b02-b03b-0f77f27b8cc0 button.colab-df-convert');\n",
              "        buttonEl.style.display =\n",
              "          google.colab.kernel.accessAllowed ? 'block' : 'none';\n",
              "\n",
              "        async function convertToInteractive(key) {\n",
              "          const element = document.querySelector('#df-71d436b2-b0f5-4b02-b03b-0f77f27b8cc0');\n",
              "          const dataTable =\n",
              "            await google.colab.kernel.invokeFunction('convertToInteractive',\n",
              "                                                     [key], {});\n",
              "          if (!dataTable) return;\n",
              "\n",
              "          const docLinkHtml = 'Like what you see? Visit the ' +\n",
              "            '<a target=\"_blank\" href=https://colab.research.google.com/notebooks/data_table.ipynb>data table notebook</a>'\n",
              "            + ' to learn more about interactive tables.';\n",
              "          element.innerHTML = '';\n",
              "          dataTable['output_type'] = 'display_data';\n",
              "          await google.colab.output.renderOutput(dataTable, element);\n",
              "          const docLink = document.createElement('div');\n",
              "          docLink.innerHTML = docLinkHtml;\n",
              "          element.appendChild(docLink);\n",
              "        }\n",
              "      </script>\n",
              "    </div>\n",
              "  </div>\n",
              "  "
            ]
          },
          "metadata": {},
          "execution_count": 9
        }
      ]
    },
    {
      "cell_type": "code",
      "source": [
        "from sklearn.preprocessing import MinMaxScaler\n",
        "sc = MinMaxScaler(feature_range=(0,1))\n",
        "training_set_scaled = sc.fit_transform(training_set)"
      ],
      "metadata": {
        "id": "4jE7yPRY_UK7"
      },
      "execution_count": null,
      "outputs": []
    },
    {
      "cell_type": "code",
      "source": [
        "X_train = []\n",
        "y_train = []\n",
        "\n",
        "for i in range(60, 2035):\n",
        "    X_train.append(training_set_scaled[i-60:i, 0])\n",
        "    y_train.append(training_set_scaled[i, 0])\n",
        "X_train, y_train = np.array(X_train), np.array(y_train)\n",
        "X_train = np.reshape(X_train, (X_train.shape[0], X_train.shape[1], 1))"
      ],
      "metadata": {
        "id": "XsW3PZOW_Wgz"
      },
      "execution_count": null,
      "outputs": []
    },
    {
      "cell_type": "code",
      "source": [
        "from keras.models import Sequential\n",
        "from keras.layers import LSTM\n",
        "from keras.layers import Dropout\n",
        "from keras.layers import Dense"
      ],
      "metadata": {
        "id": "JSK-yKfyACg0"
      },
      "execution_count": null,
      "outputs": []
    },
    {
      "cell_type": "code",
      "source": [
        "model = Sequential()\n",
        "model.add(LSTM(units=50,return_sequences=True,input_shape=(X_train.shape[1], 1)))\n",
        "model.add(Dropout(0.2))\n",
        "model.add(LSTM(units=50,return_sequences=True))\n",
        "model.add(Dropout(0.2))\n",
        "model.add(LSTM(units=50,return_sequences=True))\n",
        "model.add(Dropout(0.2))\n",
        "model.add(LSTM(units=50))\n",
        "model.add(Dropout(0.2))\n",
        "model.add(Dense(units=1))\n",
        "model.compile(optimizer='adam',loss='mean_squared_error')\n",
        "model.fit(X_train,y_train,epochs=100,batch_size=32)"
      ],
      "metadata": {
        "colab": {
          "base_uri": "https://localhost:8080/"
        },
        "id": "IdM-jLTcAEGR",
        "outputId": "5100ba45-24c4-401d-b5ee-67519e1a7ab6"
      },
      "execution_count": null,
      "outputs": [
        {
          "output_type": "stream",
          "name": "stdout",
          "text": [
            "Epoch 1/100\n",
            "62/62 [==============================] - 18s 139ms/step - loss: 0.0102\n",
            "Epoch 2/100\n",
            "62/62 [==============================] - 9s 145ms/step - loss: 0.0038\n",
            "Epoch 3/100\n",
            "62/62 [==============================] - 10s 154ms/step - loss: 0.0028\n",
            "Epoch 4/100\n",
            "62/62 [==============================] - 10s 159ms/step - loss: 0.0025\n",
            "Epoch 5/100\n",
            "62/62 [==============================] - 8s 132ms/step - loss: 0.0027\n",
            "Epoch 6/100\n",
            "62/62 [==============================] - 9s 153ms/step - loss: 0.0024\n",
            "Epoch 7/100\n",
            "62/62 [==============================] - 10s 154ms/step - loss: 0.0024\n",
            "Epoch 8/100\n",
            "62/62 [==============================] - 9s 138ms/step - loss: 0.0022\n",
            "Epoch 9/100\n",
            "62/62 [==============================] - 9s 150ms/step - loss: 0.0020\n",
            "Epoch 10/100\n",
            "62/62 [==============================] - 10s 155ms/step - loss: 0.0020\n",
            "Epoch 11/100\n",
            "62/62 [==============================] - 10s 158ms/step - loss: 0.0020\n",
            "Epoch 12/100\n",
            "62/62 [==============================] - 9s 141ms/step - loss: 0.0018\n",
            "Epoch 13/100\n",
            "62/62 [==============================] - 10s 155ms/step - loss: 0.0020\n",
            "Epoch 14/100\n",
            "62/62 [==============================] - 10s 157ms/step - loss: 0.0015\n",
            "Epoch 15/100\n",
            "62/62 [==============================] - 9s 153ms/step - loss: 0.0019\n",
            "Epoch 16/100\n",
            "62/62 [==============================] - 9s 138ms/step - loss: 0.0017\n",
            "Epoch 17/100\n",
            "62/62 [==============================] - 10s 160ms/step - loss: 0.0015\n",
            "Epoch 18/100\n",
            "62/62 [==============================] - 10s 159ms/step - loss: 0.0013\n",
            "Epoch 19/100\n",
            "62/62 [==============================] - 9s 147ms/step - loss: 0.0014\n",
            "Epoch 20/100\n",
            "62/62 [==============================] - 9s 149ms/step - loss: 0.0016\n",
            "Epoch 21/100\n",
            "62/62 [==============================] - 10s 159ms/step - loss: 0.0014\n",
            "Epoch 22/100\n",
            "62/62 [==============================] - 10s 160ms/step - loss: 0.0014\n",
            "Epoch 23/100\n",
            "62/62 [==============================] - 9s 145ms/step - loss: 0.0014\n",
            "Epoch 24/100\n",
            "62/62 [==============================] - 10s 155ms/step - loss: 0.0015\n",
            "Epoch 25/100\n",
            "62/62 [==============================] - 10s 158ms/step - loss: 0.0013\n",
            "Epoch 26/100\n",
            "62/62 [==============================] - 10s 157ms/step - loss: 0.0012\n",
            "Epoch 27/100\n",
            "62/62 [==============================] - 9s 140ms/step - loss: 0.0012\n",
            "Epoch 28/100\n",
            "62/62 [==============================] - 10s 160ms/step - loss: 0.0011\n",
            "Epoch 29/100\n",
            "62/62 [==============================] - 10s 158ms/step - loss: 0.0011\n",
            "Epoch 30/100\n",
            "62/62 [==============================] - 10s 158ms/step - loss: 0.0012\n",
            "Epoch 31/100\n",
            "62/62 [==============================] - 9s 140ms/step - loss: 0.0011\n",
            "Epoch 32/100\n",
            "62/62 [==============================] - 10s 159ms/step - loss: 0.0011\n",
            "Epoch 33/100\n",
            "62/62 [==============================] - 10s 160ms/step - loss: 0.0013\n",
            "Epoch 34/100\n",
            "62/62 [==============================] - 10s 159ms/step - loss: 9.9138e-04\n",
            "Epoch 35/100\n",
            "62/62 [==============================] - 9s 139ms/step - loss: 0.0012\n",
            "Epoch 36/100\n",
            "62/62 [==============================] - 10s 159ms/step - loss: 9.2451e-04\n",
            "Epoch 37/100\n",
            "62/62 [==============================] - 10s 158ms/step - loss: 0.0011\n",
            "Epoch 38/100\n",
            "62/62 [==============================] - 10s 154ms/step - loss: 9.3213e-04\n",
            "Epoch 39/100\n",
            "62/62 [==============================] - 9s 138ms/step - loss: 0.0012\n",
            "Epoch 40/100\n",
            "62/62 [==============================] - 10s 157ms/step - loss: 0.0011\n",
            "Epoch 41/100\n",
            "62/62 [==============================] - 10s 156ms/step - loss: 9.6667e-04\n",
            "Epoch 42/100\n",
            "62/62 [==============================] - 9s 152ms/step - loss: 9.0048e-04\n",
            "Epoch 43/100\n",
            "62/62 [==============================] - 9s 145ms/step - loss: 9.1036e-04\n",
            "Epoch 44/100\n",
            "62/62 [==============================] - 10s 159ms/step - loss: 9.5301e-04\n",
            "Epoch 45/100\n",
            "62/62 [==============================] - 10s 158ms/step - loss: 9.1123e-04\n",
            "Epoch 46/100\n",
            "62/62 [==============================] - 9s 139ms/step - loss: 9.2796e-04\n",
            "Epoch 47/100\n",
            "62/62 [==============================] - 10s 155ms/step - loss: 9.0139e-04\n",
            "Epoch 48/100\n",
            "62/62 [==============================] - 10s 156ms/step - loss: 8.3981e-04\n",
            "Epoch 49/100\n",
            "62/62 [==============================] - 10s 156ms/step - loss: 9.1826e-04\n",
            "Epoch 50/100\n",
            "62/62 [==============================] - 9s 137ms/step - loss: 8.4698e-04\n",
            "Epoch 51/100\n",
            "62/62 [==============================] - 10s 156ms/step - loss: 8.9986e-04\n",
            "Epoch 52/100\n",
            "62/62 [==============================] - 10s 156ms/step - loss: 9.0423e-04\n",
            "Epoch 53/100\n",
            "62/62 [==============================] - 9s 152ms/step - loss: 7.5766e-04\n",
            "Epoch 54/100\n",
            "62/62 [==============================] - 9s 138ms/step - loss: 8.1056e-04\n",
            "Epoch 55/100\n",
            "62/62 [==============================] - 10s 157ms/step - loss: 0.0011\n",
            "Epoch 56/100\n",
            "62/62 [==============================] - 10s 159ms/step - loss: 7.9335e-04\n",
            "Epoch 57/100\n",
            "62/62 [==============================] - 9s 145ms/step - loss: 8.9203e-04\n",
            "Epoch 58/100\n",
            "62/62 [==============================] - 9s 151ms/step - loss: 8.1988e-04\n",
            "Epoch 59/100\n",
            "62/62 [==============================] - 10s 158ms/step - loss: 8.1068e-04\n",
            "Epoch 60/100\n",
            "62/62 [==============================] - 10s 158ms/step - loss: 8.3080e-04\n",
            "Epoch 61/100\n",
            "62/62 [==============================] - 9s 140ms/step - loss: 8.0815e-04\n",
            "Epoch 62/100\n",
            "62/62 [==============================] - 10s 160ms/step - loss: 7.0759e-04\n",
            "Epoch 63/100\n",
            "62/62 [==============================] - 10s 157ms/step - loss: 7.8896e-04\n",
            "Epoch 64/100\n",
            "62/62 [==============================] - 10s 154ms/step - loss: 7.0904e-04\n",
            "Epoch 65/100\n",
            "62/62 [==============================] - 9s 138ms/step - loss: 6.3439e-04\n",
            "Epoch 66/100\n",
            "62/62 [==============================] - 10s 160ms/step - loss: 7.5490e-04\n",
            "Epoch 67/100\n",
            "62/62 [==============================] - 10s 158ms/step - loss: 6.9235e-04\n",
            "Epoch 68/100\n",
            "62/62 [==============================] - 10s 158ms/step - loss: 7.4912e-04\n",
            "Epoch 69/100\n",
            "62/62 [==============================] - 9s 141ms/step - loss: 7.2110e-04\n",
            "Epoch 70/100\n",
            "62/62 [==============================] - 10s 159ms/step - loss: 9.6060e-04\n",
            "Epoch 71/100\n",
            "62/62 [==============================] - 9s 151ms/step - loss: 6.9765e-04\n",
            "Epoch 72/100\n",
            "62/62 [==============================] - 9s 149ms/step - loss: 7.1574e-04\n",
            "Epoch 73/100\n",
            "62/62 [==============================] - 8s 136ms/step - loss: 7.0243e-04\n",
            "Epoch 74/100\n",
            "62/62 [==============================] - 9s 150ms/step - loss: 6.5451e-04\n",
            "Epoch 75/100\n",
            "62/62 [==============================] - 9s 150ms/step - loss: 6.9895e-04\n",
            "Epoch 76/100\n",
            "62/62 [==============================] - 9s 150ms/step - loss: 6.7365e-04\n",
            "Epoch 77/100\n",
            "62/62 [==============================] - 8s 137ms/step - loss: 8.0583e-04\n",
            "Epoch 78/100\n",
            "62/62 [==============================] - 9s 153ms/step - loss: 7.2644e-04\n",
            "Epoch 79/100\n",
            "62/62 [==============================] - 9s 153ms/step - loss: 7.2752e-04\n",
            "Epoch 80/100\n",
            "62/62 [==============================] - 9s 152ms/step - loss: 6.7151e-04\n",
            "Epoch 81/100\n",
            "62/62 [==============================] - 9s 151ms/step - loss: 6.9949e-04\n",
            "Epoch 82/100\n",
            "62/62 [==============================] - 8s 135ms/step - loss: 6.7997e-04\n",
            "Epoch 83/100\n",
            "62/62 [==============================] - 9s 148ms/step - loss: 9.6124e-04\n",
            "Epoch 84/100\n",
            "62/62 [==============================] - 9s 148ms/step - loss: 6.4790e-04\n",
            "Epoch 85/100\n",
            "62/62 [==============================] - 9s 150ms/step - loss: 6.3570e-04\n",
            "Epoch 86/100\n",
            "62/62 [==============================] - 8s 135ms/step - loss: 7.0853e-04\n",
            "Epoch 87/100\n",
            "62/62 [==============================] - 9s 150ms/step - loss: 7.2645e-04\n",
            "Epoch 88/100\n",
            "62/62 [==============================] - 9s 151ms/step - loss: 6.6621e-04\n",
            "Epoch 89/100\n",
            "62/62 [==============================] - 9s 152ms/step - loss: 6.5259e-04\n",
            "Epoch 90/100\n",
            "62/62 [==============================] - 8s 137ms/step - loss: 6.5044e-04\n",
            "Epoch 91/100\n",
            "62/62 [==============================] - 9s 150ms/step - loss: 6.9264e-04\n",
            "Epoch 92/100\n",
            "62/62 [==============================] - 9s 151ms/step - loss: 6.5480e-04\n",
            "Epoch 93/100\n",
            "62/62 [==============================] - 9s 152ms/step - loss: 6.3769e-04\n",
            "Epoch 94/100\n",
            "62/62 [==============================] - 9s 144ms/step - loss: 6.9496e-04\n",
            "Epoch 95/100\n",
            "62/62 [==============================] - 9s 144ms/step - loss: 6.0430e-04\n",
            "Epoch 96/100\n",
            "62/62 [==============================] - 9s 150ms/step - loss: 6.3372e-04\n",
            "Epoch 97/100\n",
            "62/62 [==============================] - 9s 150ms/step - loss: 6.5090e-04\n",
            "Epoch 98/100\n",
            "62/62 [==============================] - 9s 151ms/step - loss: 6.6754e-04\n",
            "Epoch 99/100\n",
            "62/62 [==============================] - 9s 139ms/step - loss: 6.0857e-04\n",
            "Epoch 100/100\n",
            "62/62 [==============================] - 9s 152ms/step - loss: 6.4864e-04\n"
          ]
        },
        {
          "output_type": "execute_result",
          "data": {
            "text/plain": [
              "<keras.callbacks.History at 0x7f3a3804f3d0>"
            ]
          },
          "metadata": {},
          "execution_count": 21
        }
      ]
    },
    {
      "cell_type": "code",
      "source": [
        "url = 'https://raw.githubusercontent.com/mwitiderrick/stockprice/master/tatatest.csv'\n",
        "dataset_test = pd.read_csv(url)\n",
        "real_stock_price = dataset_test.iloc[:, 1:2].values"
      ],
      "metadata": {
        "id": "ZD4BNt7BAF2Y"
      },
      "execution_count": null,
      "outputs": []
    },
    {
      "cell_type": "code",
      "source": [
        "dataset_total = pd.concat((dataset_train['Open'], dataset_test['Open']), axis = 0)\n",
        "inputs = dataset_total[len(dataset_total) - len(dataset_test) - 60:].values\n",
        "inputs = inputs.reshape(-1,1)\n",
        "inputs = sc.transform(inputs)\n",
        "X_test = []\n",
        "for i in range(60, 76):\n",
        "  X_test.append(inputs[i-60:i, 0])\n",
        "X_test = np.array(X_test)\n",
        "X_test = np.reshape(X_test, (X_test.shape[0], X_test.shape[1], 1))\n",
        "predicted_stock_price = model.predict(X_test)\n",
        "predicted_stock_price = sc.inverse_transform(predicted_stock_price)"
      ],
      "metadata": {
        "colab": {
          "base_uri": "https://localhost:8080/"
        },
        "id": "xVgJIF2dAJD8",
        "outputId": "142504d6-1e46-4677-c99d-0d38350258a7"
      },
      "execution_count": null,
      "outputs": [
        {
          "output_type": "stream",
          "name": "stdout",
          "text": [
            "1/1 [==============================] - 3s 3s/step\n"
          ]
        }
      ]
    },
    {
      "cell_type": "code",
      "source": [
        "plt.plot(real_stock_price, color = 'black', label = 'TATA Stock Price')\n",
        "plt.plot(predicted_stock_price, color = 'green', label = 'Predicted TATA Stock Price')\n",
        "plt.title('TATA Stock Price Prediction')\n",
        "plt.xlabel('Time')\n",
        "plt.ylabel('TATA Stock Price')\n",
        "plt.legend()\n",
        "plt.show()"
      ],
      "metadata": {
        "colab": {
          "base_uri": "https://localhost:8080/",
          "height": 295
        },
        "id": "3V36-zk9AJZy",
        "outputId": "fd2f5452-b50e-4b1a-a070-06cf168c456a"
      },
      "execution_count": null,
      "outputs": [
        {
          "output_type": "display_data",
          "data": {
            "text/plain": [
              "<Figure size 432x288 with 1 Axes>"
            ],
            "image/png": "[encoded data removed]"
          },
          "metadata": {
            "needs_background": "light"
          }
        }
      ]
    }
  ]
}