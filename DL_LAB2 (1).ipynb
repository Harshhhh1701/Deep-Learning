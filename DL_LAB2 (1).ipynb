{
  "nbformat": 4,
  "nbformat_minor": 0,
  "metadata": {
    "colab": {
      "provenance": []
    },
    "kernelspec": {
      "name": "python3",
      "display_name": "Python 3"
    },
    "language_info": {
      "name": "python"
    }
  },
  "cells": [
    {
      "cell_type": "markdown",
      "source": [
        "## HARSH ASHOK VALAMBE\n",
        "## 20BRS1197\n",
        "### LAB-2"
      ],
      "metadata": {
        "id": "sjd4Noz5IwmS"
      }
    },
    {
      "cell_type": "code",
      "execution_count": null,
      "metadata": {
        "colab": {
          "base_uri": "https://localhost:8080/"
        },
        "id": "H5UFIw7FkaU4",
        "outputId": "38f4312f-d37a-431c-ba31-1328a59ac9a2"
      },
      "outputs": [
        {
          "output_type": "execute_result",
          "data": {
            "text/plain": [
              "array(12)"
            ]
          },
          "metadata": {},
          "execution_count": 1
        }
      ],
      "source": [
        "import numpy as np\n",
        "x=np.array(12)\n",
        "x"
      ]
    },
    {
      "cell_type": "code",
      "source": [
        "x.ndim"
      ],
      "metadata": {
        "colab": {
          "base_uri": "https://localhost:8080/"
        },
        "id": "G_DSYWTglQHZ",
        "outputId": "5cdce9b5-66ee-4b7a-b7e1-d5c919fef8a9"
      },
      "execution_count": null,
      "outputs": [
        {
          "output_type": "execute_result",
          "data": {
            "text/plain": [
              "0"
            ]
          },
          "metadata": {},
          "execution_count": 2
        }
      ]
    },
    {
      "cell_type": "code",
      "source": [
        "x=np.array([12,3,6,14])\n",
        "x"
      ],
      "metadata": {
        "colab": {
          "base_uri": "https://localhost:8080/"
        },
        "id": "mazd4_PZldbA",
        "outputId": "fde0ff2b-8c3f-4349-eaa2-97e778b737d9"
      },
      "execution_count": null,
      "outputs": [
        {
          "output_type": "execute_result",
          "data": {
            "text/plain": [
              "array([12,  3,  6, 14])"
            ]
          },
          "metadata": {},
          "execution_count": 3
        }
      ]
    },
    {
      "cell_type": "code",
      "source": [
        "x.ndim"
      ],
      "metadata": {
        "colab": {
          "base_uri": "https://localhost:8080/"
        },
        "id": "8qS_iNr7lkTh",
        "outputId": "f0c18e43-c459-4fb4-80b2-e4fd9c7941e5"
      },
      "execution_count": null,
      "outputs": [
        {
          "output_type": "execute_result",
          "data": {
            "text/plain": [
              "1"
            ]
          },
          "metadata": {},
          "execution_count": 4
        }
      ]
    },
    {
      "cell_type": "code",
      "source": [
        "x=np.array([[12,3,6,14],[12,3,6,14]])\n",
        "x"
      ],
      "metadata": {
        "colab": {
          "base_uri": "https://localhost:8080/"
        },
        "id": "ypftm_pKlyKo",
        "outputId": "8a9c1c82-570b-48d8-cd4a-c579e771f953"
      },
      "execution_count": null,
      "outputs": [
        {
          "output_type": "execute_result",
          "data": {
            "text/plain": [
              "array([[12,  3,  6, 14],\n",
              "       [12,  3,  6, 14]])"
            ]
          },
          "metadata": {},
          "execution_count": 5
        }
      ]
    },
    {
      "cell_type": "code",
      "source": [
        "x.ndim"
      ],
      "metadata": {
        "colab": {
          "base_uri": "https://localhost:8080/"
        },
        "id": "oym1VIXml_mZ",
        "outputId": "a9ce62f0-1fc4-4697-de35-7abc7675564e"
      },
      "execution_count": null,
      "outputs": [
        {
          "output_type": "execute_result",
          "data": {
            "text/plain": [
              "2"
            ]
          },
          "metadata": {},
          "execution_count": 6
        }
      ]
    },
    {
      "cell_type": "code",
      "source": [
        "x=np.array([[[5,78,2,34,0], [6,79,3,35,1],\n",
        "               [7,80,4,36,2]], [[5,78,2,34,0],\n",
        "              [6,79,3,35,1], [7,80,4,36,2]],\n",
        "              [[5,78,2,34,0], [6,79,3,35,1], [7,80,4,36,2]]])\n",
        "x"
      ],
      "metadata": {
        "colab": {
          "base_uri": "https://localhost:8080/"
        },
        "id": "70nvFQqKmCy3",
        "outputId": "aaf70bb5-8fc1-417d-e219-a990bf1b519b"
      },
      "execution_count": null,
      "outputs": [
        {
          "output_type": "execute_result",
          "data": {
            "text/plain": [
              "array([[[ 5, 78,  2, 34,  0],\n",
              "        [ 6, 79,  3, 35,  1],\n",
              "        [ 7, 80,  4, 36,  2]],\n",
              "\n",
              "       [[ 5, 78,  2, 34,  0],\n",
              "        [ 6, 79,  3, 35,  1],\n",
              "        [ 7, 80,  4, 36,  2]],\n",
              "\n",
              "       [[ 5, 78,  2, 34,  0],\n",
              "        [ 6, 79,  3, 35,  1],\n",
              "        [ 7, 80,  4, 36,  2]]])"
            ]
          },
          "metadata": {},
          "execution_count": 7
        }
      ]
    },
    {
      "cell_type": "code",
      "source": [
        "x.ndim"
      ],
      "metadata": {
        "colab": {
          "base_uri": "https://localhost:8080/"
        },
        "id": "10kPKWOyngvB",
        "outputId": "a85cf247-02a3-45ad-c9f1-ba93f09804dc"
      },
      "execution_count": null,
      "outputs": [
        {
          "output_type": "execute_result",
          "data": {
            "text/plain": [
              "3"
            ]
          },
          "metadata": {},
          "execution_count": 8
        }
      ]
    },
    {
      "cell_type": "markdown",
      "source": [
        "## Tensor Operations"
      ],
      "metadata": {
        "id": "kZz66ay7np9n"
      }
    },
    {
      "cell_type": "code",
      "source": [
        "\n",
        "import keras\n",
        "from keras import layers\n",
        "from keras import models\n",
        "from tensorflow.keras.activations import relu\n",
        "from keras.layers import dot\n",
        "keras.layers.Dense(512,activation='relu')\n",
        "# output=relu(dot(W,input)+b)\n",
        "\n",
        "def naive_relu(x):\n",
        "  assert len(x.shape)==2\n",
        "  x=x.copy()\n",
        "  for i in range (x.shape[0]):\n",
        "    for j in range (x.shape[1]):\n",
        "      x[i,j]=max(x[i,j],0)\n",
        "  return x\n"
      ],
      "metadata": {
        "id": "pn2KoNoRntT_"
      },
      "execution_count": null,
      "outputs": []
    },
    {
      "cell_type": "code",
      "source": [
        "def naive_add(x,y):\n",
        "  assert len(x.shape)==2\n",
        "  assert x.shape==y.shape\n",
        "  x=x.copy()\n",
        "  for i in range (x.shape[0]):\n",
        "    for j in range (x.shape[1]):\n",
        "      x[i,j]+=y[i,j]\n",
        "  return x\n",
        "  z=x+y\n",
        "  z=np.maximum(z,0.)"
      ],
      "metadata": {
        "id": "3eWOCSDoofVR"
      },
      "execution_count": null,
      "outputs": []
    },
    {
      "cell_type": "code",
      "source": [
        "def naive_add_matrix_and_vector(x,y):\n",
        "  assert len(x.shape) == 2\n",
        "  assert len(y.shape) == 1\n",
        "  assert x.shape[1] == y.shape[0]\n",
        "\n",
        "  x = x.copy()\n",
        "  for i in range(x.shape[0]):\n",
        "    for j in range(x.shape[1]):\n",
        "      x[i, j] += y[j]\n",
        "  return x\n",
        "\n",
        "import numpy as np \n",
        "x = np.random.random((64,3,32,10))\n",
        "y = np.random.random((32,10))\n",
        "z = np.maximum(x,y)"
      ],
      "metadata": {
        "id": "2hUCufXLJENk"
      },
      "execution_count": null,
      "outputs": []
    },
    {
      "cell_type": "code",
      "source": [
        "import numpy as np\n",
        "\n",
        "def naive_relu(x):\n",
        "    assert len(x.shape) == 2\n",
        "    x = x.copy()\n",
        "\n",
        "    for i in range(x.shape[0]):\n",
        "      for j in range(x.shape[1]):\n",
        "        x[i, j] = max(x[i,j], 0)    \n",
        "    return x \n",
        "\n",
        "x = np.array([[-1,2,3,4],[8,7,-8,9]])\n",
        "print(naive_relu(x))"
      ],
      "metadata": {
        "colab": {
          "base_uri": "https://localhost:8080/"
        },
        "id": "a8SE_62oJTZA",
        "outputId": "b244b0cc-afd2-407c-99f2-fd6581f1fa7b"
      },
      "execution_count": null,
      "outputs": [
        {
          "output_type": "stream",
          "name": "stdout",
          "text": [
            "[[0 2 3 4]\n",
            " [8 7 0 9]]\n"
          ]
        }
      ]
    },
    {
      "cell_type": "code",
      "source": [
        "# Import global tensorflow\n",
        "import tensorflow as tf"
      ],
      "metadata": {
        "id": "pMlRO7MCJkgq"
      },
      "execution_count": null,
      "outputs": []
    },
    {
      "cell_type": "code",
      "source": [
        "from tensorflow.keras import activations\n",
        "\n",
        "x = np.array([[1,2,3,-4,-5],[6,7,-8,9,10]])\n",
        "print(activations.relu(x))"
      ],
      "metadata": {
        "colab": {
          "base_uri": "https://localhost:8080/"
        },
        "id": "MFj9-wYqJmUn",
        "outputId": "a6cd9e05-0825-45e1-ba12-50aa378e15b8"
      },
      "execution_count": null,
      "outputs": [
        {
          "output_type": "stream",
          "name": "stdout",
          "text": [
            "tf.Tensor(\n",
            "[[ 1  2  3  0  0]\n",
            " [ 6  7  0  9 10]], shape=(2, 5), dtype=int64)\n"
          ]
        }
      ]
    },
    {
      "cell_type": "code",
      "source": [
        "import numpy as np \n",
        "\n",
        "x = np.array([[1,2,3,4],[1,8,7,8]])\n",
        "y = np.array([10,3,6,8])\n",
        "\n",
        "print(x+y)"
      ],
      "metadata": {
        "colab": {
          "base_uri": "https://localhost:8080/"
        },
        "id": "jmzu0pGcJsbH",
        "outputId": "0e5e1a37-d214-4a22-e7c9-e9b8da588341"
      },
      "execution_count": null,
      "outputs": [
        {
          "output_type": "stream",
          "name": "stdout",
          "text": [
            "[[11  5  9 12]\n",
            " [11 11 13 16]]\n"
          ]
        }
      ]
    },
    {
      "cell_type": "code",
      "source": [
        "x = np.array([[1,2,3,4],[1,8,7,8]])\n",
        "y = np.array([10,3,6,8])\n",
        "\n",
        "print(naive_add_matrix_and_vector(x,y))"
      ],
      "metadata": {
        "colab": {
          "base_uri": "https://localhost:8080/"
        },
        "id": "9zqwmchpJusl",
        "outputId": "5c649c1b-18cc-4cb3-d41e-4182977c86ff"
      },
      "execution_count": null,
      "outputs": [
        {
          "output_type": "stream",
          "name": "stdout",
          "text": [
            "[[11  5  9 12]\n",
            " [11 11 13 16]]\n"
          ]
        }
      ]
    },
    {
      "cell_type": "markdown",
      "source": [
        "## DECLARE 5-D TENSOR AND DISPLAY THE DIMENSION"
      ],
      "metadata": {
        "id": "eYP5JJKpKaVm"
      }
    },
    {
      "cell_type": "code",
      "source": [
        "import numpy as np\n",
        "\n",
        "x = np.array(\n",
        "    [\n",
        "        [\n",
        "            [\n",
        "                [\n",
        "                    [1,2,3,4,5]\n",
        "                ],\n",
        "                [\n",
        "                    [4,7,4,7,2]\n",
        "                ],\n",
        "                [\n",
        "                    [3,2,1,0,5]\n",
        "                ],            \n",
        "            ],\n",
        "            [\n",
        "                [\n",
        "                    [1,2,3,4,5]\n",
        "                ],\n",
        "                [\n",
        "                    [3,2,1,0,5]\n",
        "                ],\n",
        "                [\n",
        "                    [4,7,4,7,2]\n",
        "                ],            \n",
        "            ],\n",
        "        ],\n",
        "         [\n",
        "            [\n",
        "                [\n",
        "                    [1,2,3,4,5]\n",
        "                ],\n",
        "                [\n",
        "                    [3,2,1,0,5]\n",
        "                ],\n",
        "                [\n",
        "                    [3,2,1,0,5]\n",
        "                ],            \n",
        "            ],\n",
        "            [\n",
        "                [\n",
        "                    [1,2,3,4,5]\n",
        "                ],\n",
        "                [\n",
        "                    [4,7,4,7,2]\n",
        "                ],\n",
        "                [\n",
        "                    [4,5,1,3,5]\n",
        "                ],            \n",
        "            ],\n",
        "        ],\n",
        "          \n",
        "    ]\n",
        ")\n",
        "\n",
        "print(x.shape)"
      ],
      "metadata": {
        "colab": {
          "base_uri": "https://localhost:8080/"
        },
        "id": "dxU38JpFJyH4",
        "outputId": "7175fb36-52b2-4d26-abf2-bc4ab1e2c635"
      },
      "execution_count": null,
      "outputs": [
        {
          "output_type": "stream",
          "name": "stdout",
          "text": [
            "(2, 2, 3, 1, 5)\n"
          ]
        }
      ]
    },
    {
      "cell_type": "markdown",
      "source": [
        "## Take real time datasets for all 5 dimensions and perform basic tensor flow operations"
      ],
      "metadata": {
        "id": "qadH7Z56Xihv"
      }
    },
    {
      "cell_type": "code",
      "source": [
        "from google.colab import drive\n",
        "\n",
        "drive.mount(\"/content/gdrive\")"
      ],
      "metadata": {
        "id": "7tCtKz2ngQga"
      },
      "execution_count": null,
      "outputs": []
    },
    {
      "cell_type": "code",
      "source": [
        "import cv2\n",
        "cap=cv2.VideoCapture('/content/sample1.mp4')\n",
        "set1=[]\n",
        "i=0\n",
        "while(i<100):\n",
        "  ret,frame=cap.read()\n",
        "  if ret:\n",
        "    frame=cv2.resize(frame,(300,300),fx=0,fy=0,\n",
        "                     interpolation=cv2.INTER_CUBIC)\n",
        "    set1.append(frame)\n",
        "    i+=1\n",
        "    if cv2.waitKey(25) & 0xFF==ord('q'):\n",
        "      break\n",
        "  else:\n",
        "    cap.set(cv2.CAP_PROP_POS_FRAMES,0)\n",
        "    break\n",
        "cap.release()\n",
        "cv2.destroyAllWindows()\n"
      ],
      "metadata": {
        "id": "waJCazHhrnkY"
      },
      "execution_count": null,
      "outputs": []
    },
    {
      "cell_type": "code",
      "source": [
        "cap=cv2.VideoCapture('/content/sample1.mp4')\n",
        "set2=[]\n",
        "i=0\n",
        "while(i<100):\n",
        "  ret,frame=cap.read()\n",
        "  if ret:\n",
        "    frame=cv2.resize(frame,(300,300),fx=0,fy=0,\n",
        "                     interpolation=cv2.INTER_CUBIC)\n",
        "    set2.append(frame)\n",
        "    i+=1\n",
        "    if cv2.waitKey(25) & 0xFF==ord('q'):\n",
        "      break\n",
        "  else:\n",
        "    cap.set(cv2.CAP_PROP_POS_FRAMES,0)\n",
        "    break\n",
        "cap.release()\n",
        "cv2.destroyAllWindows()\n",
        "vidset1=np.array([set1,set2])"
      ],
      "metadata": {
        "id": "RSS1nCGxvqyf"
      },
      "execution_count": null,
      "outputs": []
    },
    {
      "cell_type": "code",
      "source": [
        "cap=cv2.VideoCapture('/content/sample3.mp4')\n",
        "set1=[]\n",
        "i=0\n",
        "while(i<100):\n",
        "  ret,frame=cap.read()\n",
        "  if ret:\n",
        "    frame=cv2.resize(frame,(300,300),fx=0,fy=0,\n",
        "                     interpolation=cv2.INTER_CUBIC)\n",
        "    set1.append(frame)\n",
        "    i+=1\n",
        "    if cv2.waitKey(25) & 0xFF==ord('q'):\n",
        "      break\n",
        "  else:\n",
        "    cap.set(cv2.CAP_PROP_POS_FRAMES,0)\n",
        "    break\n",
        "cap.release()\n",
        "cv2.destroyAllWindows()"
      ],
      "metadata": {
        "id": "VJrAZ-PIvq8b"
      },
      "execution_count": null,
      "outputs": []
    },
    {
      "cell_type": "code",
      "source": [
        "cap=cv2.VideoCapture('/content/sample4.mp4')\n",
        "set2=[]\n",
        "i=0\n",
        "while(i<100):\n",
        "  ret,frame=cap.read()\n",
        "  if ret:\n",
        "    frame=cv2.resize(frame,(300,300),fx=0,fy=0,\n",
        "                     interpolation=cv2.INTER_CUBIC)\n",
        "    set2.append(frame)\n",
        "    i+=1\n",
        "    if cv2.waitKey(25) & 0xFF==ord('q'):\n",
        "      break\n",
        "  else:\n",
        "    cap.set(cv2.CAP_PROP_POS_FRAMES,0)\n",
        "    break\n",
        "cap.release()\n",
        "cv2.destroyAllWindows()\n",
        "vidset2=np.array([set1,set2])"
      ],
      "metadata": {
        "id": "NWufxbOpvrFy"
      },
      "execution_count": null,
      "outputs": []
    },
    {
      "cell_type": "code",
      "source": [
        "print(vidset1.shape)\n",
        "print(vidset2.shape)"
      ],
      "metadata": {
        "colab": {
          "base_uri": "https://localhost:8080/"
        },
        "id": "IbqHJIkAvrPH",
        "outputId": "4a6b4a0b-7c2b-4e5c-a72b-b69959d3e5fa"
      },
      "execution_count": null,
      "outputs": [
        {
          "output_type": "stream",
          "name": "stdout",
          "text": [
            "(2, 100, 300, 300, 3)\n",
            "(2, 100, 300, 300, 3)\n"
          ]
        }
      ]
    },
    {
      "cell_type": "code",
      "source": [
        "def subvideo(x1,x2):\n",
        "  assert x1.ndim==5\n",
        "  assert x2.ndim==5\n",
        "  for i1 in range(x1.shape[0]):\n",
        "    for i2 in range(x1.shape[1]):\n",
        "      for i3 in range(x1.shape[2]):\n",
        "        for i4 in range(x1.shape[3]):\n",
        "          for i5 in range(x1.shape[4]):\n",
        "            if x1[i1][i2][i3][i4][i5]>x2[i1][i2][i3][i4][i5]:\n",
        "              x1[i1][i2][i3][i4][i5]-=x2[i1][i2][i3][i4][i5]\n",
        "            else:\n",
        "              x2[i1][i2][i3][i4][i5]-=x1[i1][i2][i3][i4][i5]\n",
        "              x1[i1][i2][i3][i4][i5]=x2[i1][i2][i3][i4][i5]\n",
        "\n",
        "  return x1"
      ],
      "metadata": {
        "id": "eN4g28QSz70Y"
      },
      "execution_count": null,
      "outputs": []
    },
    {
      "cell_type": "code",
      "source": [
        "def addvideo(x1,x2):\n",
        "  assert x1.ndim==5\n",
        "  assert x2.ndim==5\n",
        "  for i1 in range(x1.shape[0]):\n",
        "    for i2 in range(x1.shape[1]):\n",
        "      for i3 in range(x1.shape[2]):\n",
        "        for i4 in range(x1.shape[3]):\n",
        "          for i5 in range(x1.shape[4]):\n",
        "            if x1[i1][i2][i3][i4][i5]+x2[i1][i2][i3][i4][i5]<255:\n",
        "              x1[i1][i2][i3][i4][i5]+=x2[i1][i2][i3][i4][i5]\n",
        "           \n",
        "\n",
        "\n",
        "  return x1"
      ],
      "metadata": {
        "id": "PtyLMxJY34av"
      },
      "execution_count": null,
      "outputs": []
    },
    {
      "cell_type": "code",
      "source": [
        "videoset1=subvideo(vidset1,vidset2)"
      ],
      "metadata": {
        "id": "Y8FIddaY4FsQ"
      },
      "execution_count": null,
      "outputs": []
    },
    {
      "cell_type": "code",
      "source": [
        "print(videoset1.shape)"
      ],
      "metadata": {
        "colab": {
          "base_uri": "https://localhost:8080/"
        },
        "id": "hmHq59PV4tP_",
        "outputId": "becbf2a0-846a-48ba-c3ef-ed11ec45bd67"
      },
      "execution_count": null,
      "outputs": [
        {
          "output_type": "stream",
          "name": "stdout",
          "text": [
            "(2, 100, 300, 300, 3)\n"
          ]
        }
      ]
    },
    {
      "cell_type": "code",
      "source": [
        "videoset2=addvideo(vidset1,vidset2)"
      ],
      "metadata": {
        "colab": {
          "base_uri": "https://localhost:8080/"
        },
        "id": "V28w2k6R4ye0",
        "outputId": "68252d01-aecc-43a2-980d-734fed8ea67d"
      },
      "execution_count": null,
      "outputs": [
        {
          "output_type": "stream",
          "name": "stderr",
          "text": [
            "<ipython-input-51-3f6a36e1594a>:9: RuntimeWarning: overflow encountered in ubyte_scalars\n",
            "  if x1[i1][i2][i3][i4][i5]+x2[i1][i2][i3][i4][i5]<255:\n",
            "<ipython-input-51-3f6a36e1594a>:10: RuntimeWarning: overflow encountered in ubyte_scalars\n",
            "  x1[i1][i2][i3][i4][i5]+=x2[i1][i2][i3][i4][i5]\n"
          ]
        }
      ]
    },
    {
      "cell_type": "markdown",
      "source": [],
      "metadata": {
        "id": "a7tMpHZQ8TIi"
      }
    },
    {
      "cell_type": "code",
      "source": [
        "print(videoset2.shape)"
      ],
      "metadata": {
        "colab": {
          "base_uri": "https://localhost:8080/"
        },
        "id": "ObjBMnbV6r2I",
        "outputId": "4d781361-aa9e-439a-fd74-435de5b729ea"
      },
      "execution_count": null,
      "outputs": [
        {
          "output_type": "stream",
          "name": "stdout",
          "text": [
            "(2, 100, 300, 300, 3)\n"
          ]
        }
      ]
    },
    {
      "cell_type": "markdown",
      "source": [
        "## IMPLEMENT A PERCEPTRON NETWORK FOR A SIMPLE ADDER CIRCUIT"
      ],
      "metadata": {
        "id": "tHgZs8cMK2hm"
      }
    },
    {
      "cell_type": "code",
      "source": [
        "import numpy as np\n",
        "  \n",
        "def unitStep(x):\n",
        "    if x>= 0:\n",
        "        return 1\n",
        "    else:\n",
        "        return 0\n"
      ],
      "metadata": {
        "id": "V7O4MTrLK2Co"
      },
      "execution_count": null,
      "outputs": []
    },
    {
      "cell_type": "code",
      "source": [
        "def perceptronModel(x, w, b):\n",
        "    v = np.dot(w, x) + b\n",
        "    y = unitStep(v)\n",
        "    return y\n",
        "  \n",
        "def NOT_logicFunction(x):\n",
        "    wn = -1\n",
        "    bn = 0.5\n",
        "    return perceptronModel(x, wn, bn)"
      ],
      "metadata": {
        "id": "FNoOEVZGWQoV"
      },
      "execution_count": null,
      "outputs": []
    },
    {
      "cell_type": "code",
      "source": [
        "def AND_logicFunction(x):\n",
        "    w = np.array([1, 1])\n",
        "    b = -1.5\n",
        "    return perceptronModel(x, w, b)\n",
        "\n",
        "def NAND_logicFunction(x):\n",
        "    o_AND = AND_logicFunction(x)\n",
        "    o_NOT = NOT_logicFunction(o_AND)\n",
        "    return o_NOT\n",
        "  \n",
        "def XOR_logicFunction(x):\n",
        "  a_nand_b = NAND_logicFunction(x)\n",
        "  part1 = NAND_logicFunction(np.array([x[0], a_nand_b]))\n",
        "  part2 = NAND_logicFunction(np.array([x[1], a_nand_b]))\n",
        "\n",
        "  return NAND_logicFunction(np.array([part1, part2]))"
      ],
      "metadata": {
        "id": "YAMVXqvTWQqS"
      },
      "execution_count": null,
      "outputs": []
    },
    {
      "cell_type": "code",
      "source": [
        "test1 = np.array([0, 0])\n",
        "test2 = np.array([0, 1])\n",
        "test3 = np.array([1, 0])\n",
        "test4 = np.array([1, 1])\n",
        "\n",
        "# XOR\n",
        "print(XOR_logicFunction(test1))\n",
        "print(XOR_logicFunction(test2))\n",
        "print(XOR_logicFunction(test3))\n",
        "print(XOR_logicFunction(test4))\n",
        "\n",
        "# AND\n",
        "print(AND_logicFunction(test1))\n",
        "print(AND_logicFunction(test2))\n",
        "print(AND_logicFunction(test3))\n",
        "print(AND_logicFunction(test4))"
      ],
      "metadata": {
        "colab": {
          "base_uri": "https://localhost:8080/"
        },
        "id": "iJVpZIlJXaoG",
        "outputId": "d108efd1-01bc-461f-ad4d-93a7f2b548a1"
      },
      "execution_count": null,
      "outputs": [
        {
          "output_type": "stream",
          "name": "stdout",
          "text": [
            "0\n",
            "1\n",
            "1\n",
            "0\n",
            "0\n",
            "0\n",
            "0\n",
            "1\n"
          ]
        }
      ]
    }
  ]
}