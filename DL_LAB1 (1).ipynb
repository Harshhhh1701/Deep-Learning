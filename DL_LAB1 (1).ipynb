{
  "nbformat": 4,
  "nbformat_minor": 0,
  "metadata": {
    "colab": {
      "provenance": []
    },
    "kernelspec": {
      "name": "python3",
      "display_name": "Python 3"
    },
    "language_info": {
      "name": "python"
    }
  },
  "cells": [
    {
      "cell_type": "markdown",
      "source": [
        "## HARSH ASHOK VALAMBE\n",
        "## 20BRS1197\n",
        "\n",
        "## Date: 08/12/2022\n",
        "# Lab-1\n"
      ],
      "metadata": {
        "id": "RxdCLB58mrzo"
      }
    },
    {
      "cell_type": "markdown",
      "source": [
        "### Lab report should contain CODE\n",
        "1. Importing fashion dataset and perform classification for the following labels \n",
        "2. Import PatchCamelyon (PCAM) and perform classification. [Github](https://github.com/basveeling/pcam) \n",
        "3. Import Cat and Dog Dataset for classification [Kaggle](https://www.kaggle.com/code/arbazkhan971/image-classification-using-cnn-94-accuracy) "
      ],
      "metadata": {
        "id": "5oOQlMXKSAEp"
      }
    },
    {
      "cell_type": "markdown",
      "source": [
        "## Code for mnist dataset"
      ],
      "metadata": {
        "id": "yDfE7Z_kUEjW"
      }
    },
    {
      "cell_type": "code",
      "source": [
        "from keras.datasets import mnist\n",
        "import pandas as pd\n",
        "(train_images, train_labels),(test_images,test_labels) = mnist.load_data()\n",
        "\n",
        "train_images.shape\n",
        "\n",
        "len(train_images)\n",
        "\n",
        "train_labels.shape\n",
        "\n",
        "print(len(test_images))\n",
        "print(len(test_labels))\n",
        "\n",
        "type(train_images)\n",
        "\n"
      ],
      "metadata": {
        "colab": {
          "base_uri": "https://localhost:8080/"
        },
        "id": "XoSK5F5cUJBv",
        "outputId": "a3aa51b6-d3d8-4e54-c6d4-769cc82ae386"
      },
      "execution_count": null,
      "outputs": [
        {
          "output_type": "stream",
          "name": "stdout",
          "text": [
            "10000\n",
            "10000\n"
          ]
        },
        {
          "output_type": "execute_result",
          "data": {
            "text/plain": [
              "numpy.ndarray"
            ]
          },
          "metadata": {},
          "execution_count": 12
        }
      ]
    },
    {
      "cell_type": "code",
      "source": [
        "train_images.shape"
      ],
      "metadata": {
        "colab": {
          "base_uri": "https://localhost:8080/"
        },
        "id": "W2GRHKRQUMp3",
        "outputId": "812fffef-722b-43e4-f9ce-058b1bf93909"
      },
      "execution_count": null,
      "outputs": [
        {
          "output_type": "execute_result",
          "data": {
            "text/plain": [
              "(60000, 28, 28)"
            ]
          },
          "metadata": {},
          "execution_count": 13
        }
      ]
    },
    {
      "cell_type": "markdown",
      "source": [
        "## Model Creation"
      ],
      "metadata": {
        "id": "j1wZZYYpUU6a"
      }
    },
    {
      "cell_type": "code",
      "source": [
        "from keras import models \n",
        "from keras import layers \n",
        "\n",
        "network = models.Sequential()\n",
        "network.add(layers.Dense(512, activation=\"relu\", input_shape=(28*28,)))\n",
        "network.add(layers.Dense(10, activation=\"softmax\"))\n",
        "\n",
        "network.compile(optimizer=\"rmsprop\",loss=\"categorical_crossentropy\", metrics=['accuracy'])\n",
        "\n",
        "\n",
        "train_images = train_images.reshape((60000,28*28))\n",
        "train_images = train_images.astype('float32')/255\n",
        "\n",
        "test_images = test_images.reshape((10000, 28*28))\n",
        "test_images = test_images.astype('float32')/255"
      ],
      "metadata": {
        "id": "EXYJzFgsURwf"
      },
      "execution_count": null,
      "outputs": []
    },
    {
      "cell_type": "code",
      "source": [
        "train_images.shape"
      ],
      "metadata": {
        "colab": {
          "base_uri": "https://localhost:8080/"
        },
        "id": "oF7qfOVrUcuj",
        "outputId": "7abe571d-a423-433b-fc72-80358af8ced4"
      },
      "execution_count": null,
      "outputs": [
        {
          "output_type": "execute_result",
          "data": {
            "text/plain": [
              "(60000, 784)"
            ]
          },
          "metadata": {},
          "execution_count": 15
        }
      ]
    },
    {
      "cell_type": "markdown",
      "source": [
        "## Training"
      ],
      "metadata": {
        "id": "HCUMUDjvWDKY"
      }
    },
    {
      "cell_type": "code",
      "source": [
        "from keras.utils import to_categorical \n",
        "train_labels = to_categorical(train_labels)\n",
        "test_labels = to_categorical(test_labels)\n",
        "\n",
        "network.fit(train_images, train_labels, epochs=5, batch_size=128)\n",
        "\n",
        "test_loss, test_acc = network.evaluate(test_images, test_labels) \n",
        "\n",
        "print(\"Test accuracy: \", test_acc)"
      ],
      "metadata": {
        "colab": {
          "base_uri": "https://localhost:8080/"
        },
        "id": "hvIwZia8UgS5",
        "outputId": "4f73c03a-f9c9-469e-867d-ed679881ef53"
      },
      "execution_count": null,
      "outputs": [
        {
          "output_type": "stream",
          "name": "stdout",
          "text": [
            "Epoch 1/5\n",
            "469/469 [==============================] - 6s 12ms/step - loss: 0.2559 - accuracy: 0.9269\n",
            "Epoch 2/5\n",
            "469/469 [==============================] - 5s 11ms/step - loss: 0.1028 - accuracy: 0.9693\n",
            "Epoch 3/5\n",
            "469/469 [==============================] - 9s 18ms/step - loss: 0.0682 - accuracy: 0.9799\n",
            "Epoch 4/5\n",
            "469/469 [==============================] - 10s 22ms/step - loss: 0.0496 - accuracy: 0.9849\n",
            "Epoch 5/5\n",
            "469/469 [==============================] - 11s 23ms/step - loss: 0.0368 - accuracy: 0.9889\n",
            "313/313 [==============================] - 3s 7ms/step - loss: 0.0609 - accuracy: 0.9822\n",
            "Test accuracy:  0.982200026512146\n"
          ]
        }
      ]
    },
    {
      "cell_type": "markdown",
      "source": [
        "## Loading Fashion Dataset"
      ],
      "metadata": {
        "id": "E4gLbu9zWMrF"
      }
    },
    {
      "cell_type": "code",
      "source": [
        "from keras.datasets import fashion_mnist\n",
        "\n",
        "(train_images, train_labels), (test_images, test_labels) = fashion_mnist.load_data()\n",
        "\n",
        "train_images.shape \n",
        "len(train_images)\n",
        "\n",
        "print(train_labels)\n",
        "\n",
        "type(train_labels)"
      ],
      "metadata": {
        "colab": {
          "base_uri": "https://localhost:8080/"
        },
        "id": "msho5aH0WMGN",
        "outputId": "380da4cf-c296-4d72-c02b-54a5fd36b4a9"
      },
      "execution_count": null,
      "outputs": [
        {
          "output_type": "stream",
          "name": "stdout",
          "text": [
            "[9 0 0 ... 3 0 5]\n"
          ]
        },
        {
          "output_type": "execute_result",
          "data": {
            "text/plain": [
              "numpy.ndarray"
            ]
          },
          "metadata": {},
          "execution_count": 17
        }
      ]
    },
    {
      "cell_type": "markdown",
      "source": [],
      "metadata": {
        "id": "q9-sNK6iWTwE"
      }
    },
    {
      "cell_type": "markdown",
      "source": [
        "## Plotting the image"
      ],
      "metadata": {
        "id": "Dmq70W6nWTzH"
      }
    },
    {
      "cell_type": "code",
      "source": [
        "from matplotlib import pyplot as plt\n",
        "plt.imshow(train_images[0], interpolation='nearest')\n",
        "plt.show()\n",
        "\n",
        "print(train_labels[0])"
      ],
      "metadata": {
        "colab": {
          "base_uri": "https://localhost:8080/",
          "height": 282
        },
        "id": "2z67n2IuWX15",
        "outputId": "4dd5fc18-bd60-4fca-a7bf-000ed326dd2a"
      },
      "execution_count": null,
      "outputs": [
        {
          "output_type": "display_data",
          "data": {
            "text/plain": [
              "<Figure size 432x288 with 1 Axes>"
            ],
            "image/png": "[encoded data removed]"
          },
          "metadata": {
            "needs_background": "light"
          }
        },
        {
          "output_type": "stream",
          "name": "stdout",
          "text": [
            "9\n"
          ]
        }
      ]
    },
    {
      "cell_type": "code",
      "source": [
        "new_train_labels = []\n",
        "new_train_images = []\n",
        "for i, num in enumerate(train_labels):\n",
        "  if num<=5:\n",
        "    new_train_labels.append(num)\n",
        "    new_train_images.append(train_images[i])"
      ],
      "metadata": {
        "id": "_2NwKuHJWbwY"
      },
      "execution_count": null,
      "outputs": []
    },
    {
      "cell_type": "code",
      "source": [
        "new_test_labels = []\n",
        "new_test_images = []\n",
        "for i, num in enumerate(test_labels):\n",
        "  if num<=5:\n",
        "    new_test_labels.append(num)\n",
        "    new_test_images.append(test_images[i])"
      ],
      "metadata": {
        "id": "vCdMu1UjWeYs"
      },
      "execution_count": null,
      "outputs": []
    },
    {
      "cell_type": "code",
      "source": [
        "import numpy as np\n",
        "\n",
        "new_train_labels = np.array(new_train_labels)\n",
        "print(new_train_labels.shape)\n",
        "\n",
        "new_train_images = np.array(new_train_images)\n",
        "print(new_train_images.shape)\n",
        "\n",
        "new_test_labels = np.array(new_test_labels)\n",
        "print(new_test_labels.shape)\n",
        "\n",
        "new_test_images = np.array(new_test_images)\n",
        "print(new_test_images.shape)"
      ],
      "metadata": {
        "colab": {
          "base_uri": "https://localhost:8080/"
        },
        "id": "6LPsuno4Wl4R",
        "outputId": "638a2984-e8e4-45e8-9c94-2169abda5f1c"
      },
      "execution_count": null,
      "outputs": [
        {
          "output_type": "stream",
          "name": "stdout",
          "text": [
            "(36000,)\n",
            "(36000, 28, 28)\n",
            "(6000,)\n",
            "(6000, 28, 28)\n"
          ]
        }
      ]
    },
    {
      "cell_type": "markdown",
      "source": [
        "## Data preprocessing in Dataframe"
      ],
      "metadata": {
        "id": "0y7FxBpmWsfG"
      }
    },
    {
      "cell_type": "code",
      "source": [
        "from keras import models \n",
        "from keras import layers \n",
        "\n",
        "network = models.Sequential()\n",
        "network.add(layers.Dense(512, activation=\"relu\", input_shape=(28*28,)))\n",
        "network.add(layers.Dense(10, activation=\"softmax\"))\n",
        "\n",
        "network.compile(optimizer=\"rmsprop\",loss='sparse_categorical_crossentropy', metrics=['accuracy'])\n",
        "\n",
        "new_train_images = new_train_images.reshape((36000,28*28))\n",
        "new_train_images = new_train_images.astype('float32')/255\n",
        "\n",
        "new_test_images = new_test_images.reshape((6000, 28*28))\n",
        "new_test_images = new_test_images.astype('float32')/255"
      ],
      "metadata": {
        "id": "kBMubVfiWqZM"
      },
      "execution_count": null,
      "outputs": []
    },
    {
      "cell_type": "code",
      "source": [
        "from keras.utils import to_categorical \n",
        "\n",
        "network.fit(new_train_images, new_train_labels, epochs=5, batch_size=128)\n",
        "\n",
        "test_loss, test_acc = network.evaluate(new_test_images, new_test_labels) \n",
        "\n",
        "print(\"Test accuracy: \", test_acc)"
      ],
      "metadata": {
        "colab": {
          "base_uri": "https://localhost:8080/"
        },
        "id": "LaU7-7P3miL2",
        "outputId": "3aecdafc-2e56-4e19-f0b3-8737e3768b5c"
      },
      "execution_count": null,
      "outputs": [
        {
          "output_type": "stream",
          "name": "stdout",
          "text": [
            "Epoch 1/5\n",
            "282/282 [==============================] - 5s 14ms/step - loss: 0.4335 - accuracy: 0.8440\n",
            "Epoch 2/5\n",
            "282/282 [==============================] - 3s 11ms/step - loss: 0.2831 - accuracy: 0.8967\n",
            "Epoch 3/5\n",
            "282/282 [==============================] - 3s 11ms/step - loss: 0.2431 - accuracy: 0.9110\n",
            "Epoch 4/5\n",
            "282/282 [==============================] - 3s 11ms/step - loss: 0.2228 - accuracy: 0.9183\n",
            "Epoch 5/5\n",
            "282/282 [==============================] - 3s 11ms/step - loss: 0.2098 - accuracy: 0.9234\n",
            "188/188 [==============================] - 1s 4ms/step - loss: 0.2539 - accuracy: 0.9103\n",
            "Test accuracy:  0.9103333353996277\n"
          ]
        }
      ]
    },
    {
      "cell_type": "markdown",
      "source": [
        "### Import PatchCamelyon (PCAM) and perform classification."
      ],
      "metadata": {
        "id": "XCDTQ59DnbEA"
      }
    },
    {
      "cell_type": "code",
      "source": [
        "# Download from google drive\n",
        "!wget 'https://docs.google.com/uc?export=download&id=17BHrSrwWKjYsOgTMmoqrIjDy6Fa2o_gP&confirm=t'"
      ],
      "metadata": {
        "colab": {
          "base_uri": "https://localhost:8080/"
        },
        "id": "B4tnTD0ondlP",
        "outputId": "24f9a051-94d0-45cc-b55f-2504de7cd46d"
      },
      "execution_count": null,
      "outputs": [
        {
          "output_type": "stream",
          "name": "stdout",
          "text": [
            "--2022-12-13 17:52:41--  https://docs.google.com/uc?export=download&id=17BHrSrwWKjYsOgTMmoqrIjDy6Fa2o_gP&confirm=t\n",
            "Resolving docs.google.com (docs.google.com)... 209.85.200.100, 209.85.200.139, 209.85.200.113, ...\n",
            "Connecting to docs.google.com (docs.google.com)|209.85.200.100|:443... connected.\n",
            "HTTP request sent, awaiting response... 303 See Other\n",
            "Location: https://doc-0k-5s-docs.googleusercontent.com/docs/securesc/ha0ro937gcuc7l7deffksulhg5h7mbp1/186mm26m611apfv9f5d436qsqof4ensg/1670953950000/00912306888213299371/*/17BHrSrwWKjYsOgTMmoqrIjDy6Fa2o_gP?e=download&uuid=474ea4ee-48c7-478d-a3b9-a03e2b39ab18 [following]\n",
            "Warning: wildcards not supported in HTTP.\n",
            "--2022-12-13 17:52:41--  https://doc-0k-5s-docs.googleusercontent.com/docs/securesc/ha0ro937gcuc7l7deffksulhg5h7mbp1/186mm26m611apfv9f5d436qsqof4ensg/1670953950000/00912306888213299371/*/17BHrSrwWKjYsOgTMmoqrIjDy6Fa2o_gP?e=download&uuid=474ea4ee-48c7-478d-a3b9-a03e2b39ab18\n",
            "Resolving doc-0k-5s-docs.googleusercontent.com (doc-0k-5s-docs.googleusercontent.com)... 64.233.183.132, 2607:f8b0:4001:c0b::84\n",
            "Connecting to doc-0k-5s-docs.googleusercontent.com (doc-0k-5s-docs.googleusercontent.com)|64.233.183.132|:443... connected.\n",
            "HTTP request sent, awaiting response... 200 OK\n",
            "Length: 3040 (3.0K) [application/x-gzip]\n",
            "Saving to: ‘uc?export=download&id=17BHrSrwWKjYsOgTMmoqrIjDy6Fa2o_gP&confirm=t’\n",
            "\n",
            "uc?export=download& 100%[===================>]   2.97K  --.-KB/s    in 0s      \n",
            "\n",
            "2022-12-13 17:52:41 (113 MB/s) - ‘uc?export=download&id=17BHrSrwWKjYsOgTMmoqrIjDy6Fa2o_gP&confirm=t’ saved [3040/3040]\n",
            "\n"
          ]
        }
      ]
    },
    {
      "cell_type": "code",
      "source": [
        "!ls"
      ],
      "metadata": {
        "colab": {
          "base_uri": "https://localhost:8080/"
        },
        "id": "RJmpCUyHnhfy",
        "outputId": "bd0653da-8540-4ffa-e411-446a3768a588"
      },
      "execution_count": null,
      "outputs": [
        {
          "output_type": "stream",
          "name": "stdout",
          "text": [
            " sample_data\n",
            "'uc?export=download&id=17BHrSrwWKjYsOgTMmoqrIjDy6Fa2o_gP&confirm=t'\n"
          ]
        }
      ]
    },
    {
      "cell_type": "code",
      "source": [
        "!mv 'uc?export=download&id=17BHrSrwWKjYsOgTMmoqrIjDy6Fa2o_gP&confirm=t' camelyonpatch_level_2_split_test_y.h5.gz"
      ],
      "metadata": {
        "id": "9ua7oeqGnnhk"
      },
      "execution_count": null,
      "outputs": []
    },
    {
      "cell_type": "markdown",
      "source": [
        "### Patch Camelyon Dataset"
      ],
      "metadata": {
        "id": "LbRISKkfnq8U"
      }
    },
    {
      "cell_type": "code",
      "source": [
        "import tensorflow_datasets as tfds \n",
        "from tensorflow import keras\n",
        "import tensorflow as tf\n",
        "import os,datetime\n",
        "df, info = tfds.load('patch_camelyon', with_info = True, as_supervised = True)"
      ],
      "metadata": {
        "id": "kq2Zv8tAnsx8"
      },
      "execution_count": null,
      "outputs": []
    },
    {
      "cell_type": "code",
      "source": [
        "training_data = df['train']\n",
        "testing_data = df['test']\n",
        "validation_data = df['validation']"
      ],
      "metadata": {
        "id": "44LrxA5FuWyM"
      },
      "execution_count": null,
      "outputs": []
    },
    {
      "cell_type": "code",
      "source": [
        "def preprocess(image, labels):\n",
        "  image = tf.cast(image, tf.float32)\n",
        "  image /= 255.\n",
        "  return image, labels"
      ],
      "metadata": {
        "id": "RSlGLGXquYqd"
      },
      "execution_count": null,
      "outputs": []
    },
    {
      "cell_type": "code",
      "source": [
        "training_data = training_data.map(preprocess)\n",
        "validation_data = validation_data.map(preprocess)\n",
        "testing_data = testing_data.map(preprocess)\n",
        "buffer_size = 1000\n",
        "training_data = training_data.shuffle(buffer_size)"
      ],
      "metadata": {
        "id": "g9Oro4lpuavL"
      },
      "execution_count": null,
      "outputs": []
    },
    {
      "cell_type": "code",
      "source": [
        "batch_size = 128\n",
        "training_data = training_data.batch(batch_size).prefetch(1)\n",
        "validation_data = validation_data.batch(batch_size).prefetch(1)\n",
        "testing_data = testing_data.batch(batch_size).prefetch(1)\n",
        "train_images, train_labels = next(iter(training_data))\n",
        "valid_images, valid_labels = next(iter(validation_data))\n",
        "test_images, test_labels  = next(iter(testing_data))"
      ],
      "metadata": {
        "id": "fiOiKPulue55"
      },
      "execution_count": null,
      "outputs": []
    },
    {
      "cell_type": "code",
      "source": [
        "from keras import models \n",
        "from keras import layers \n",
        "from keras.layers import Dense, Activation, Flatten\n",
        "network = models.Sequential()\n",
        "network.add(layers.Dense(256, activation=\"relu\", input_shape=[96,96,3]))\n",
        "network.add(Flatten())\n",
        "network.add(layers.Dense(1, activation=\"relu\"))\n",
        "\n",
        "\n",
        "network.compile(optimizer=\"rmsprop\",loss='mean_squared_error', metrics=['accuracy'])"
      ],
      "metadata": {
        "id": "WXGLjEQaumd1"
      },
      "execution_count": null,
      "outputs": []
    },
    {
      "cell_type": "code",
      "source": [
        "network.fit(train_images, train_labels, epochs=10, validation_data=(valid_images, valid_labels),verbose=2)"
      ],
      "metadata": {
        "colab": {
          "base_uri": "https://localhost:8080/"
        },
        "id": "r6j0k5wXu9CF",
        "outputId": "c754780d-43ef-4a24-f0ff-345a7e33895b"
      },
      "execution_count": null,
      "outputs": [
        {
          "output_type": "stream",
          "name": "stdout",
          "text": [
            "Epoch 1/10\n",
            "4/4 - 3s - loss: 21724.9219 - accuracy: 0.5156 - val_loss: 0.4141 - val_accuracy: 0.5859 - 3s/epoch - 847ms/step\n",
            "Epoch 2/10\n",
            "4/4 - 3s - loss: 0.5464 - accuracy: 0.4531 - val_loss: 0.4141 - val_accuracy: 0.5859 - 3s/epoch - 679ms/step\n",
            "Epoch 3/10\n",
            "4/4 - 3s - loss: 0.5435 - accuracy: 0.4531 - val_loss: 0.4141 - val_accuracy: 0.5859 - 3s/epoch - 685ms/step\n",
            "Epoch 4/10\n",
            "4/4 - 3s - loss: 0.5350 - accuracy: 0.4609 - val_loss: 1.0554 - val_accuracy: 0.4297 - 3s/epoch - 687ms/step\n",
            "Epoch 5/10\n",
            "4/4 - 3s - loss: 0.5478 - accuracy: 0.5000 - val_loss: 0.4141 - val_accuracy: 0.5859 - 3s/epoch - 683ms/step\n",
            "Epoch 6/10\n",
            "4/4 - 3s - loss: 0.5403 - accuracy: 0.4609 - val_loss: 0.4141 - val_accuracy: 0.5859 - 3s/epoch - 677ms/step\n",
            "Epoch 7/10\n",
            "4/4 - 3s - loss: 0.5391 - accuracy: 0.4609 - val_loss: 0.4141 - val_accuracy: 0.5859 - 3s/epoch - 686ms/step\n",
            "Epoch 8/10\n",
            "4/4 - 3s - loss: 0.5391 - accuracy: 0.4609 - val_loss: 0.4141 - val_accuracy: 0.5859 - 3s/epoch - 691ms/step\n",
            "Epoch 9/10\n",
            "4/4 - 3s - loss: 0.5391 - accuracy: 0.4609 - val_loss: 0.4141 - val_accuracy: 0.5859 - 3s/epoch - 688ms/step\n",
            "Epoch 10/10\n",
            "4/4 - 3s - loss: 0.5391 - accuracy: 0.4609 - val_loss: 0.4141 - val_accuracy: 0.5859 - 3s/epoch - 683ms/step\n"
          ]
        },
        {
          "output_type": "execute_result",
          "data": {
            "text/plain": [
              "<keras.callbacks.History at 0x7f195d59ad90>"
            ]
          },
          "metadata": {},
          "execution_count": 88
        }
      ]
    },
    {
      "cell_type": "code",
      "source": [
        "test_loss, test_acc = network.evaluate(test_images, test_labels) \n",
        "\n",
        "print(\"Test accuracy: \", test_acc)"
      ],
      "metadata": {
        "colab": {
          "base_uri": "https://localhost:8080/"
        },
        "id": "yXsdggNWvO3j",
        "outputId": "c11cd613-2cc2-429e-8248-63dda73f18aa"
      },
      "execution_count": null,
      "outputs": [
        {
          "output_type": "stream",
          "name": "stdout",
          "text": [
            "4/4 [==============================] - 1s 174ms/step - loss: 0.4609 - accuracy: 0.5391\n",
            "Test accuracy:  0.5390625\n"
          ]
        }
      ]
    },
    {
      "cell_type": "code",
      "source": [
        "!pip install -q kaggle"
      ],
      "metadata": {
        "id": "mJaseY8p17Zu"
      },
      "execution_count": null,
      "outputs": []
    },
    {
      "cell_type": "code",
      "source": [
        "\n",
        "from google.colab import files \n",
        "files.upload()"
      ],
      "metadata": {
        "id": "10eZT_I51-wL",
        "outputId": "ae200107-2d0c-4485-a668-63759556e1a9",
        "colab": {
          "base_uri": "https://localhost:8080/",
          "height": 91
        }
      },
      "execution_count": null,
      "outputs": [
        {
          "output_type": "display_data",
          "data": {
            "text/plain": [
              "<IPython.core.display.HTML object>"
            ],
            "text/html": [
              "\n",
              "     <input type=\"file\" id=\"files-c0be003d-9a18-4aeb-9a1f-a86e5a5687bd\" name=\"files[]\" multiple disabled\n",
              "        style=\"border:none\" />\n",
              "     <output id=\"result-c0be003d-9a18-4aeb-9a1f-a86e5a5687bd\">\n",
              "      Upload widget is only available when the cell has been executed in the\n",
              "      current browser session. Please rerun this cell to enable.\n",
              "      </output>\n",
              "      <script>// Copyright 2017 Google LLC\n",
              "//\n",
              "// Licensed under the Apache License, Version 2.0 (the \"License\");\n",
              "// you may not use this file except in compliance with the License.\n",
              "// You may obtain a copy of the License at\n",
              "//\n",
              "//      http://www.apache.org/licenses/LICENSE-2.0\n",
              "//\n",
              "// Unless required by applicable law or agreed to in writing, software\n",
              "// distributed under the License is distributed on an \"AS IS\" BASIS,\n",
              "// WITHOUT WARRANTIES OR CONDITIONS OF ANY KIND, either express or implied.\n",
              "// See the License for the specific language governing permissions and\n",
              "// limitations under the License.\n",
              "\n",
              "/**\n",
              " * @fileoverview Helpers for google.colab Python module.\n",
              " */\n",
              "(function(scope) {\n",
              "function span(text, styleAttributes = {}) {\n",
              "  const element = document.createElement('span');\n",
              "  element.textContent = text;\n",
              "  for (const key of Object.keys(styleAttributes)) {\n",
              "    element.style[key] = styleAttributes[key];\n",
              "  }\n",
              "  return element;\n",
              "}\n",
              "\n",
              "// Max number of bytes which will be uploaded at a time.\n",
              "const MAX_PAYLOAD_SIZE = 100 * 1024;\n",
              "\n",
              "function _uploadFiles(inputId, outputId) {\n",
              "  const steps = uploadFilesStep(inputId, outputId);\n",
              "  const outputElement = document.getElementById(outputId);\n",
              "  // Cache steps on the outputElement to make it available for the next call\n",
              "  // to uploadFilesContinue from Python.\n",
              "  outputElement.steps = steps;\n",
              "\n",
              "  return _uploadFilesContinue(outputId);\n",
              "}\n",
              "\n",
              "// This is roughly an async generator (not supported in the browser yet),\n",
              "// where there are multiple asynchronous steps and the Python side is going\n",
              "// to poll for completion of each step.\n",
              "// This uses a Promise to block the python side on completion of each step,\n",
              "// then passes the result of the previous step as the input to the next step.\n",
              "function _uploadFilesContinue(outputId) {\n",
              "  const outputElement = document.getElementById(outputId);\n",
              "  const steps = outputElement.steps;\n",
              "\n",
              "  const next = steps.next(outputElement.lastPromiseValue);\n",
              "  return Promise.resolve(next.value.promise).then((value) => {\n",
              "    // Cache the last promise value to make it available to the next\n",
              "    // step of the generator.\n",
              "    outputElement.lastPromiseValue = value;\n",
              "    return next.value.response;\n",
              "  });\n",
              "}\n",
              "\n",
              "/**\n",
              " * Generator function which is called between each async step of the upload\n",
              " * process.\n",
              " * @param {string} inputId Element ID of the input file picker element.\n",
              " * @param {string} outputId Element ID of the output display.\n",
              " * @return {!Iterable<!Object>} Iterable of next steps.\n",
              " */\n",
              "function* uploadFilesStep(inputId, outputId) {\n",
              "  const inputElement = document.getElementById(inputId);\n",
              "  inputElement.disabled = false;\n",
              "\n",
              "  const outputElement = document.getElementById(outputId);\n",
              "  outputElement.innerHTML = '';\n",
              "\n",
              "  const pickedPromise = new Promise((resolve) => {\n",
              "    inputElement.addEventListener('change', (e) => {\n",
              "      resolve(e.target.files);\n",
              "    });\n",
              "  });\n",
              "\n",
              "  const cancel = document.createElement('button');\n",
              "  inputElement.parentElement.appendChild(cancel);\n",
              "  cancel.textContent = 'Cancel upload';\n",
              "  const cancelPromise = new Promise((resolve) => {\n",
              "    cancel.onclick = () => {\n",
              "      resolve(null);\n",
              "    };\n",
              "  });\n",
              "\n",
              "  // Wait for the user to pick the files.\n",
              "  const files = yield {\n",
              "    promise: Promise.race([pickedPromise, cancelPromise]),\n",
              "    response: {\n",
              "      action: 'starting',\n",
              "    }\n",
              "  };\n",
              "\n",
              "  cancel.remove();\n",
              "\n",
              "  // Disable the input element since further picks are not allowed.\n",
              "  inputElement.disabled = true;\n",
              "\n",
              "  if (!files) {\n",
              "    return {\n",
              "      response: {\n",
              "        action: 'complete',\n",
              "      }\n",
              "    };\n",
              "  }\n",
              "\n",
              "  for (const file of files) {\n",
              "    const li = document.createElement('li');\n",
              "    li.append(span(file.name, {fontWeight: 'bold'}));\n",
              "    li.append(span(\n",
              "        `(${file.type || 'n/a'}) - ${file.size} bytes, ` +\n",
              "        `last modified: ${\n",
              "            file.lastModifiedDate ? file.lastModifiedDate.toLocaleDateString() :\n",
              "                                    'n/a'} - `));\n",
              "    const percent = span('0% done');\n",
              "    li.appendChild(percent);\n",
              "\n",
              "    outputElement.appendChild(li);\n",
              "\n",
              "    const fileDataPromise = new Promise((resolve) => {\n",
              "      const reader = new FileReader();\n",
              "      reader.onload = (e) => {\n",
              "        resolve(e.target.result);\n",
              "      };\n",
              "      reader.readAsArrayBuffer(file);\n",
              "    });\n",
              "    // Wait for the data to be ready.\n",
              "    let fileData = yield {\n",
              "      promise: fileDataPromise,\n",
              "      response: {\n",
              "        action: 'continue',\n",
              "      }\n",
              "    };\n",
              "\n",
              "    // Use a chunked sending to avoid message size limits. See b/62115660.\n",
              "    let position = 0;\n",
              "    do {\n",
              "      const length = Math.min(fileData.byteLength - position, MAX_PAYLOAD_SIZE);\n",
              "      const chunk = new Uint8Array(fileData, position, length);\n",
              "      position += length;\n",
              "\n",
              "      const base64 = btoa(String.fromCharCode.apply(null, chunk));\n",
              "      yield {\n",
              "        response: {\n",
              "          action: 'append',\n",
              "          file: file.name,\n",
              "          data: base64,\n",
              "        },\n",
              "      };\n",
              "\n",
              "      let percentDone = fileData.byteLength === 0 ?\n",
              "          100 :\n",
              "          Math.round((position / fileData.byteLength) * 100);\n",
              "      percent.textContent = `${percentDone}% done`;\n",
              "\n",
              "    } while (position < fileData.byteLength);\n",
              "  }\n",
              "\n",
              "  // All done.\n",
              "  yield {\n",
              "    response: {\n",
              "      action: 'complete',\n",
              "    }\n",
              "  };\n",
              "}\n",
              "\n",
              "scope.google = scope.google || {};\n",
              "scope.google.colab = scope.google.colab || {};\n",
              "scope.google.colab._files = {\n",
              "  _uploadFiles,\n",
              "  _uploadFilesContinue,\n",
              "};\n",
              "})(self);\n",
              "</script> "
            ]
          },
          "metadata": {}
        },
        {
          "output_type": "stream",
          "name": "stdout",
          "text": [
            "Saving kaggle.json to kaggle (1).json\n"
          ]
        },
        {
          "output_type": "execute_result",
          "data": {
            "text/plain": [
              "{'kaggle.json': b'{\"username\":\"harshvalambe\",\"key\":\"0e3ae086017ee1dda9880532e84d82ba\"}'}"
            ]
          },
          "metadata": {},
          "execution_count": 109
        }
      ]
    },
    {
      "cell_type": "code",
      "source": [
        "mkdir ~/.kaggle"
      ],
      "metadata": {
        "id": "wtCLEgfI2B-r",
        "outputId": "a069e567-ca49-454e-f90e-e014d18b6c54",
        "colab": {
          "base_uri": "https://localhost:8080/"
        }
      },
      "execution_count": null,
      "outputs": [
        {
          "output_type": "stream",
          "name": "stdout",
          "text": [
            "mkdir: cannot create directory ‘/root/.kaggle’: File exists\n"
          ]
        }
      ]
    }
  ]
}