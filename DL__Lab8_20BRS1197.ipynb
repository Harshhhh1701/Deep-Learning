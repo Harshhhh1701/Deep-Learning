{
  "cells": [
    {
      "cell_type": "markdown",
      "metadata": {
        "id": "DxRiwqxRfdNF"
      },
      "source": [
        "\n",
        "\n",
        "## HARSH ASHOK VALAMBE\n",
        "\n",
        "## 20BRS1197\n",
        "Basic Neural Network for identifying handwritten numbers (0-9) Recognition\n"
      ]
    },
    {
      "cell_type": "code",
      "execution_count": null,
      "metadata": {
        "id": "DJDhuJEDfZMU"
      },
      "outputs": [],
      "source": [
        "from keras import models\n",
        "from keras import layers\n",
        "from keras.datasets import mnist\n",
        "import pandas as pd\n",
        "from keras.utils import to_categorical"
      ]
    },
    {
      "cell_type": "code",
      "execution_count": null,
      "metadata": {
        "id": "MICJBzvWfzDm"
      },
      "outputs": [],
      "source": [
        "#loading data \n",
        "(train_images, train_labels) , (test_images, test_labels) = mnist.load_data()"
      ]
    },
    {
      "cell_type": "code",
      "execution_count": null,
      "metadata": {
        "colab": {
          "base_uri": "https://localhost:8080/"
        },
        "id": "jhJspUFof7m2",
        "outputId": "dd7adaf3-1a24-46e6-81cf-cc0a92f508d9"
      },
      "outputs": [
        {
          "output_type": "stream",
          "name": "stdout",
          "text": [
            "(60000, 28, 28)\n",
            "(60000,)\n",
            "(10000, 28, 28)\n",
            "(10000,)\n"
          ]
        }
      ],
      "source": [
        "#PRINTING THE AVAILABLE INFORMATION\n",
        "print(train_images.shape)\n",
        "print(train_labels.shape)\n",
        "\n",
        "print(test_images.shape)\n",
        "print(test_labels.shape)\n",
        "\n"
      ]
    },
    {
      "cell_type": "code",
      "execution_count": null,
      "metadata": {
        "colab": {
          "base_uri": "https://localhost:8080/"
        },
        "id": "mNvTFfy1gJT1",
        "outputId": "7e4a9ee9-715c-4342-dd21-83c323523db9"
      },
      "outputs": [
        {
          "output_type": "stream",
          "name": "stdout",
          "text": [
            "(60000, 10)\n"
          ]
        }
      ],
      "source": [
        "train_labels = to_categorical(train_labels)\n",
        "test_labels = to_categorical(test_labels)\n",
        "print(train_labels.shape)"
      ]
    },
    {
      "cell_type": "code",
      "execution_count": null,
      "metadata": {
        "id": "kEPdJ3ZOgmU1"
      },
      "outputs": [],
      "source": [
        "network = models.Sequential()\n",
        "network.add(layers.Dense(512, activation=\"relu\", input_shape=(28*28,)))\n",
        "network.add(layers.Dense(10, activation=\"softmax\"))\n",
        "\n",
        "network.compile(optimizer=\"rmsprop\", loss=\"categorical_crossentropy\", metrics=['accuracy'])"
      ]
    },
    {
      "cell_type": "code",
      "execution_count": null,
      "metadata": {
        "id": "CvouK4lthA8n"
      },
      "outputs": [],
      "source": [
        "train_images = train_images.reshape((60000, 28*28))\n",
        "train_images = train_images.astype('float32')/255\n",
        "\n",
        "test_images = test_images.reshape((10000, 28*28))\n",
        "test_images = test_images.astype('float32')/255\n"
      ]
    },
    {
      "cell_type": "code",
      "execution_count": null,
      "metadata": {
        "colab": {
          "base_uri": "https://localhost:8080/"
        },
        "id": "keSFfUrJhRbN",
        "outputId": "c52ea7cf-8078-476e-a814-c677a559e39d"
      },
      "outputs": [
        {
          "output_type": "stream",
          "name": "stdout",
          "text": [
            "Epoch 1/7\n",
            "469/469 [==============================] - 6s 11ms/step - loss: 0.2604 - accuracy: 0.9246\n",
            "Epoch 2/7\n",
            "469/469 [==============================] - 5s 11ms/step - loss: 0.1042 - accuracy: 0.9696\n",
            "Epoch 3/7\n",
            "469/469 [==============================] - 5s 11ms/step - loss: 0.0681 - accuracy: 0.9796\n",
            "Epoch 4/7\n",
            "469/469 [==============================] - 5s 11ms/step - loss: 0.0501 - accuracy: 0.9851\n",
            "Epoch 5/7\n",
            "469/469 [==============================] - 5s 12ms/step - loss: 0.0377 - accuracy: 0.9887\n",
            "Epoch 6/7\n",
            "469/469 [==============================] - 5s 11ms/step - loss: 0.0289 - accuracy: 0.9911\n",
            "Epoch 7/7\n",
            "469/469 [==============================] - 5s 11ms/step - loss: 0.0219 - accuracy: 0.9935\n"
          ]
        },
        {
          "output_type": "execute_result",
          "data": {
            "text/plain": [
              "<keras.callbacks.History at 0x7f23140ee040>"
            ]
          },
          "metadata": {},
          "execution_count": 9
        }
      ],
      "source": [
        "network.fit(train_images, train_labels, epochs=7, batch_size=128)"
      ]
    },
    {
      "cell_type": "code",
      "execution_count": null,
      "metadata": {
        "colab": {
          "base_uri": "https://localhost:8080/"
        },
        "id": "Psu3cbLblOCv",
        "outputId": "e34c2991-0b43-4747-d63c-4d276e3bb6f2"
      },
      "outputs": [
        {
          "output_type": "stream",
          "name": "stdout",
          "text": [
            "313/313 [==============================] - 1s 3ms/step - loss: 0.0639 - accuracy: 0.9827\n",
            "0.06387661397457123\n",
            "Accuracy=\n",
            "0.982699990272522\n"
          ]
        }
      ],
      "source": [
        "test_loss, test_acc = network.evaluate(test_images, test_labels)\n",
        "\n",
        "print(test_loss)\n",
        "print(\"Accuracy=\")\n",
        "print(test_acc)"
      ]
    },
    {
      "cell_type": "markdown",
      "metadata": {
        "id": "SThmIebMHkr5"
      },
      "source": [
        "# Implementing Deep Neural Network ."
      ]
    },
    {
      "cell_type": "code",
      "execution_count": null,
      "metadata": {
        "id": "JfKd8jCal3O_"
      },
      "outputs": [],
      "source": [
        "\"\"\"\n",
        "network.py\n",
        "~~~~~~~~~~\n",
        "IT WORKS\n",
        "A module to implement the stochastic gradient descent learning\n",
        "algorithm for a feedforward neural network.  Gradients are calculated\n",
        "using backpropagation.  Note that I have focused on making the code\n",
        "simple, easily readable, and easily modifiable.  It is not optimized,\n",
        "and omits many desirable features.\n",
        "\"\"\"\n",
        "\n",
        "#### Libraries\n",
        "# Standard library\n",
        "import random\n",
        "\n",
        "# Third-party libraries\n",
        "import numpy as np\n",
        "\n",
        "class Network(object):\n",
        "\n",
        "    def __init__(self, sizes):\n",
        "        \"\"\"The list ``sizes`` contains the number of neurons in the\n",
        "        respective layers of the network.  For example, if the list\n",
        "        was [2, 3, 1] then it would be a three-layer network, with the\n",
        "        first layer containing 2 neurons, the second layer 3 neurons,\n",
        "        and the third layer 1 neuron.  The biases and weights for the\n",
        "        network are initialized randomly, using a Gaussian\n",
        "        distribution with mean 0, and variance 1.  Note that the first\n",
        "        layer is assumed to be an input layer, and by convention we\n",
        "        won't set any biases for those neurons, since biases are only\n",
        "        ever used in computing the outputs from later layers.\"\"\"\n",
        "        self.num_layers = len(sizes)\n",
        "        self.sizes = sizes\n",
        "        self.biases = [np.random.randn(y, 1) for y in sizes[1:]]\n",
        "        self.weights = [np.random.randn(y, x)\n",
        "                        for x, y in zip(sizes[:-1], sizes[1:])]\n",
        "\n",
        "    def feedforward(self, a):\n",
        "        \"\"\"Return the output of the network if ``a`` is input.\"\"\"\n",
        "        #used zip to iterate b and w at the same phase\n",
        "        for b, w in zip(self.biases, self.weights):\n",
        "            a = sigmoid(np.dot(w, a)+b)\n",
        "        return a\n",
        "\n",
        "    def SGD(self, training_data, epochs, mini_batch_size, eta,\n",
        "            test_data=None):\n",
        "        \"\"\"Train the neural network using mini-batch stochastic\n",
        "        gradient descent.  The ``training_data`` is a list of tuples\n",
        "        ``(x, y)`` representing the training inputs and the desired\n",
        "        outputs.  The other non-optional parameters are\n",
        "        self-explanatory.  If ``test_data`` is provided then the\n",
        "        network will be evaluated against the test data after each\n",
        "        epoch, and partial progress printed out.  This is useful for\n",
        "        tracking progress, but slows things down substantially.\"\"\"\n",
        "\n",
        "        training_data = list(training_data)\n",
        "        n = len(training_data)\n",
        "\n",
        "        if test_data:\n",
        "            test_data = list(test_data)\n",
        "            n_test = len(test_data)\n",
        "\n",
        "        for j in range(epochs):\n",
        "            random.shuffle(training_data)\n",
        "            mini_batches = [\n",
        "                training_data[k:k+mini_batch_size]\n",
        "                for k in range(0, n, mini_batch_size)]\n",
        "            for mini_batch in mini_batches:\n",
        "                self.update_mini_batch(mini_batch, eta)\n",
        "            if test_data:\n",
        "                print(\"Epoch {} : {} / {}\".format(j,self.evaluate(test_data),n_test))\n",
        "            else:\n",
        "                print(\"Epoch {} complete\".format(j))\n",
        "\n",
        "    def update_mini_batch(self, mini_batch, eta):\n",
        "        \"\"\"Update the network's weights and biases by applying\n",
        "        gradient descent using backpropagation to a single mini batch.\n",
        "        The ``mini_batch`` is a list of tuples ``(x, y)``, and ``eta``\n",
        "        is the learning rate.\"\"\"\n",
        "        nabla_b = [np.zeros(b.shape) for b in self.biases]\n",
        "        nabla_w = [np.zeros(w.shape) for w in self.weights]\n",
        "        for x, y in mini_batch:\n",
        "            delta_nabla_b, delta_nabla_w = self.backprop(x, y)\n",
        "            nabla_b = [nb+dnb for nb, dnb in zip(nabla_b, delta_nabla_b)]\n",
        "            nabla_w = [nw+dnw for nw, dnw in zip(nabla_w, delta_nabla_w)]\n",
        "        self.weights = [w-(eta/len(mini_batch))*nw\n",
        "                        for w, nw in zip(self.weights, nabla_w)]\n",
        "        self.biases = [b-(eta/len(mini_batch))*nb\n",
        "                       for b, nb in zip(self.biases, nabla_b)]\n",
        "\n",
        "    def backprop(self, x, y):\n",
        "        \"\"\"Return a tuple ``(nabla_b, nabla_w)`` representing the\n",
        "        gradient for the cost function C_x.  ``nabla_b`` and\n",
        "        ``nabla_w`` are layer-by-layer lists of numpy arrays, similar\n",
        "        to ``self.biases`` and ``self.weights``.\"\"\"\n",
        "        nabla_b = [np.zeros(b.shape) for b in self.biases]\n",
        "        nabla_w = [np.zeros(w.shape) for w in self.weights]\n",
        "        # feedforward\n",
        "        activation = x\n",
        "        activations = [x] # list to store all the activations, layer by layer\n",
        "        zs = [] # list to store all the z vectors, layer by layer\n",
        "        for b, w in zip(self.biases, self.weights):\n",
        "            z = np.dot(w, activation)+b\n",
        "            zs.append(z)\n",
        "            activation = sigmoid(z)\n",
        "            activations.append(activation)\n",
        "        # backward pass\n",
        "        delta = self.cost_derivative(activations[-1], y) * \\\n",
        "            sigmoid_prime(zs[-1])\n",
        "        nabla_b[-1] = delta\n",
        "        nabla_w[-1] = np.dot(delta, activations[-2].transpose())\n",
        "        \n",
        "        \n",
        "        for l in range(2, self.num_layers):\n",
        "            z = zs[-l]\n",
        "            sp = sigmoid_prime(z)\n",
        "            delta = np.dot(self.weights[-l+1].transpose(), delta) * sp\n",
        "            nabla_b[-l] = delta\n",
        "            nabla_w[-l] = np.dot(delta, activations[-l-1].transpose())\n",
        "        return (nabla_b, nabla_w)\n",
        "\n",
        "    def evaluate(self, test_data):\n",
        "        \"\"\"Return the number of test inputs for which the neural\n",
        "        network outputs the correct result. Note that the neural\n",
        "        network's output is assumed to be the index of whichever\n",
        "        neuron in the final layer has the highest activation.\"\"\"\n",
        "        test_results = [(np.argmax(self.feedforward(x)), y)\n",
        "                        for (x, y) in test_data]\n",
        "        return sum(int(x == y) for (x, y) in test_results)\n",
        "\n",
        "    def cost_derivative(self, output_activations, y):\n",
        "        \"\"\"Return the vector of partial derivatives \\partial C_x /\n",
        "        \\partial a for the output activations.\"\"\"\n",
        "        return (output_activations-y)\n",
        "\n",
        "#### Miscellaneous functions\n",
        "def sigmoid(z):\n",
        "    \"\"\"The sigmoid function.\"\"\"\n",
        "    return 1.0/(1.0+np.exp(-z))\n",
        "\n",
        "def sigmoid_prime(z):\n",
        "    \"\"\"Derivative of the sigmoid function.\"\"\"\n",
        "    return sigmoid(z)*(1-sigmoid(z))"
      ]
    },
    {
      "cell_type": "markdown",
      "metadata": {
        "id": "wCGcV4OSHLO6"
      },
      "source": [
        "##### Define the loader class to load data\n",
        "\n",
        "Here a local copy of mnist data is used.\n",
        "\n",
        "The data is loaded using **Pickle** API and returned as training data, validation data and test data respectively."
      ]
    },
    {
      "cell_type": "code",
      "execution_count": null,
      "metadata": {
        "id": "ag3voVkkBRGx"
      },
      "outputs": [],
      "source": [
        "import pickle\n",
        "import gzip\n",
        "\n",
        "# Third-party libraries\n",
        "import numpy as np\n",
        "\n",
        "def load_data():\n",
        "    \"\"\"Return the MNIST data as a tuple containing the training data,\n",
        "    the validation data, and the test data.\n",
        "    The ``training_data`` is returned as a tuple with two entries.\n",
        "    The first entry contains the actual training images.  This is a\n",
        "    numpy ndarray with 50,000 entries.  Each entry is, in turn, a\n",
        "    numpy ndarray with 784 values, representing the 28 * 28 = 784\n",
        "    pixels in a single MNIST image.\n",
        "    The second entry in the ``training_data`` tuple is a numpy ndarray\n",
        "    containing 50,000 entries.  Those entries are just the digit\n",
        "    values (0...9) for the corresponding images contained in the first\n",
        "    entry of the tuple.\n",
        "    The ``validation_data`` and ``test_data`` are similar, except\n",
        "    each contains only 10,000 images.\n",
        "    This is a nice data format, but for use in neural networks it's\n",
        "    helpful to modify the format of the ``training_data`` a little.\n",
        "    That's done in the wrapper function ``load_data_wrapper()``, see\n",
        "    below.\n",
        "    \"\"\"\n",
        "    f = gzip.open('/content/mnist.pkl.gz', 'rb')\n",
        "    training_data, validation_data, test_data = pickle.load(f, encoding=\"latin1\")\n",
        "    f.close()\n",
        "    return (training_data, validation_data, test_data)\n",
        "\n",
        "def load_data_wrapper():\n",
        "    \"\"\"Return a tuple containing ``(training_data, validation_data,\n",
        "    test_data)``. Based on ``load_data``, but the format is more\n",
        "    convenient for use in our implementation of neural networks.\n",
        "    In particular, ``training_data`` is a list containing 50,000\n",
        "    2-tuples ``(x, y)``.  ``x`` is a 784-dimensional numpy.ndarray\n",
        "    containing the input image.  ``y`` is a 10-dimensional\n",
        "    numpy.ndarray representing the unit vector corresponding to the\n",
        "    correct digit for ``x``.\n",
        "    ``validation_data`` and ``test_data`` are lists containing 10,000\n",
        "    2-tuples ``(x, y)``.  In each case, ``x`` is a 784-dimensional\n",
        "    numpy.ndarry containing the input image, and ``y`` is the\n",
        "    corresponding classification, i.e., the digit values (integers)\n",
        "    corresponding to ``x``.\n",
        "    Obviously, this means we're using slightly different formats for\n",
        "    the training data and the validation / test data.  These formats\n",
        "    turn out to be the most convenient for use in our neural network\n",
        "    code.\"\"\"\n",
        "    tr_d, va_d, te_d = load_data()\n",
        "    training_inputs = [np.reshape(x, (784, 1)) for x in tr_d[0]]\n",
        "    training_results = [vectorized_result(y) for y in tr_d[1]]\n",
        "    training_data = zip(training_inputs, training_results)\n",
        "    validation_inputs = [np.reshape(x, (784, 1)) for x in va_d[0]]\n",
        "    validation_data = zip(validation_inputs, va_d[1])\n",
        "    test_inputs = [np.reshape(x, (784, 1)) for x in te_d[0]]\n",
        "    test_data = zip(test_inputs, te_d[1])\n",
        "    return (training_data, validation_data, test_data)\n",
        "\n",
        "def vectorized_result(j):\n",
        "    \"\"\"Return a 10-dimensional unit vector with a 1.0 in the jth\n",
        "    position and zeroes elsewhere.  This is used to convert a digit\n",
        "    (0...9) into a corresponding desired output from the neural\n",
        "    network.\"\"\"\n",
        "    e = np.zeros((10, 1))\n",
        "    e[j] = 1.0\n",
        "    return e"
      ]
    },
    {
      "cell_type": "markdown",
      "metadata": {
        "id": "mE4ZnpuwS2Sg"
      },
      "source": [
        "## LOADING THE MNIST.PKL.GZ "
      ]
    },
    {
      "cell_type": "code",
      "execution_count": null,
      "metadata": {
        "id": "kt0NX6RlErR8"
      },
      "outputs": [],
      "source": [
        "training_data, validation_data, test_data = load_data_wrapper()\n",
        "training_data = list(training_data)"
      ]
    },
    {
      "cell_type": "markdown",
      "metadata": {
        "id": "BIXdp6qMHDHK"
      },
      "source": [
        "##### Training the network using Stochastic Gradient Descent algorithm."
      ]
    },
    {
      "cell_type": "code",
      "execution_count": null,
      "metadata": {
        "colab": {
          "base_uri": "https://localhost:8080/"
        },
        "id": "6dJxI-0SDP1u",
        "outputId": "5c799fe7-46cb-4eaf-a502-277cda5ae0ec"
      },
      "outputs": [
        {
          "output_type": "stream",
          "name": "stdout",
          "text": [
            "Epoch 0 : 9037 / 10000\n",
            "Epoch 1 : 9170 / 10000\n",
            "Epoch 2 : 9272 / 10000\n",
            "Epoch 3 : 9345 / 10000\n",
            "Epoch 4 : 9328 / 10000\n",
            "Epoch 5 : 9365 / 10000\n",
            "Epoch 6 : 9426 / 10000\n",
            "Epoch 7 : 9405 / 10000\n",
            "Epoch 8 : 9405 / 10000\n",
            "Epoch 9 : 9444 / 10000\n",
            "Epoch 10 : 9447 / 10000\n",
            "Epoch 11 : 9430 / 10000\n",
            "Epoch 12 : 9475 / 10000\n",
            "Epoch 13 : 9456 / 10000\n",
            "Epoch 14 : 9446 / 10000\n",
            "Epoch 15 : 9458 / 10000\n",
            "Epoch 16 : 9504 / 10000\n",
            "Epoch 17 : 9467 / 10000\n",
            "Epoch 18 : 9489 / 10000\n",
            "Epoch 19 : 9488 / 10000\n",
            "Epoch 20 : 9496 / 10000\n",
            "Epoch 21 : 9511 / 10000\n",
            "Epoch 22 : 9515 / 10000\n",
            "Epoch 23 : 9530 / 10000\n",
            "Epoch 24 : 9506 / 10000\n",
            "Epoch 25 : 9497 / 10000\n",
            "Epoch 26 : 9525 / 10000\n",
            "Epoch 27 : 9502 / 10000\n",
            "Epoch 28 : 9509 / 10000\n",
            "Epoch 29 : 9507 / 10000\n"
          ]
        }
      ],
      "source": [
        "network = Network([784, 30,10])\n",
        "network.SGD(training_data, 30, 10, 3.0, test_data=test_data)"
      ]
    },
    {
      "cell_type": "markdown",
      "metadata": {
        "id": "AZOFWWg6cYqJ"
      },
      "source": [
        "**_Conclusion_**:\n",
        "\n",
        "94.98% accuracy is obtained with neural network implemented. This network has been implemented using Stochastic Gradient Descent algorithm that minimizes the cost function. This algorithm implmented uses batching procedure for easier and faster processing of data."
      ]
    },
    {
      "cell_type": "markdown",
      "metadata": {
        "id": "Eef9-aJwtBcP"
      },
      "source": [
        "# QUESTIONS:\n",
        "\n",
        "# 1->CHANGE THE LEARNING RATE (VERY LOW,VERY HIGH)\n",
        "\n",
        "# 2-> CHANGE NUMBER OF NEURONS IN THE HIDDEN LAYERS\n",
        "\n",
        "# 3->REMOVE HIDDEN LAYER AND CHECK ACCURACY"
      ]
    },
    {
      "cell_type": "code",
      "execution_count": null,
      "metadata": {
        "colab": {
          "base_uri": "https://localhost:8080/"
        },
        "id": "XqtWJ_HCtJv9",
        "outputId": "057c4983-45c9-4d16-9ab0-f7339c49eadc"
      },
      "outputs": [
        {
          "output_type": "stream",
          "name": "stdout",
          "text": [
            "Epoch 0 : 7521 / 10000\n",
            "Epoch 1 : 8683 / 10000\n",
            "Epoch 2 : 8935 / 10000\n",
            "Epoch 3 : 9020 / 10000\n",
            "Epoch 4 : 9106 / 10000\n",
            "Epoch 5 : 9153 / 10000\n",
            "Epoch 6 : 9194 / 10000\n",
            "Epoch 7 : 9205 / 10000\n",
            "Epoch 8 : 9227 / 10000\n",
            "Epoch 9 : 9253 / 10000\n",
            "Epoch 10 : 9262 / 10000\n",
            "Epoch 11 : 9286 / 10000\n",
            "Epoch 12 : 9294 / 10000\n",
            "Epoch 13 : 9315 / 10000\n",
            "Epoch 14 : 9321 / 10000\n",
            "Epoch 15 : 9319 / 10000\n",
            "Epoch 16 : 9335 / 10000\n",
            "Epoch 17 : 9342 / 10000\n",
            "Epoch 18 : 9326 / 10000\n",
            "Epoch 19 : 9354 / 10000\n",
            "Epoch 20 : 9362 / 10000\n",
            "Epoch 21 : 9362 / 10000\n",
            "Epoch 22 : 9365 / 10000\n",
            "Epoch 23 : 9365 / 10000\n",
            "Epoch 24 : 9371 / 10000\n",
            "Epoch 25 : 9378 / 10000\n",
            "Epoch 26 : 9376 / 10000\n",
            "Epoch 27 : 9379 / 10000\n",
            "Epoch 28 : 9383 / 10000\n",
            "Epoch 29 : 9389 / 10000\n"
          ]
        }
      ],
      "source": [
        "network1 = Network([784, 30,10])\n",
        "network1.SGD(training_data, 30, 10, 0.5, test_data=test_data)"
      ]
    },
    {
      "cell_type": "markdown",
      "metadata": {
        "id": "lyMcKP2hyb62"
      },
      "source": [
        "## AT LEARNING RATE OF 0.5 THERE IS AN ACCURACY OF 93.89%"
      ]
    },
    {
      "cell_type": "code",
      "execution_count": null,
      "metadata": {
        "colab": {
          "base_uri": "https://localhost:8080/"
        },
        "id": "EJMHnlfev9g2",
        "outputId": "551e0ed0-a5d4-41df-9136-22d4f1fe0dad"
      },
      "outputs": [
        {
          "output_type": "stream",
          "name": "stdout",
          "text": [
            "Epoch 0 : 9095 / 10000\n",
            "Epoch 1 : 9154 / 10000\n",
            "Epoch 2 : 9184 / 10000\n",
            "Epoch 3 : 9269 / 10000\n",
            "Epoch 4 : 9303 / 10000\n",
            "Epoch 5 : 9360 / 10000\n",
            "Epoch 6 : 9360 / 10000\n",
            "Epoch 7 : 9367 / 10000\n",
            "Epoch 8 : 9385 / 10000\n",
            "Epoch 9 : 9442 / 10000\n",
            "Epoch 10 : 9440 / 10000\n",
            "Epoch 11 : 9466 / 10000\n",
            "Epoch 12 : 9413 / 10000\n",
            "Epoch 13 : 9447 / 10000\n",
            "Epoch 14 : 9449 / 10000\n",
            "Epoch 15 : 9410 / 10000\n",
            "Epoch 16 : 9386 / 10000\n",
            "Epoch 17 : 9452 / 10000\n",
            "Epoch 18 : 9489 / 10000\n",
            "Epoch 19 : 9447 / 10000\n",
            "Epoch 20 : 9475 / 10000\n",
            "Epoch 21 : 9473 / 10000\n",
            "Epoch 22 : 9493 / 10000\n",
            "Epoch 23 : 9495 / 10000\n",
            "Epoch 24 : 9471 / 10000\n",
            "Epoch 25 : 9513 / 10000\n",
            "Epoch 26 : 9497 / 10000\n",
            "Epoch 27 : 9512 / 10000\n",
            "Epoch 28 : 9482 / 10000\n",
            "Epoch 29 : 9487 / 10000\n"
          ]
        }
      ],
      "source": [
        "network2 = Network([784, 30,10])\n",
        "network2.SGD(training_data, 30, 10, 7.0, test_data=test_data)"
      ]
    },
    {
      "cell_type": "markdown",
      "metadata": {
        "id": "qQ476d-F0P5H"
      },
      "source": [
        "## ## AT LEARNING RATE OF 7.0 THERE IS AN ACCURACY OF 94.87%"
      ]
    },
    {
      "cell_type": "code",
      "execution_count": null,
      "metadata": {
        "colab": {
          "base_uri": "https://localhost:8080/"
        },
        "id": "jTlpxu5r1Gh2",
        "outputId": "2c743a0f-30f4-4f6d-b336-fe82e3678a99"
      },
      "outputs": [
        {
          "output_type": "stream",
          "name": "stdout",
          "text": [
            "Epoch 0 : 9113 / 10000\n",
            "Epoch 1 : 9284 / 10000\n",
            "Epoch 2 : 9348 / 10000\n",
            "Epoch 3 : 9420 / 10000\n",
            "Epoch 4 : 9430 / 10000\n",
            "Epoch 5 : 9496 / 10000\n",
            "Epoch 6 : 9481 / 10000\n",
            "Epoch 7 : 9507 / 10000\n",
            "Epoch 8 : 9510 / 10000\n",
            "Epoch 9 : 9518 / 10000\n",
            "Epoch 10 : 9515 / 10000\n",
            "Epoch 11 : 9549 / 10000\n",
            "Epoch 12 : 9547 / 10000\n",
            "Epoch 13 : 9580 / 10000\n",
            "Epoch 14 : 9557 / 10000\n",
            "Epoch 15 : 9561 / 10000\n",
            "Epoch 16 : 9573 / 10000\n",
            "Epoch 17 : 9580 / 10000\n",
            "Epoch 18 : 9591 / 10000\n",
            "Epoch 19 : 9570 / 10000\n",
            "Epoch 20 : 9552 / 10000\n",
            "Epoch 21 : 9575 / 10000\n",
            "Epoch 22 : 9579 / 10000\n",
            "Epoch 23 : 9584 / 10000\n",
            "Epoch 24 : 9606 / 10000\n",
            "Epoch 25 : 9604 / 10000\n",
            "Epoch 26 : 9578 / 10000\n",
            "Epoch 27 : 9589 / 10000\n",
            "Epoch 28 : 9584 / 10000\n",
            "Epoch 29 : 9600 / 10000\n"
          ]
        }
      ],
      "source": [
        "network3 = Network([784, 50,10])\n",
        "network3.SGD(training_data, 30, 10, 3.0, test_data=test_data)"
      ]
    },
    {
      "cell_type": "markdown",
      "metadata": {
        "id": "inSbjHf-1cHs"
      },
      "source": [
        "### CHANGING NUMBER OF NEURONS IN HIDDEN LAYER TO 50 results for accuracy being  96%"
      ]
    },
    {
      "cell_type": "code",
      "execution_count": null,
      "metadata": {
        "id": "cjZhu8y_1WWV",
        "colab": {
          "base_uri": "https://localhost:8080/"
        },
        "outputId": "97039922-f7e4-49d3-9d89-0f1e055ce774"
      },
      "outputs": [
        {
          "output_type": "stream",
          "name": "stdout",
          "text": [
            "Epoch 0 : 9050 / 10000\n",
            "Epoch 1 : 9242 / 10000\n",
            "Epoch 2 : 9317 / 10000\n",
            "Epoch 3 : 9326 / 10000\n",
            "Epoch 4 : 9374 / 10000\n",
            "Epoch 5 : 9359 / 10000\n",
            "Epoch 6 : 9384 / 10000\n",
            "Epoch 7 : 9407 / 10000\n",
            "Epoch 8 : 9426 / 10000\n",
            "Epoch 9 : 9472 / 10000\n",
            "Epoch 10 : 9453 / 10000\n",
            "Epoch 11 : 9466 / 10000\n",
            "Epoch 12 : 9439 / 10000\n",
            "Epoch 13 : 9482 / 10000\n",
            "Epoch 14 : 9417 / 10000\n",
            "Epoch 15 : 9453 / 10000\n",
            "Epoch 16 : 9470 / 10000\n",
            "Epoch 17 : 9429 / 10000\n",
            "Epoch 18 : 9476 / 10000\n",
            "Epoch 19 : 9495 / 10000\n"
          ]
        }
      ],
      "source": [
        "network4 = Network([784,30,10])\n",
        "network4.SGD(training_data, 20, 10, 7.0, test_data=test_data)"
      ]
    },
    {
      "cell_type": "markdown",
      "metadata": {
        "id": "NK2Hmk621k0M"
      },
      "source": [
        "### CHANGING NUMBER OF NEURONS IN HIDDEN LAYER TO 30 results in reducing the accuracy to 94.95%"
      ]
    },
    {
      "cell_type": "code",
      "execution_count": null,
      "metadata": {
        "id": "jk4MEOmq2mcl",
        "colab": {
          "base_uri": "https://localhost:8080/"
        },
        "outputId": "0a814474-4816-44a5-def7-996ec3dc0721"
      },
      "outputs": [
        {
          "output_type": "stream",
          "name": "stdout",
          "text": [
            "Epoch 0 : 6528 / 10000\n",
            "Epoch 1 : 6598 / 10000\n",
            "Epoch 2 : 6592 / 10000\n",
            "Epoch 3 : 6632 / 10000\n",
            "Epoch 4 : 6643 / 10000\n",
            "Epoch 5 : 6606 / 10000\n",
            "Epoch 6 : 6634 / 10000\n",
            "Epoch 7 : 6642 / 10000\n",
            "Epoch 8 : 6649 / 10000\n",
            "Epoch 9 : 6671 / 10000\n",
            "Epoch 10 : 6666 / 10000\n",
            "Epoch 11 : 7482 / 10000\n",
            "Epoch 12 : 7489 / 10000\n",
            "Epoch 13 : 7506 / 10000\n",
            "Epoch 14 : 7478 / 10000\n",
            "Epoch 15 : 7497 / 10000\n",
            "Epoch 16 : 7520 / 10000\n",
            "Epoch 17 : 7515 / 10000\n",
            "Epoch 18 : 7538 / 10000\n",
            "Epoch 19 : 7522 / 10000\n"
          ]
        }
      ],
      "source": [
        "network5 = Network([784,10])\n",
        "network5.SGD(training_data, 20, 10, 3.0, test_data=test_data)"
      ]
    },
    {
      "cell_type": "markdown",
      "source": [
        "### After removing the hidden layer the accuracy reduces to 75.22%"
      ],
      "metadata": {
        "id": "X60LG3hZVdRi"
      }
    },
    {
      "cell_type": "code",
      "source": [
        "network6 = Network([784,50,30,10])\n",
        "network6.SGD(training_data, 20, 10, 3.0, test_data=test_data) "
      ],
      "metadata": {
        "colab": {
          "base_uri": "https://localhost:8080/"
        },
        "id": "TpMqwnPwlQSL",
        "outputId": "687845c9-1c4e-4e6a-a99a-2f4a331c9252"
      },
      "execution_count": null,
      "outputs": [
        {
          "output_type": "stream",
          "name": "stdout",
          "text": [
            "Epoch 0 : 9101 / 10000\n",
            "Epoch 1 : 9292 / 10000\n",
            "Epoch 2 : 9361 / 10000\n",
            "Epoch 3 : 9322 / 10000\n",
            "Epoch 4 : 9460 / 10000\n",
            "Epoch 5 : 9425 / 10000\n",
            "Epoch 6 : 9487 / 10000\n",
            "Epoch 7 : 9426 / 10000\n",
            "Epoch 8 : 9509 / 10000\n",
            "Epoch 9 : 9502 / 10000\n",
            "Epoch 10 : 9504 / 10000\n",
            "Epoch 11 : 9508 / 10000\n",
            "Epoch 12 : 9500 / 10000\n",
            "Epoch 13 : 9480 / 10000\n",
            "Epoch 14 : 9545 / 10000\n",
            "Epoch 15 : 9547 / 10000\n",
            "Epoch 16 : 9559 / 10000\n",
            "Epoch 17 : 9483 / 10000\n",
            "Epoch 18 : 9562 / 10000\n",
            "Epoch 19 : 9563 / 10000\n"
          ]
        }
      ]
    },
    {
      "cell_type": "markdown",
      "source": [
        "### ADDING ONE MORE LAYER GIVES A 95.63% ACCURACY"
      ],
      "metadata": {
        "id": "A2Vr5pKsrFHn"
      }
    }
  ],
  "metadata": {
    "colab": {
      "provenance": []
    },
    "kernelspec": {
      "display_name": "Python 3",
      "name": "python3"
    },
    "language_info": {
      "name": "python"
    }
  },
  "nbformat": 4,
  "nbformat_minor": 0
}