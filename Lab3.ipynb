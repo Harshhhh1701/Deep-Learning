{
  "nbformat": 4,
  "nbformat_minor": 0,
  "metadata": {
    "colab": {
      "provenance": []
    },
    "kernelspec": {
      "name": "python3",
      "display_name": "Python 3"
    },
    "language_info": {
      "name": "python"
    }
  },
  "cells": [
    {
      "cell_type": "markdown",
      "source": [
        "# Lab 4\n",
        "\n",
        "Name: Nimish Kashyap\n",
        "\n",
        "Reg: 20BRS1049\n",
        "\n",
        "Date: 22/12/2022"
      ],
      "metadata": {
        "id": "DxRiwqxRfdNF"
      }
    },
    {
      "cell_type": "code",
      "execution_count": null,
      "metadata": {
        "id": "DJDhuJEDfZMU"
      },
      "outputs": [],
      "source": [
        "from keras import models\n",
        "from keras import layers\n",
        "from keras.datasets import mnist\n",
        "import pandas as pd\n",
        "from keras.utils import to_categorical"
      ]
    },
    {
      "cell_type": "code",
      "source": [
        "(train_images, train_labels) , (test_images, test_labels) = mnist.load_data()"
      ],
      "metadata": {
        "id": "MICJBzvWfzDm",
        "colab": {
          "base_uri": "https://localhost:8080/"
        },
        "outputId": "7896724a-9b49-4049-a5ea-0d6ba62b38b0"
      },
      "execution_count": null,
      "outputs": [
        {
          "output_type": "stream",
          "name": "stdout",
          "text": [
            "Downloading data from https://storage.googleapis.com/tensorflow/tf-keras-datasets/mnist.npz\n",
            "11490434/11490434 [==============================] - 0s 0us/step\n"
          ]
        }
      ]
    },
    {
      "cell_type": "code",
      "source": [
        "print(train_images.shape)\n",
        "print(train_labels.shape)\n",
        "\n",
        "print(test_images.shape)\n",
        "print(test_labels.shape)\n",
        "\n"
      ],
      "metadata": {
        "colab": {
          "base_uri": "https://localhost:8080/"
        },
        "id": "jhJspUFof7m2",
        "outputId": "bbb91eae-ebe7-44f6-a8fc-4dab343c03e4"
      },
      "execution_count": null,
      "outputs": [
        {
          "output_type": "stream",
          "name": "stdout",
          "text": [
            "(60000, 28, 28)\n",
            "(60000,)\n",
            "(10000, 28, 28)\n",
            "(10000,)\n"
          ]
        }
      ]
    },
    {
      "cell_type": "code",
      "source": [
        "train_labels = to_categorical(train_labels)\n",
        "test_labels = to_categorical(test_labels)\n",
        "print(train_labels.shape)"
      ],
      "metadata": {
        "colab": {
          "base_uri": "https://localhost:8080/"
        },
        "id": "mNvTFfy1gJT1",
        "outputId": "fd1a5c54-f208-48c8-ba6e-cd28511bfed2"
      },
      "execution_count": null,
      "outputs": [
        {
          "output_type": "stream",
          "name": "stdout",
          "text": [
            "(60000, 10)\n"
          ]
        }
      ]
    },
    {
      "cell_type": "code",
      "source": [
        "network = models.Sequential()\n",
        "network.add(layers.Dense(512, activation=\"relu\", input_shape=(28*28,)))\n",
        "network.add(layers.Dense(10, activation=\"softmax\"))\n",
        "\n",
        "network.compile(optimizer=\"rmsprop\", loss=\"categorical_crossentropy\", metrics=['accuracy'])"
      ],
      "metadata": {
        "id": "kEPdJ3ZOgmU1"
      },
      "execution_count": null,
      "outputs": []
    },
    {
      "cell_type": "code",
      "source": [
        "train_images = train_images.reshape((60000, 28*28))\n",
        "train_images = train_images.astype('float32')/255\n",
        "\n",
        "test_images = test_images.reshape((10000, 28*28))\n",
        "test_images = test_images.astype('float32')/255\n"
      ],
      "metadata": {
        "id": "CvouK4lthA8n"
      },
      "execution_count": null,
      "outputs": []
    },
    {
      "cell_type": "code",
      "source": [
        "network.fit(train_images, train_labels, epochs=5, batch_size=128)"
      ],
      "metadata": {
        "colab": {
          "base_uri": "https://localhost:8080/"
        },
        "id": "keSFfUrJhRbN",
        "outputId": "a43052ff-73b9-4f47-e80a-88adc43319fc"
      },
      "execution_count": null,
      "outputs": [
        {
          "output_type": "stream",
          "name": "stdout",
          "text": [
            "Epoch 1/5\n",
            "469/469 [==============================] - 9s 15ms/step - loss: 0.2539 - accuracy: 0.9267\n",
            "Epoch 2/5\n",
            "469/469 [==============================] - 6s 12ms/step - loss: 0.1041 - accuracy: 0.9692\n",
            "Epoch 3/5\n",
            "469/469 [==============================] - 6s 12ms/step - loss: 0.0676 - accuracy: 0.9795\n",
            "Epoch 4/5\n",
            "469/469 [==============================] - 6s 12ms/step - loss: 0.0495 - accuracy: 0.9850\n",
            "Epoch 5/5\n",
            "469/469 [==============================] - 6s 12ms/step - loss: 0.0380 - accuracy: 0.9886\n"
          ]
        },
        {
          "output_type": "execute_result",
          "data": {
            "text/plain": [
              "<keras.callbacks.History at 0x7f2ba809f160>"
            ]
          },
          "metadata": {},
          "execution_count": 10
        }
      ]
    },
    {
      "cell_type": "code",
      "source": [
        "test_loss, test_acc = network.evaluate(test_images, test_labels)\n",
        "\n",
        "print(test_loss)\n",
        "\n",
        "print(test_acc)"
      ],
      "metadata": {
        "colab": {
          "base_uri": "https://localhost:8080/"
        },
        "id": "Psu3cbLblOCv",
        "outputId": "5520d72a-2f92-4289-d741-f1ca69ca24bc"
      },
      "execution_count": null,
      "outputs": [
        {
          "output_type": "stream",
          "name": "stdout",
          "text": [
            "313/313 [==============================] - 1s 4ms/step - loss: 0.0666 - accuracy: 0.9799\n",
            "0.06657201051712036\n",
            "0.9799000024795532\n"
          ]
        }
      ]
    },
    {
      "cell_type": "markdown",
      "source": [
        "## Implementing Deep Neural Network found on Github link."
      ],
      "metadata": {
        "id": "SThmIebMHkr5"
      }
    },
    {
      "cell_type": "code",
      "source": [
        "\"\"\"\n",
        "network.py\n",
        "~~~~~~~~~~\n",
        "IT WORKS\n",
        "A module to implement the stochastic gradient descent learning\n",
        "algorithm for a feedforward neural network.  Gradients are calculated\n",
        "using backpropagation.  Note that I have focused on making the code\n",
        "simple, easily readable, and easily modifiable.  It is not optimized,\n",
        "and omits many desirable features.\n",
        "\"\"\"\n",
        "\n",
        "#### Libraries\n",
        "# Standard library\n",
        "import random\n",
        "\n",
        "# Third-party libraries\n",
        "import numpy as np\n",
        "\n",
        "class Network(object):\n",
        "\n",
        "    def __init__(self, sizes):\n",
        "        \"\"\"The list ``sizes`` contains the number of neurons in the\n",
        "        respective layers of the network.  For example, if the list\n",
        "        was [2, 3, 1] then it would be a three-layer network, with the\n",
        "        first layer containing 2 neurons, the second layer 3 neurons,\n",
        "        and the third layer 1 neuron.  The biases and weights for the\n",
        "        network are initialized randomly, using a Gaussian\n",
        "        distribution with mean 0, and variance 1.  Note that the first\n",
        "        layer is assumed to be an input layer, and by convention we\n",
        "        won't set any biases for those neurons, since biases are only\n",
        "        ever used in computing the outputs from later layers.\"\"\"\n",
        "        self.num_layers = len(sizes)\n",
        "        self.sizes = sizes\n",
        "        self.biases = [np.random.randn(y, 1) for y in sizes[1:]]\n",
        "        print(len(self.biases))\n",
        "        self.weights = [np.random.randn(y, x)\n",
        "                        for x, y in zip(sizes[:-1], sizes[1:])]\n",
        "        print(len(self.weights))\n",
        "\n",
        "    def feedforward(self, a):\n",
        "        \"\"\"Return the output of the network if ``a`` is input.\"\"\"\n",
        "        for b, w in zip(self.biases, self.weights):\n",
        "            a = sigmoid(np.dot(w, a)+b)\n",
        "        return a\n",
        "\n",
        "    def SGD(self, training_data, epochs, mini_batch_size, eta,\n",
        "            test_data=None):\n",
        "        \"\"\"Train the neural network using mini-batch stochastic\n",
        "        gradient descent.  The ``training_data`` is a list of tuples\n",
        "        ``(x, y)`` representing the training inputs and the desired\n",
        "        outputs.  The other non-optional parameters are\n",
        "        self-explanatory.  If ``test_data`` is provided then the\n",
        "        network will be evaluated against the test data after each\n",
        "        epoch, and partial progress printed out.  This is useful for\n",
        "        tracking progress, but slows things down substantially.\"\"\"\n",
        "\n",
        "        training_data = list(training_data)\n",
        "        n = len(training_data)\n",
        "\n",
        "        if test_data:\n",
        "            test_data = list(test_data)\n",
        "            n_test = len(test_data)\n",
        "\n",
        "        for j in range(epochs):\n",
        "            random.shuffle(training_data)\n",
        "            mini_batches = [\n",
        "                training_data[k:k+mini_batch_size]\n",
        "                for k in range(0, n, mini_batch_size)]\n",
        "            for mini_batch in mini_batches:\n",
        "                self.update_mini_batch(mini_batch, eta)\n",
        "            if test_data:\n",
        "                print(\"Epoch {} : {} / {}\".format(j,self.evaluate(test_data),n_test))\n",
        "            else:\n",
        "                print(\"Epoch {} complete\".format(j))\n",
        "\n",
        "    def update_mini_batch(self, mini_batch, eta):\n",
        "        \"\"\"Update the network's weights and biases by applying\n",
        "        gradient descent using backpropagation to a single mini batch.\n",
        "        The ``mini_batch`` is a list of tuples ``(x, y)``, and ``eta``\n",
        "        is the learning rate.\"\"\"\n",
        "        nabla_b = [np.zeros(b.shape) for b in self.biases]\n",
        "        nabla_w = [np.zeros(w.shape) for w in self.weights]\n",
        "        for x, y in mini_batch:\n",
        "            delta_nabla_b, delta_nabla_w = self.backprop(x, y)\n",
        "            nabla_b = [nb+dnb for nb, dnb in zip(nabla_b, delta_nabla_b)]\n",
        "            nabla_w = [nw+dnw for nw, dnw in zip(nabla_w, delta_nabla_w)]\n",
        "        self.weights = [w-(eta/len(mini_batch))*nw\n",
        "                        for w, nw in zip(self.weights, nabla_w)]\n",
        "        self.biases = [b-(eta/len(mini_batch))*nb\n",
        "                       for b, nb in zip(self.biases, nabla_b)]\n",
        "\n",
        "    def backprop(self, x, y):\n",
        "        \"\"\"Return a tuple ``(nabla_b, nabla_w)`` representing the\n",
        "        gradient for the cost function C_x.  ``nabla_b`` and\n",
        "        ``nabla_w`` are layer-by-layer lists of numpy arrays, similar\n",
        "        to ``self.biases`` and ``self.weights``.\"\"\"\n",
        "        nabla_b = [np.zeros(b.shape) for b in self.biases]\n",
        "        nabla_w = [np.zeros(w.shape) for w in self.weights]\n",
        "        # feedforward\n",
        "        activation = x\n",
        "        activations = [x] # list to store all the activations, layer by layer\n",
        "        zs = [] # list to store all the z vectors, layer by layer\n",
        "        for b, w in zip(self.biases, self.weights):\n",
        "            z = np.dot(w, activation)+b\n",
        "            zs.append(z)\n",
        "            activation = sigmoid(z)\n",
        "            activations.append(activation)\n",
        "        # backward pass\n",
        "        delta = self.cost_derivative(activations[-1], y) * \\\n",
        "            sigmoid_prime(zs[-1])\n",
        "        nabla_b[-1] = delta\n",
        "        nabla_w[-1] = np.dot(delta, activations[-2].transpose())\n",
        "        # Note that the variable l in the loop below is used a little\n",
        "        # differently to the notation in Chapter 2 of the book.  Here,\n",
        "        # l = 1 means the last layer of neurons, l = 2 is the\n",
        "        # second-last layer, and so on.  It's a renumbering of the\n",
        "        # scheme in the book, used here to take advantage of the fact\n",
        "        # that Python can use negative indices in lists.\n",
        "        for l in range(2, self.num_layers):\n",
        "            z = zs[-l]\n",
        "            sp = sigmoid_prime(z)\n",
        "            delta = np.dot(self.weights[-l+1].transpose(), delta) * sp\n",
        "            nabla_b[-l] = delta\n",
        "            nabla_w[-l] = np.dot(delta, activations[-l-1].transpose())\n",
        "        return (nabla_b, nabla_w)\n",
        "\n",
        "    def evaluate(self, test_data):\n",
        "        \"\"\"Return the number of test inputs for which the neural\n",
        "        network outputs the correct result. Note that the neural\n",
        "        network's output is assumed to be the index of whichever\n",
        "        neuron in the final layer has the highest activation.\"\"\"\n",
        "        test_results = [(np.argmax(self.feedforward(x)), y)\n",
        "                        for (x, y) in test_data]\n",
        "        return sum(int(x == y) for (x, y) in test_results)\n",
        "\n",
        "    def cost_derivative(self, output_activations, y):\n",
        "        \"\"\"Return the vector of partial derivatives \\partial C_x /\n",
        "        \\partial a for the output activations.\"\"\"\n",
        "        return (output_activations-y)\n",
        "\n",
        "#### Miscellaneous functions\n",
        "def sigmoid(z):\n",
        "    \"\"\"The sigmoid function.\"\"\"\n",
        "    return 1.0/(1.0+np.exp(-z))\n",
        "\n",
        "def sigmoid_prime(z):\n",
        "    \"\"\"Derivative of the sigmoid function.\"\"\"\n",
        "    return sigmoid(z)*(1-sigmoid(z))"
      ],
      "metadata": {
        "id": "JfKd8jCal3O_"
      },
      "execution_count": null,
      "outputs": []
    },
    {
      "cell_type": "markdown",
      "source": [
        "##### Define the loader class to load data\n",
        "\n",
        "Here a local copy of mnist data is used.\n",
        "\n",
        "The data is loaded using **Pickle** API and returned as training data, validation data and test data respectively."
      ],
      "metadata": {
        "id": "wCGcV4OSHLO6"
      }
    },
    {
      "cell_type": "code",
      "source": [
        "import pickle\n",
        "import gzip\n",
        "\n",
        "# Third-party libraries\n",
        "import numpy as np\n",
        "\n",
        "def load_data():\n",
        "    \"\"\"Return the MNIST data as a tuple containing the training data,\n",
        "    the validation data, and the test data.\n",
        "    The ``training_data`` is returned as a tuple with two entries.\n",
        "    The first entry contains the actual training images.  This is a\n",
        "    numpy ndarray with 50,000 entries.  Each entry is, in turn, a\n",
        "    numpy ndarray with 784 values, representing the 28 * 28 = 784\n",
        "    pixels in a single MNIST image.\n",
        "    The second entry in the ``training_data`` tuple is a numpy ndarray\n",
        "    containing 50,000 entries.  Those entries are just the digit\n",
        "    values (0...9) for the corresponding images contained in the first\n",
        "    entry of the tuple.\n",
        "    The ``validation_data`` and ``test_data`` are similar, except\n",
        "    each contains only 10,000 images.\n",
        "    This is a nice data format, but for use in neural networks it's\n",
        "    helpful to modify the format of the ``training_data`` a little.\n",
        "    That's done in the wrapper function ``load_data_wrapper()``, see\n",
        "    below.\n",
        "    \"\"\"\n",
        "    f = gzip.open('/content/mnist.pkl.gz', 'rb')\n",
        "    training_data, validation_data, test_data = pickle.load(f, encoding=\"latin1\")\n",
        "    f.close()\n",
        "    return (training_data, validation_data, test_data)\n",
        "\n",
        "def load_data_wrapper():\n",
        "    \"\"\"Return a tuple containing ``(training_data, validation_data,\n",
        "    test_data)``. Based on ``load_data``, but the format is more\n",
        "    convenient for use in our implementation of neural networks.\n",
        "    In particular, ``training_data`` is a list containing 50,000\n",
        "    2-tuples ``(x, y)``.  ``x`` is a 784-dimensional numpy.ndarray\n",
        "    containing the input image.  ``y`` is a 10-dimensional\n",
        "    numpy.ndarray representing the unit vector corresponding to the\n",
        "    correct digit for ``x``.\n",
        "    ``validation_data`` and ``test_data`` are lists containing 10,000\n",
        "    2-tuples ``(x, y)``.  In each case, ``x`` is a 784-dimensional\n",
        "    numpy.ndarry containing the input image, and ``y`` is the\n",
        "    corresponding classification, i.e., the digit values (integers)\n",
        "    corresponding to ``x``.\n",
        "    Obviously, this means we're using slightly different formats for\n",
        "    the training data and the validation / test data.  These formats\n",
        "    turn out to be the most convenient for use in our neural network\n",
        "    code.\"\"\"\n",
        "    tr_d, va_d, te_d = load_data()\n",
        "    training_inputs = [np.reshape(x, (784, 1)) for x in tr_d[0]]\n",
        "    training_results = [vectorized_result(y) for y in tr_d[1]]\n",
        "    training_data = zip(training_inputs, training_results)\n",
        "    validation_inputs = [np.reshape(x, (784, 1)) for x in va_d[0]]\n",
        "    validation_data = zip(validation_inputs, va_d[1])\n",
        "    test_inputs = [np.reshape(x, (784, 1)) for x in te_d[0]]\n",
        "    test_data = zip(test_inputs, te_d[1])\n",
        "    return (training_data, validation_data, test_data)\n",
        "\n",
        "def vectorized_result(j):\n",
        "    \"\"\"Return a 10-dimensional unit vector with a 1.0 in the jth\n",
        "    position and zeroes elsewhere.  This is used to convert a digit\n",
        "    (0...9) into a corresponding desired output from the neural\n",
        "    network.\"\"\"\n",
        "    e = np.zeros((10, 1))\n",
        "    e[j] = 1.0\n",
        "    return e"
      ],
      "metadata": {
        "id": "ag3voVkkBRGx"
      },
      "execution_count": null,
      "outputs": []
    },
    {
      "cell_type": "code",
      "source": [
        "training_data, validation_data, test_data = load_data_wrapper()\n",
        "training_data = list(training_data) "
      ],
      "metadata": {
        "id": "kt0NX6RlErR8"
      },
      "execution_count": null,
      "outputs": []
    },
    {
      "cell_type": "markdown",
      "source": [
        "##### Training the network using Stochastic Gradient Descent algorithm."
      ],
      "metadata": {
        "id": "BIXdp6qMHDHK"
      }
    },
    {
      "cell_type": "code",
      "source": [
        "network = Network([784, 30,10])\n",
        "network.SGD(training_data, 30, 10, 3.0, test_data=test_data)"
      ],
      "metadata": {
        "colab": {
          "base_uri": "https://localhost:8080/",
          "height": 217
        },
        "id": "6dJxI-0SDP1u",
        "outputId": "2e0efaad-7f06-4ebe-ed29-b13150df2a8f"
      },
      "execution_count": null,
      "outputs": [
        {
          "output_type": "stream",
          "name": "stdout",
          "text": [
            "2\n",
            "2\n"
          ]
        },
        {
          "output_type": "error",
          "ename": "NameError",
          "evalue": "ignored",
          "traceback": [
            "\u001b[0;31m---------------------------------------------------------------------------\u001b[0m",
            "\u001b[0;31mNameError\u001b[0m                                 Traceback (most recent call last)",
            "\u001b[0;32m<ipython-input-3-d30922f5c173>\u001b[0m in \u001b[0;36m<cell line: 2>\u001b[0;34m()\u001b[0m\n\u001b[1;32m      1\u001b[0m \u001b[0mnetwork\u001b[0m \u001b[0;34m=\u001b[0m \u001b[0mNetwork\u001b[0m\u001b[0;34m(\u001b[0m\u001b[0;34m[\u001b[0m\u001b[0;36m784\u001b[0m\u001b[0;34m,\u001b[0m \u001b[0;36m30\u001b[0m\u001b[0;34m,\u001b[0m\u001b[0;36m10\u001b[0m\u001b[0;34m]\u001b[0m\u001b[0;34m)\u001b[0m\u001b[0;34m\u001b[0m\u001b[0;34m\u001b[0m\u001b[0m\n\u001b[0;32m----> 2\u001b[0;31m \u001b[0mnetwork\u001b[0m\u001b[0;34m.\u001b[0m\u001b[0mSGD\u001b[0m\u001b[0;34m(\u001b[0m\u001b[0mtraining_data\u001b[0m\u001b[0;34m,\u001b[0m \u001b[0;36m30\u001b[0m\u001b[0;34m,\u001b[0m \u001b[0;36m10\u001b[0m\u001b[0;34m,\u001b[0m \u001b[0;36m3.0\u001b[0m\u001b[0;34m,\u001b[0m \u001b[0mtest_data\u001b[0m\u001b[0;34m=\u001b[0m\u001b[0mtest_data\u001b[0m\u001b[0;34m)\u001b[0m\u001b[0;34m\u001b[0m\u001b[0;34m\u001b[0m\u001b[0m\n\u001b[0m",
            "\u001b[0;31mNameError\u001b[0m: name 'training_data' is not defined"
          ]
        }
      ]
    },
    {
      "cell_type": "markdown",
      "source": [
        "**_Conclusion_**:\n",
        "\n",
        "Here we can see, 94.90% accuracy is obtained with neural network implemented. This network has been implemented using Stochastic Gradient Descent algorithm that minimizes the cost function. This algorithm implmented uses batching procedure for easier and faster processing of data."
      ],
      "metadata": {
        "id": "AZOFWWg6cYqJ"
      }
    },
    {
      "cell_type": "markdown",
      "source": [
        "Lab report 4\n",
        "\n",
        "Change learning rate (very low very high)\n",
        "\n",
        "Change number of neurons in hidden layer\n",
        "\n",
        "Remove hidden layer and check accuracy"
      ],
      "metadata": {
        "id": "pgMqU6E8sNKo"
      }
    },
    {
      "cell_type": "markdown",
      "source": [
        "1. **Change** learning rate. "
      ],
      "metadata": {
        "id": "GcnWKhb7scnA"
      }
    },
    {
      "cell_type": "code",
      "source": [
        "network = Network([784, 30,10])\n",
        "network.SGD(training_data, 30, 10, 0.1, test_data=test_data)"
      ],
      "metadata": {
        "colab": {
          "base_uri": "https://localhost:8080/"
        },
        "id": "Wxhid0a0sbXQ",
        "outputId": "ca482f29-c686-40fe-9af4-9df396cbe1f3"
      },
      "execution_count": null,
      "outputs": [
        {
          "output_type": "stream",
          "name": "stdout",
          "text": [
            "Epoch 0 : 3536 / 10000\n",
            "Epoch 1 : 5935 / 10000\n",
            "Epoch 2 : 6856 / 10000\n",
            "Epoch 3 : 7311 / 10000\n",
            "Epoch 4 : 7602 / 10000\n",
            "Epoch 5 : 7754 / 10000\n",
            "Epoch 6 : 7872 / 10000\n",
            "Epoch 7 : 8434 / 10000\n",
            "Epoch 8 : 8587 / 10000\n",
            "Epoch 9 : 8665 / 10000\n",
            "Epoch 10 : 8744 / 10000\n",
            "Epoch 11 : 8791 / 10000\n",
            "Epoch 12 : 8827 / 10000\n",
            "Epoch 13 : 8867 / 10000\n",
            "Epoch 14 : 8876 / 10000\n",
            "Epoch 15 : 8912 / 10000\n",
            "Epoch 16 : 8925 / 10000\n",
            "Epoch 17 : 8953 / 10000\n",
            "Epoch 18 : 8976 / 10000\n",
            "Epoch 19 : 8984 / 10000\n",
            "Epoch 20 : 8990 / 10000\n",
            "Epoch 21 : 9010 / 10000\n",
            "Epoch 22 : 9011 / 10000\n",
            "Epoch 23 : 9040 / 10000\n",
            "Epoch 24 : 9052 / 10000\n",
            "Epoch 25 : 9058 / 10000\n",
            "Epoch 26 : 9068 / 10000\n",
            "Epoch 27 : 9090 / 10000\n",
            "Epoch 28 : 9104 / 10000\n",
            "Epoch 29 : 9107 / 10000\n"
          ]
        }
      ]
    },
    {
      "cell_type": "markdown",
      "source": [
        "**Conclusion**:\n",
        "Reducing the learning rate has effectively reduced the accuracy."
      ],
      "metadata": {
        "id": "qdo7egl2ucGp"
      }
    },
    {
      "cell_type": "code",
      "source": [
        "# INCREASING THE LEARNING RATE\n",
        "network = Network([784, 30,10])\n",
        "network.SGD(training_data, 30, 10, 10, test_data=test_data)"
      ],
      "metadata": {
        "colab": {
          "base_uri": "https://localhost:8080/"
        },
        "id": "b7gdRMaHuieh",
        "outputId": "c36cc908-7e4b-46ce-a05b-0921767f8cd1"
      },
      "execution_count": null,
      "outputs": [
        {
          "output_type": "stream",
          "name": "stdout",
          "text": [
            "Epoch 0 : 8215 / 10000\n",
            "Epoch 1 : 9075 / 10000\n",
            "Epoch 2 : 9280 / 10000\n",
            "Epoch 3 : 9337 / 10000\n",
            "Epoch 4 : 9400 / 10000\n",
            "Epoch 5 : 9374 / 10000\n",
            "Epoch 6 : 9355 / 10000\n",
            "Epoch 7 : 9373 / 10000\n",
            "Epoch 8 : 9395 / 10000\n",
            "Epoch 9 : 9410 / 10000\n",
            "Epoch 10 : 9448 / 10000\n",
            "Epoch 11 : 9359 / 10000\n",
            "Epoch 12 : 9388 / 10000\n",
            "Epoch 13 : 9443 / 10000\n",
            "Epoch 14 : 9469 / 10000\n",
            "Epoch 15 : 9468 / 10000\n",
            "Epoch 16 : 9427 / 10000\n",
            "Epoch 17 : 9483 / 10000\n",
            "Epoch 18 : 9440 / 10000\n",
            "Epoch 19 : 9460 / 10000\n",
            "Epoch 20 : 9467 / 10000\n",
            "Epoch 21 : 9481 / 10000\n",
            "Epoch 22 : 9439 / 10000\n",
            "Epoch 23 : 9462 / 10000\n",
            "Epoch 24 : 9498 / 10000\n",
            "Epoch 25 : 9509 / 10000\n",
            "Epoch 26 : 9520 / 10000\n",
            "Epoch 27 : 9502 / 10000\n",
            "Epoch 28 : 9547 / 10000\n",
            "Epoch 29 : 9510 / 10000\n"
          ]
        }
      ]
    },
    {
      "cell_type": "markdown",
      "source": [
        "**Conclusion**:\n",
        "Increasing the learning rate to 10 has increased the overall accuracy at the cost of higher training time of 5m 33s."
      ],
      "metadata": {
        "id": "WBKTBEX_wUpB"
      }
    },
    {
      "cell_type": "markdown",
      "source": [
        "2. Changing the number of neurons in the hidden layer.\n",
        "\n",
        "\n",
        "Here the number of neurons has been increased from 30 to 50."
      ],
      "metadata": {
        "id": "xz1huhSiwnn5"
      }
    },
    {
      "cell_type": "code",
      "source": [
        "network = Network([784, 50,10])\n",
        "network.SGD(training_data, 30, 10, 3.0, test_data=test_data)"
      ],
      "metadata": {
        "colab": {
          "base_uri": "https://localhost:8080/"
        },
        "id": "wajgb1q0wgPm",
        "outputId": "4b884abc-ecdd-4f3a-a621-c1c070d9ae5c"
      },
      "execution_count": null,
      "outputs": [
        {
          "output_type": "stream",
          "name": "stdout",
          "text": [
            "Epoch 0 : 7466 / 10000\n",
            "Epoch 1 : 9270 / 10000\n",
            "Epoch 2 : 9357 / 10000\n",
            "Epoch 3 : 9379 / 10000\n",
            "Epoch 4 : 9462 / 10000\n",
            "Epoch 5 : 9478 / 10000\n",
            "Epoch 6 : 9513 / 10000\n",
            "Epoch 7 : 9505 / 10000\n",
            "Epoch 8 : 9519 / 10000\n",
            "Epoch 9 : 9532 / 10000\n",
            "Epoch 10 : 9561 / 10000\n",
            "Epoch 11 : 9559 / 10000\n",
            "Epoch 12 : 9556 / 10000\n",
            "Epoch 13 : 9565 / 10000\n",
            "Epoch 14 : 9569 / 10000\n",
            "Epoch 15 : 9575 / 10000\n",
            "Epoch 16 : 9569 / 10000\n",
            "Epoch 17 : 9586 / 10000\n",
            "Epoch 18 : 9570 / 10000\n",
            "Epoch 19 : 9588 / 10000\n",
            "Epoch 20 : 9578 / 10000\n",
            "Epoch 21 : 9612 / 10000\n",
            "Epoch 22 : 9587 / 10000\n",
            "Epoch 23 : 9589 / 10000\n",
            "Epoch 24 : 9589 / 10000\n",
            "Epoch 25 : 9590 / 10000\n",
            "Epoch 26 : 9589 / 10000\n",
            "Epoch 27 : 9582 / 10000\n",
            "Epoch 28 : 9605 / 10000\n",
            "Epoch 29 : 9582 / 10000\n"
          ]
        }
      ]
    },
    {
      "cell_type": "markdown",
      "source": [
        "**Conclusion**:\n",
        "\n",
        "Here we can see that it has the time for the traininig to complete the epochs \n",
        "of about 11m 42s. But the effective accuracy has not been changed much. This signifies that increasing number of neurons does not necessarily means increased accuracy and we have to take other parameters into consideration."
      ],
      "metadata": {
        "id": "973qxNtUzdJR"
      }
    },
    {
      "cell_type": "markdown",
      "source": [
        "3. Removing hidden layer completely."
      ],
      "metadata": {
        "id": "69XRf2vp0DaZ"
      }
    },
    {
      "cell_type": "code",
      "source": [
        "network = Network([784,10])\n",
        "network.SGD(training_data, 30, 10, 3.0, test_data=test_data)"
      ],
      "metadata": {
        "colab": {
          "base_uri": "https://localhost:8080/"
        },
        "id": "pDKLkz9YzecR",
        "outputId": "7bdc1b77-0aa9-4e09-ee06-df3a8cd45c42"
      },
      "execution_count": null,
      "outputs": [
        {
          "output_type": "stream",
          "name": "stdout",
          "text": [
            "Epoch 0 : 6287 / 10000\n",
            "Epoch 1 : 6443 / 10000\n",
            "Epoch 2 : 6524 / 10000\n",
            "Epoch 3 : 6510 / 10000\n",
            "Epoch 4 : 6489 / 10000\n",
            "Epoch 5 : 6674 / 10000\n",
            "Epoch 6 : 7450 / 10000\n",
            "Epoch 7 : 7404 / 10000\n",
            "Epoch 8 : 7461 / 10000\n",
            "Epoch 9 : 7580 / 10000\n",
            "Epoch 10 : 8235 / 10000\n",
            "Epoch 11 : 8275 / 10000\n",
            "Epoch 12 : 8210 / 10000\n",
            "Epoch 13 : 8285 / 10000\n",
            "Epoch 14 : 8270 / 10000\n",
            "Epoch 15 : 8250 / 10000\n",
            "Epoch 16 : 8325 / 10000\n",
            "Epoch 17 : 8307 / 10000\n",
            "Epoch 18 : 9102 / 10000\n",
            "Epoch 19 : 9152 / 10000\n",
            "Epoch 20 : 9143 / 10000\n",
            "Epoch 21 : 9177 / 10000\n",
            "Epoch 22 : 9168 / 10000\n",
            "Epoch 23 : 9149 / 10000\n",
            "Epoch 24 : 9144 / 10000\n",
            "Epoch 25 : 9150 / 10000\n",
            "Epoch 26 : 9126 / 10000\n",
            "Epoch 27 : 9162 / 10000\n",
            "Epoch 28 : 9158 / 10000\n",
            "Epoch 29 : 9159 / 10000\n"
          ]
        }
      ]
    },
    {
      "cell_type": "markdown",
      "source": [
        "**Conclusion**:\n",
        "\n",
        "Removing the hidden layer has resulted in lower accuracy as well as low absolute accuracy change on each epoch, but it has increased the training time significantly, about 1m 23s."
      ],
      "metadata": {
        "id": "JCTM10wK0fHR"
      }
    },
    {
      "cell_type": "markdown",
      "source": [
        "4. Adding another layer."
      ],
      "metadata": {
        "id": "BdZcOiGw02bh"
      }
    },
    {
      "cell_type": "code",
      "source": [
        "network = Network([784, 50,20,10])\n",
        "network.SGD(training_data, 30, 10, 3.0, test_data=test_data)"
      ],
      "metadata": {
        "colab": {
          "base_uri": "https://localhost:8080/"
        },
        "id": "4XPQxdVI0grR",
        "outputId": "1e3824a8-8fc4-4b03-d155-cd73987c710f"
      },
      "execution_count": null,
      "outputs": [
        {
          "output_type": "stream",
          "name": "stdout",
          "text": [
            "Epoch 0 : 9028 / 10000\n",
            "Epoch 1 : 9271 / 10000\n",
            "Epoch 2 : 9340 / 10000\n",
            "Epoch 3 : 9382 / 10000\n",
            "Epoch 4 : 9447 / 10000\n",
            "Epoch 5 : 9441 / 10000\n",
            "Epoch 6 : 9447 / 10000\n",
            "Epoch 7 : 9480 / 10000\n",
            "Epoch 8 : 9495 / 10000\n",
            "Epoch 9 : 9487 / 10000\n",
            "Epoch 10 : 9520 / 10000\n",
            "Epoch 11 : 9550 / 10000\n",
            "Epoch 12 : 9540 / 10000\n",
            "Epoch 13 : 9538 / 10000\n",
            "Epoch 14 : 9528 / 10000\n",
            "Epoch 15 : 9547 / 10000\n",
            "Epoch 16 : 9553 / 10000\n",
            "Epoch 17 : 9511 / 10000\n",
            "Epoch 18 : 9527 / 10000\n",
            "Epoch 19 : 9515 / 10000\n",
            "Epoch 20 : 9488 / 10000\n",
            "Epoch 21 : 9519 / 10000\n",
            "Epoch 22 : 9550 / 10000\n",
            "Epoch 23 : 9509 / 10000\n",
            "Epoch 24 : 9595 / 10000\n",
            "Epoch 25 : 9612 / 10000\n",
            "Epoch 26 : 9553 / 10000\n",
            "Epoch 27 : 9523 / 10000\n",
            "Epoch 28 : 9556 / 10000\n"
          ]
        }
      ]
    },
    {
      "cell_type": "markdown",
      "source": [
        "**Conclusion**: \n",
        "\n",
        "Adding another layer with 20 neurons has increased the training time completely. But It does not have significance effect on the overall accuracy.\n",
        "But the accuracy on first epoch was more than 90% and the change of accuracy was gradual."
      ],
      "metadata": {
        "id": "ONiHMy2xe7aL"
      }
    }
  ]
}